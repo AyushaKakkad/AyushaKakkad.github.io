{
  "cells": [
    {
      "cell_type": "markdown",
      "metadata": {
        "id": "FSCr4xKJnhZ6"
      },
      "source": [
        "\n",
        "## Data Collection and Preprocessing\n",
        "## Data Loading\n"
      ]
    },
    {
      "cell_type": "markdown",
      "metadata": {
        "id": "yCZvPTaWyhHY"
      },
      "source": [
        "#### Packages and Libraries Installation"
      ]
    },
    {
      "cell_type": "code",
      "execution_count": null,
      "metadata": {
        "colab": {
          "base_uri": "https://localhost:8080/"
        },
        "id": "e6OBLeClyIKF",
        "outputId": "3e4cf631-9302-4dcb-a94a-5c626f0b1178"
      },
      "outputs": [
        {
          "output_type": "stream",
          "name": "stderr",
          "text": [
            "[nltk_data] Downloading package punkt to /root/nltk_data...\n",
            "[nltk_data]   Package punkt is already up-to-date!\n"
          ]
        },
        {
          "output_type": "execute_result",
          "data": {
            "text/plain": [
              "True"
            ]
          },
          "metadata": {},
          "execution_count": 159
        }
      ],
      "source": [
        "import nltk\n",
        "nltk.download('punkt')"
      ]
    },
    {
      "cell_type": "code",
      "execution_count": null,
      "metadata": {
        "colab": {
          "base_uri": "https://localhost:8080/",
          "height": 206
        },
        "id": "mjieQgrsocnh",
        "outputId": "8b666364-4206-4dc1-de4b-b21d332ea63a"
      },
      "outputs": [
        {
          "output_type": "execute_result",
          "data": {
            "text/plain": [
              "                                        English Sentences  \\\n",
              "43782                                         Article 1\\n   \n",
              "179445                                       Article 4d\\n   \n",
              "5098    the basic characteristics of the bodywork shap...   \n",
              "168583  Acting in accordance with the ordinary legisla...   \n",
              "34778                                          Whereas:\\n   \n",
              "\n",
              "                                          Irish Sentences  source_len  \\\n",
              "43782                                       Airteagal 1\\n           2   \n",
              "179445                          1352/2011 ón gCoimisiún\\n           2   \n",
              "5098    is ionann saintréithe bunúsacha chruth na cabh...          10   \n",
              "168583  Tar éis dóibh an dréachtghníomh reachtach a ch...           8   \n",
              "34778                    De bharr an méid seo a leanas:\\n           1   \n",
              "\n",
              "        target_len  \n",
              "43782            2  \n",
              "179445           3  \n",
              "5098             7  \n",
              "168583          12  \n",
              "34778            7  "
            ],
            "text/html": [
              "\n",
              "  <div id=\"df-5bdea371-8e89-4071-bb6a-4bb5598ce2a7\">\n",
              "    <div class=\"colab-df-container\">\n",
              "      <div>\n",
              "<style scoped>\n",
              "    .dataframe tbody tr th:only-of-type {\n",
              "        vertical-align: middle;\n",
              "    }\n",
              "\n",
              "    .dataframe tbody tr th {\n",
              "        vertical-align: top;\n",
              "    }\n",
              "\n",
              "    .dataframe thead th {\n",
              "        text-align: right;\n",
              "    }\n",
              "</style>\n",
              "<table border=\"1\" class=\"dataframe\">\n",
              "  <thead>\n",
              "    <tr style=\"text-align: right;\">\n",
              "      <th></th>\n",
              "      <th>English Sentences</th>\n",
              "      <th>Irish Sentences</th>\n",
              "      <th>source_len</th>\n",
              "      <th>target_len</th>\n",
              "    </tr>\n",
              "  </thead>\n",
              "  <tbody>\n",
              "    <tr>\n",
              "      <th>43782</th>\n",
              "      <td>Article 1\\n</td>\n",
              "      <td>Airteagal 1\\n</td>\n",
              "      <td>2</td>\n",
              "      <td>2</td>\n",
              "    </tr>\n",
              "    <tr>\n",
              "      <th>179445</th>\n",
              "      <td>Article 4d\\n</td>\n",
              "      <td>1352/2011 ón gCoimisiún\\n</td>\n",
              "      <td>2</td>\n",
              "      <td>3</td>\n",
              "    </tr>\n",
              "    <tr>\n",
              "      <th>5098</th>\n",
              "      <td>the basic characteristics of the bodywork shap...</td>\n",
              "      <td>is ionann saintréithe bunúsacha chruth na cabh...</td>\n",
              "      <td>10</td>\n",
              "      <td>7</td>\n",
              "    </tr>\n",
              "    <tr>\n",
              "      <th>168583</th>\n",
              "      <td>Acting in accordance with the ordinary legisla...</td>\n",
              "      <td>Tar éis dóibh an dréachtghníomh reachtach a ch...</td>\n",
              "      <td>8</td>\n",
              "      <td>12</td>\n",
              "    </tr>\n",
              "    <tr>\n",
              "      <th>34778</th>\n",
              "      <td>Whereas:\\n</td>\n",
              "      <td>De bharr an méid seo a leanas:\\n</td>\n",
              "      <td>1</td>\n",
              "      <td>7</td>\n",
              "    </tr>\n",
              "  </tbody>\n",
              "</table>\n",
              "</div>\n",
              "      <button class=\"colab-df-convert\" onclick=\"convertToInteractive('df-5bdea371-8e89-4071-bb6a-4bb5598ce2a7')\"\n",
              "              title=\"Convert this dataframe to an interactive table.\"\n",
              "              style=\"display:none;\">\n",
              "        \n",
              "  <svg xmlns=\"http://www.w3.org/2000/svg\" height=\"24px\"viewBox=\"0 0 24 24\"\n",
              "       width=\"24px\">\n",
              "    <path d=\"M0 0h24v24H0V0z\" fill=\"none\"/>\n",
              "    <path d=\"M18.56 5.44l.94 2.06.94-2.06 2.06-.94-2.06-.94-.94-2.06-.94 2.06-2.06.94zm-11 1L8.5 8.5l.94-2.06 2.06-.94-2.06-.94L8.5 2.5l-.94 2.06-2.06.94zm10 10l.94 2.06.94-2.06 2.06-.94-2.06-.94-.94-2.06-.94 2.06-2.06.94z\"/><path d=\"M17.41 7.96l-1.37-1.37c-.4-.4-.92-.59-1.43-.59-.52 0-1.04.2-1.43.59L10.3 9.45l-7.72 7.72c-.78.78-.78 2.05 0 2.83L4 21.41c.39.39.9.59 1.41.59.51 0 1.02-.2 1.41-.59l7.78-7.78 2.81-2.81c.8-.78.8-2.07 0-2.86zM5.41 20L4 18.59l7.72-7.72 1.47 1.35L5.41 20z\"/>\n",
              "  </svg>\n",
              "      </button>\n",
              "      \n",
              "  <style>\n",
              "    .colab-df-container {\n",
              "      display:flex;\n",
              "      flex-wrap:wrap;\n",
              "      gap: 12px;\n",
              "    }\n",
              "\n",
              "    .colab-df-convert {\n",
              "      background-color: #E8F0FE;\n",
              "      border: none;\n",
              "      border-radius: 50%;\n",
              "      cursor: pointer;\n",
              "      display: none;\n",
              "      fill: #1967D2;\n",
              "      height: 32px;\n",
              "      padding: 0 0 0 0;\n",
              "      width: 32px;\n",
              "    }\n",
              "\n",
              "    .colab-df-convert:hover {\n",
              "      background-color: #E2EBFA;\n",
              "      box-shadow: 0px 1px 2px rgba(60, 64, 67, 0.3), 0px 1px 3px 1px rgba(60, 64, 67, 0.15);\n",
              "      fill: #174EA6;\n",
              "    }\n",
              "\n",
              "    [theme=dark] .colab-df-convert {\n",
              "      background-color: #3B4455;\n",
              "      fill: #D2E3FC;\n",
              "    }\n",
              "\n",
              "    [theme=dark] .colab-df-convert:hover {\n",
              "      background-color: #434B5C;\n",
              "      box-shadow: 0px 1px 3px 1px rgba(0, 0, 0, 0.15);\n",
              "      filter: drop-shadow(0px 1px 2px rgba(0, 0, 0, 0.3));\n",
              "      fill: #FFFFFF;\n",
              "    }\n",
              "  </style>\n",
              "\n",
              "      <script>\n",
              "        const buttonEl =\n",
              "          document.querySelector('#df-5bdea371-8e89-4071-bb6a-4bb5598ce2a7 button.colab-df-convert');\n",
              "        buttonEl.style.display =\n",
              "          google.colab.kernel.accessAllowed ? 'block' : 'none';\n",
              "\n",
              "        async function convertToInteractive(key) {\n",
              "          const element = document.querySelector('#df-5bdea371-8e89-4071-bb6a-4bb5598ce2a7');\n",
              "          const dataTable =\n",
              "            await google.colab.kernel.invokeFunction('convertToInteractive',\n",
              "                                                     [key], {});\n",
              "          if (!dataTable) return;\n",
              "\n",
              "          const docLinkHtml = 'Like what you see? Visit the ' +\n",
              "            '<a target=\"_blank\" href=https://colab.research.google.com/notebooks/data_table.ipynb>data table notebook</a>'\n",
              "            + ' to learn more about interactive tables.';\n",
              "          element.innerHTML = '';\n",
              "          dataTable['output_type'] = 'display_data';\n",
              "          await google.colab.output.renderOutput(dataTable, element);\n",
              "          const docLink = document.createElement('div');\n",
              "          docLink.innerHTML = docLinkHtml;\n",
              "          element.appendChild(docLink);\n",
              "        }\n",
              "      </script>\n",
              "    </div>\n",
              "  </div>\n",
              "  "
            ]
          },
          "metadata": {},
          "execution_count": 160
        }
      ],
      "source": [
        "import pandas as pd\n",
        "from sklearn.model_selection import train_test_split\n",
        "\n",
        "#read dataset\n",
        "with open('DGT.en-ga.en', 'r', encoding='utf-8') as e:\n",
        "    english_sent = e.readlines()\n",
        "\n",
        "with open('DGT.en-ga.ga', 'r', encoding='utf-8') as ir:\n",
        "    irish_sent = ir.readlines()\n",
        "\n",
        "sent_data = {'English Sentences':english_sent,'Irish Sentences':irish_sent}\n",
        "\n",
        "#create dataframe\n",
        "df_sent_data = pd.DataFrame(sent_data)\n",
        "df_sent_data = df_sent_data.dropna()\n",
        "\n",
        "#Sample 12000 rows\n",
        "df_sent_data[\"source_len\"] = df_sent_data[\"English Sentences\"].apply(lambda x: len(x.split(\" \")))\n",
        "df_sent_data[\"target_len\"]= df_sent_data[\"Irish Sentences\"].apply(lambda x: len(x.split(\" \")))\n",
        "\n",
        "sampled_data = df_sent_data.query(\"source_len <= 15\").query(\"target_len <= 15\").sample(12000, random_state=2015,replace = False)\n",
        "\n",
        "sampled_data.head(5)"
      ]
    },
    {
      "cell_type": "code",
      "execution_count": null,
      "metadata": {
        "colab": {
          "base_uri": "https://localhost:8080/"
        },
        "id": "1IUKk80wqC6p",
        "outputId": "94254b2e-1426-4781-d26e-ab183a43b98c"
      },
      "outputs": [
        {
          "output_type": "execute_result",
          "data": {
            "text/plain": [
              "15"
            ]
          },
          "metadata": {},
          "execution_count": 161
        }
      ],
      "source": [
        "max(sampled_data.target_len)"
      ]
    },
    {
      "cell_type": "markdown",
      "metadata": {
        "id": "8UUU_em69rjh"
      },
      "source": [
        "#### Train-Development-Test Split"
      ]
    },
    {
      "cell_type": "code",
      "execution_count": null,
      "metadata": {
        "colab": {
          "base_uri": "https://localhost:8080/"
        },
        "id": "AGL4owio9qes",
        "outputId": "4267729d-20f9-4627-b222-cc30049b95da"
      },
      "outputs": [
        {
          "output_type": "stream",
          "name": "stdout",
          "text": [
            "Datasets => Train 10000 | Val 1000 | Test 1000\n"
          ]
        }
      ],
      "source": [
        "train, test = train_test_split(sampled_data, test_size=1000, random_state=2023)\n",
        "train, val = train_test_split(train, test_size=1000, random_state=2023)\n",
        "\n",
        "train[\"split\"] = \"train\"\n",
        "val[\"split\"] = \"val\"\n",
        "test[\"split\"] = \"test\"\n",
        "\n",
        "dataset = pd.concat([train, val, test])\n",
        "\n",
        "print(f\"Datasets => Train {len(train)} | Val {len(val)} | Test {len(test)}\")"
      ]
    },
    {
      "cell_type": "markdown",
      "metadata": {
        "id": "ejav7LUqokNc"
      },
      "source": [
        "## Preprocessing\n",
        "\n",
        "\n"
      ]
    },
    {
      "cell_type": "markdown",
      "metadata": {
        "id": "Cks7HsYDnD0N"
      },
      "source": [
        "#### Lowercase, Remove punctuation and Tokenize text"
      ]
    },
    {
      "cell_type": "code",
      "execution_count": null,
      "metadata": {
        "id": "CGC-CvmHojdB"
      },
      "outputs": [],
      "source": [
        "from nltk.tokenize import word_tokenize\n",
        "from typing import List\n",
        "import re\n",
        "\n",
        "class Langauge:\n",
        "  def __init__(self, lang: str):\n",
        "    # Name of the langauge\n",
        "    self.lang = lang\n",
        "    # Mapping of each word in vocabulary to id\n",
        "    self.word2idx = {\"PAD\": 0, \"BOF\": 1, \"EOS\": 2}\n",
        "    # Reverse mapping from id to word in vocabulary\n",
        "    self.idx2word = {0: \"PAD\", 1: \"BOF\", 2: \"EOS\"}\n",
        "    # Count of each word in vocabulary\n",
        "    self.word2cnt = {}\n",
        "    # number of words present in vocabulary\n",
        "    self.n_words = len(self.idx2word)\n",
        "\n",
        "  def addSentence(self, sentence: str):\n",
        "    \"\"\"\n",
        "    Given a sentence, lowercase is and remove any punctuation. Tokenize the\n",
        "    sentence and for each word in the tokenized list call the addWord method.\n",
        "    \"\"\"\n",
        "    txt = sentence.lower()\n",
        "    clean_text = re.sub(r'[^\\w\\s]', '', txt).strip()\n",
        "    for word in word_tokenize(clean_text):\n",
        "      self.addWord(word)\n",
        "\n",
        "  def addWord(self, word: str):\n",
        "    \"\"\"\n",
        "    For each input word, check if it exists in the the word2index. If it does\n",
        "    not, add the word to the word2index and set the value to the current\n",
        "    vocabulary length. Update the index2word entry as well which maps the token\n",
        "    id to the word. Finaally update the vocabulary count (n_words).\n",
        "\n",
        "    If the word is already in the vocabulary, udpate the count.\n",
        "    \"\"\"\n",
        "    if word not in self.word2idx:\n",
        "      self.word2idx[word] = self.n_words\n",
        "      self.word2cnt[word] = 1\n",
        "      self.idx2word[self.n_words] = word\n",
        "      self.n_words += 1\n",
        "    else:\n",
        "      self.word2cnt[word] += 1\n",
        "\n",
        "  def encodeSentence(self, sentence: str) -> List[int]:\n",
        "    \"\"\"\n",
        "    Given a sentence:\n",
        "      1. Lower case it\n",
        "      2. Remove all punctuation\n",
        "      3. Prepend SOS and append EOS to it.\n",
        "      4. Tokenize it and return the word ids for each word in the tokenized list. If a word\n",
        "      does not exist in the vocab, skip over it.\n",
        "\n",
        "      Return a list of word ids.\n",
        "    \"\"\"\n",
        "    txt = sentence.lower()\n",
        "    clean_txt = re.sub(r'[^\\w\\s]', '',txt).strip()\n",
        "    clean_txt = \"BOF \" + clean_txt + \" EOS\"\n",
        "    return [self.word2idx[word] for word in word_tokenize(clean_txt) if word in self.word2idx]\n",
        "\n",
        "  def decodeIds(self, ids: list) -> List[str]:\n",
        "    \"\"\"\n",
        "    Given a list of word ids, look the ids in the index2word and return a\n",
        "    string representing the decoded sentence.\n",
        "    \"\"\"\n",
        "    return \" \".join([self.idx2word[tok] for tok in ids])"
      ]
    },
    {
      "cell_type": "markdown",
      "metadata": {
        "id": "oa-hD3bfnQMa"
      },
      "source": [
        "#### Build seperate vocabularies for English and Irish Language."
      ]
    },
    {
      "cell_type": "code",
      "execution_count": null,
      "metadata": {
        "colab": {
          "base_uri": "https://localhost:8080/",
          "height": 84,
          "referenced_widgets": [
            "8ce4784b891a4f46b48c90b40a3b0601",
            "7a2b6a7923fc401781632d6ae6f974de",
            "5209051af9ed48669fac99727c39e47b",
            "ba51beb4ee8b4b35bb81ffdaa008edb3",
            "142abefc332f49bbbb3bd54fabf1272c",
            "86d4293d59bf49d98abfc2ba6a57b859",
            "6eb77bac79ec4a1f90e07a3c988e19e0",
            "7599215a67c0409b972b58ed16fa2783",
            "17f62e6ea2e94127aa38dde63b3206c6",
            "88a1f88df9814fe9bf4506dbeba9664f",
            "a3f5b885d31e4de49fb1afd006264772"
          ]
        },
        "id": "c2q7iUxjms6Q",
        "outputId": "56562049-c268-42f0-9f13-28d19257c189"
      },
      "outputs": [
        {
          "output_type": "display_data",
          "data": {
            "text/plain": [
              "  0%|          | 0/12000 [00:00<?, ?it/s]"
            ],
            "application/vnd.jupyter.widget-view+json": {
              "version_major": 2,
              "version_minor": 0,
              "model_id": "8ce4784b891a4f46b48c90b40a3b0601"
            }
          },
          "metadata": {}
        },
        {
          "output_type": "stream",
          "name": "stdout",
          "text": [
            "Size of Irish vocab: 9700\n",
            "Size of English vocab: 7986\n"
          ]
        }
      ],
      "source": [
        "from tqdm.notebook import tqdm\n",
        "\n",
        "english = Langauge(\"english\")\n",
        "irish = Langauge(\"irish\")\n",
        "\n",
        "for _, row in tqdm(dataset.iterrows(), total=len(dataset)):\n",
        "  english.addSentence(row[\"English Sentences\"])\n",
        "  irish.addSentence(row[\"Irish Sentences\"])\n",
        "print(f\"Size of Irish vocab: {irish.n_words}\")\n",
        "print(f\"Size of English vocab: {english.n_words}\")"
      ]
    },
    {
      "cell_type": "markdown",
      "metadata": {
        "id": "61b0hp1an9kF"
      },
      "source": [
        "#### Print Statistics"
      ]
    },
    {
      "cell_type": "markdown",
      "metadata": {
        "id": "oE3znwskmJrm"
      },
      "source": [
        "Number of Samples"
      ]
    },
    {
      "cell_type": "code",
      "execution_count": null,
      "metadata": {
        "colab": {
          "base_uri": "https://localhost:8080/"
        },
        "id": "ulUAdSNVl1L7",
        "outputId": "120814f8-b472-42dd-806c-2cc8c947372d"
      },
      "outputs": [
        {
          "output_type": "stream",
          "name": "stdout",
          "text": [
            " Number of samples are:  12000\n"
          ]
        }
      ],
      "source": [
        "print(f\" Number of samples are: \", len(sampled_data))"
      ]
    },
    {
      "cell_type": "markdown",
      "metadata": {
        "id": "QEWn1tj9mOnD"
      },
      "source": [
        "Maximum sequence length of Source Language"
      ]
    },
    {
      "cell_type": "code",
      "execution_count": null,
      "metadata": {
        "colab": {
          "base_uri": "https://localhost:8080/"
        },
        "id": "dBK9hFO8l0-z",
        "outputId": "f5bc7d2c-0a15-46f6-c69d-2707b3f770b7"
      },
      "outputs": [
        {
          "output_type": "stream",
          "name": "stdout",
          "text": [
            " Maximum sequence length of English(source) Language is: 15\n"
          ]
        }
      ],
      "source": [
        "print(f\" Maximum sequence length of English(source) Language is:\" ,max(sampled_data.source_len))"
      ]
    },
    {
      "cell_type": "markdown",
      "metadata": {
        "id": "n5uf90csmX1Y"
      },
      "source": [
        "Maximum sequence length of Target Language"
      ]
    },
    {
      "cell_type": "code",
      "execution_count": null,
      "metadata": {
        "colab": {
          "base_uri": "https://localhost:8080/"
        },
        "id": "6MNBh4y2n71d",
        "outputId": "9288c355-fd75-4fac-ce18-6ceb394b8ed8"
      },
      "outputs": [
        {
          "output_type": "stream",
          "name": "stdout",
          "text": [
            " Maximum sequence length of Irish(target) Language is: 15\n"
          ]
        }
      ],
      "source": [
        "print(f\" Maximum sequence length of Irish(target) Language is:\" ,max(sampled_data.target_len))"
      ]
    },
    {
      "cell_type": "markdown",
      "metadata": {
        "id": "XcEOdIjHnWMN"
      },
      "source": [
        "Number of unique source language tokens"
      ]
    },
    {
      "cell_type": "code",
      "execution_count": null,
      "metadata": {
        "colab": {
          "base_uri": "https://localhost:8080/"
        },
        "id": "tK-m6fStnVzM",
        "outputId": "10f9f2b1-820d-4b77-ef98-b624d464df82"
      },
      "outputs": [
        {
          "output_type": "stream",
          "name": "stdout",
          "text": [
            " Number of unique source language(english) token are: 7986\n"
          ]
        }
      ],
      "source": [
        "print(f\" Number of unique source language(english) token are:\" , english.n_words)"
      ]
    },
    {
      "cell_type": "markdown",
      "metadata": {
        "id": "VXkNoC05nNXi"
      },
      "source": [
        "Number of unique target language tokens"
      ]
    },
    {
      "cell_type": "code",
      "execution_count": null,
      "metadata": {
        "colab": {
          "base_uri": "https://localhost:8080/"
        },
        "id": "DyQrlX3WqTYU",
        "outputId": "28b98b33-e350-4d1b-a776-9c7a6664df79"
      },
      "outputs": [
        {
          "output_type": "stream",
          "name": "stdout",
          "text": [
            " Number of unique source language(irish) token are: 9700\n"
          ]
        }
      ],
      "source": [
        "print(f\" Number of unique source language(irish) token are:\" , irish.n_words)"
      ]
    },
    {
      "cell_type": "markdown",
      "metadata": {
        "id": "oauhQ1fjsC69"
      },
      "source": [
        "## Encoder-Decoder Model Implementation and Training\n",
        "\n",
        "\n"
      ]
    },
    {
      "cell_type": "code",
      "execution_count": null,
      "metadata": {
        "id": "ZKHt2PwzQXGY"
      },
      "outputs": [],
      "source": [
        "import torch\n",
        "import torch.nn as nn"
      ]
    },
    {
      "cell_type": "code",
      "execution_count": null,
      "metadata": {
        "id": "7gvR8hz0tMoG"
      },
      "outputs": [],
      "source": [
        "class Encoder_Model(nn.Module):\n",
        "    def __init__(self, input_dim, emb_dim, hid_dim, dropout):\n",
        "        super().__init__()\n",
        "\n",
        "        self.hid_dim = hid_dim\n",
        "\n",
        "        self.embedding = nn.Embedding(input_dim, emb_dim)\n",
        "\n",
        "        self.rnn = nn.GRU(emb_dim, hid_dim)\n",
        "\n",
        "        self.dropout = nn.Dropout(dropout)\n",
        "\n",
        "    def forward(self, src):\n",
        "\n",
        "        embedded = self.dropout(self.embedding(src))\n",
        "\n",
        "        outputs, hidden = self.rnn(embedded)\n",
        "\n",
        "        return hidden"
      ]
    },
    {
      "cell_type": "code",
      "execution_count": null,
      "metadata": {
        "id": "PoHE6HyB0vOl"
      },
      "outputs": [],
      "source": [
        "class Decoder_Model(nn.Module):\n",
        "    def __init__(self, output_dim, emb_dim, hid_dim, dropout):\n",
        "        super().__init__()\n",
        "\n",
        "        self.hid_dim = hid_dim\n",
        "        self.output_dim = output_dim\n",
        "\n",
        "        self.embedding = nn.Embedding(output_dim, emb_dim)\n",
        "\n",
        "        self.rnn = nn.GRU(emb_dim + hid_dim, hid_dim)\n",
        "\n",
        "        self.fc_out = nn.Linear(emb_dim + hid_dim * 2, output_dim)\n",
        "\n",
        "        self.dropout = nn.Dropout(dropout)\n",
        "\n",
        "    def forward(self, input, hidden, context):\n",
        "\n",
        "        input = input.unsqueeze(0)\n",
        "\n",
        "        embedded = self.dropout(self.embedding(input))\n",
        "\n",
        "        emb_con = torch.cat((embedded, context), dim = 2)\n",
        "\n",
        "        output, hidden = self.rnn(emb_con, hidden)\n",
        "\n",
        "        output = torch.cat((embedded.squeeze(0), hidden.squeeze(0), context.squeeze(0)),\n",
        "                           dim = 1)\n",
        "\n",
        "        prediction = self.fc_out(output)\n",
        "\n",
        "        return prediction, hidden"
      ]
    },
    {
      "cell_type": "code",
      "execution_count": null,
      "metadata": {
        "id": "Q_bcM_Oh3G-y"
      },
      "outputs": [],
      "source": [
        "class Sequence_Model(nn.Module):\n",
        "    def __init__(self, encoder, decoder, device):\n",
        "        super().__init__()\n",
        "\n",
        "        self.encoder = encoder\n",
        "        self.decoder = decoder\n",
        "        self.device = device\n",
        "\n",
        "        assert encoder.hid_dim == decoder.hid_dim, \\\n",
        "            \"Hidden dimensions of encoder model and decoder model are not equal!\"\n",
        "\n",
        "    def forward(self, src, trg, teacher_forcing_ratio = 0.5):\n",
        "\n",
        "        batch_size = trg.shape[1]\n",
        "        trg_len = trg.shape[0]\n",
        "        trg_vocab_size = self.decoder.output_dim\n",
        "\n",
        "        #tensor to store decoder outputs\n",
        "        outputs = torch.zeros(trg_len, batch_size, trg_vocab_size).to(self.device)\n",
        "\n",
        "        context = self.encoder(src)\n",
        "\n",
        "        hidden = context\n",
        "\n",
        "        input = trg[0,:]\n",
        "\n",
        "        for t in range(1, trg_len):\n",
        "\n",
        "            output, hidden = self.decoder(input, hidden, context)\n",
        "\n",
        "            #predictions in a tensor placed for each token\n",
        "            outputs[t] = output\n",
        "\n",
        "            teacher_force = random.random() < teacher_forcing_ratio\n",
        "\n",
        "            top1 = output.argmax(1)\n",
        "\n",
        "            input = trg[t] if teacher_force else top1\n",
        "\n",
        "        return outputs"
      ]
    },
    {
      "cell_type": "code",
      "execution_count": null,
      "metadata": {
        "id": "hNXWlm_c74nD"
      },
      "outputs": [],
      "source": [
        "INPUT_DIMENS = english.n_words\n",
        "OUTPUT_DIMENS = irish.n_words\n",
        "ENC_EMB_DIMENS = 256\n",
        "DEC_EMB_DIMENS = 256\n",
        "HID_DIMENS = 256\n",
        "ENCODER_DROPOUT = 0.5\n",
        "DECODER_DROPOUT = 0.5\n",
        "\n",
        "enc = Encoder_Model(INPUT_DIMENS, ENC_EMB_DIMENS, HID_DIMENS, ENCODER_DROPOUT)\n",
        "dec = Decoder_Model(OUTPUT_DIMENS, DEC_EMB_DIMENS, HID_DIMENS, DECODER_DROPOUT)\n",
        "\n",
        "device = torch.device('cuda' if torch.cuda.is_available() else 'cpu')\n",
        "\n",
        "model = Sequence_Model(enc, dec, device).to(device)"
      ]
    },
    {
      "cell_type": "code",
      "execution_count": null,
      "metadata": {
        "id": "prF7lMwd8Bkj",
        "colab": {
          "base_uri": "https://localhost:8080/"
        },
        "outputId": "83fe3687-66bf-45ed-9410-67d57a909ad2"
      },
      "outputs": [
        {
          "output_type": "execute_result",
          "data": {
            "text/plain": [
              "Sequence_Model(\n",
              "  (encoder): Encoder_Model(\n",
              "    (embedding): Embedding(7986, 256)\n",
              "    (rnn): GRU(256, 256)\n",
              "    (dropout): Dropout(p=0.5, inplace=False)\n",
              "  )\n",
              "  (decoder): Decoder_Model(\n",
              "    (embedding): Embedding(9700, 256)\n",
              "    (rnn): GRU(512, 256)\n",
              "    (fc_out): Linear(in_features=768, out_features=9700, bias=True)\n",
              "    (dropout): Dropout(p=0.5, inplace=False)\n",
              "  )\n",
              ")"
            ]
          },
          "metadata": {},
          "execution_count": 175
        }
      ],
      "source": [
        "def init_weights(m):\n",
        "    for name, param in m.named_parameters():\n",
        "        nn.init.normal_(param.data, mean=0, std=0.01)\n",
        "\n",
        "model.apply(init_weights)"
      ]
    },
    {
      "cell_type": "code",
      "source": [
        "import torch.optim as optim\n",
        "optimizer = optim.Adam(model.parameters())"
      ],
      "metadata": {
        "id": "Llh9so1_YMAF"
      },
      "execution_count": null,
      "outputs": []
    },
    {
      "cell_type": "markdown",
      "metadata": {
        "id": "yqdYhxa1uiqF"
      },
      "source": [
        "## Training the Encoder-Decoder Model\n"
      ]
    },
    {
      "cell_type": "code",
      "execution_count": null,
      "metadata": {
        "colab": {
          "base_uri": "https://localhost:8080/"
        },
        "id": "aeaB9TalHOJu",
        "outputId": "b3dbad5b-d61b-4c50-fabb-e81d047e509e"
      },
      "outputs": [
        {
          "output_type": "stream",
          "name": "stdout",
          "text": [
            "Shapes of train source (10000, 10), and target (10000, 10)\n"
          ]
        }
      ],
      "source": [
        "import torch\n",
        "from tensorflow.keras.utils import pad_sequences\n",
        "import pandas as pd\n",
        "\n",
        "def encode_features(\n",
        "    df: pd.DataFrame,\n",
        "    english: Langauge,\n",
        "    irish: Langauge,\n",
        "    pad_token: int = 0,\n",
        "    max_seq_length = 10\n",
        "  ):\n",
        "\n",
        "  source = []\n",
        "  target = []\n",
        "\n",
        "  for _, row in df.iterrows():\n",
        "    source.append(english.encodeSentence(row[\"English Sentences\"]))\n",
        "    target.append(irish.encodeSentence(row[\"Irish Sentences\"]))\n",
        "\n",
        "  source = pad_sequences(\n",
        "      source,\n",
        "      maxlen=max_seq_length,\n",
        "      padding=\"post\",\n",
        "      truncating = \"post\",\n",
        "      value=pad_token\n",
        "    )\n",
        "\n",
        "  target = pad_sequences(\n",
        "      target,\n",
        "      maxlen=max_seq_length,\n",
        "      padding=\"post\",\n",
        "      truncating = \"post\",\n",
        "      value=pad_token\n",
        "    )\n",
        "\n",
        "  return source, target\n",
        "\n",
        "train_source, train_target = encode_features(train, english, irish)\n",
        "val_source, val_target = encode_features(val, english, irish)\n",
        "test_source, test_target = encode_features(test, english, irish)\n",
        "\n",
        "print(f\"Shapes of train source {train_source.shape}, and target {train_target.shape}\")"
      ]
    },
    {
      "cell_type": "code",
      "execution_count": null,
      "metadata": {
        "id": "4cZ-6zHtwkZn"
      },
      "outputs": [],
      "source": [
        "from torch.utils.data import DataLoader, TensorDataset\n",
        "\n",
        "train_dl = DataLoader(\n",
        "    TensorDataset(\n",
        "        torch.LongTensor(train_source),\n",
        "        torch.LongTensor(train_target)\n",
        "    ),\n",
        "    shuffle = True,\n",
        "    batch_size = 32\n",
        ")\n",
        "\n",
        "val_dl = DataLoader(\n",
        "    TensorDataset(\n",
        "        torch.LongTensor(val_source),\n",
        "        torch.LongTensor(val_target)\n",
        "    ),\n",
        "    shuffle = False,\n",
        "    batch_size = 32\n",
        ")\n",
        "\n",
        "test_dl = DataLoader(\n",
        "    TensorDataset(\n",
        "        torch.LongTensor(test_source),\n",
        "        torch.LongTensor(test_target)\n",
        "    ),\n",
        "    shuffle = False,\n",
        "    batch_size = 32\n",
        ")"
      ]
    },
    {
      "cell_type": "code",
      "source": [
        "import torch.nn.functional as F"
      ],
      "metadata": {
        "id": "d3EL_mfwYr3a"
      },
      "execution_count": null,
      "outputs": []
    },
    {
      "cell_type": "code",
      "source": [
        "loss_criteria = nn.CrossEntropyLoss()"
      ],
      "metadata": {
        "id": "oCl5Q1LdfpE4"
      },
      "execution_count": null,
      "outputs": []
    },
    {
      "cell_type": "code",
      "source": [
        "optimizer = optim.Adam(model.parameters())"
      ],
      "metadata": {
        "id": "t998Q-kNfotO"
      },
      "execution_count": null,
      "outputs": []
    },
    {
      "cell_type": "code",
      "source": [
        "from tqdm.notebook import tqdm\n",
        "import random\n",
        "import numpy as np\n",
        "\n",
        "optimizer = torch.optim.Adam(model.parameters())\n",
        "\n",
        "loss_criteria = nn.CrossEntropyLoss()\n",
        "\n",
        "def train(model, train_dl, dev_dl, optimizer, loss_criteria, epochs):\n",
        "  for epoch in range(epochs):\n",
        "\n",
        "    # Model Train\n",
        "    model.train()\n",
        "    train_loss = 0\n",
        "    num_batches = 0\n",
        "    for batch in train_dl:\n",
        "         src, trg = batch\n",
        "         src = src.to(device)\n",
        "         trg = trg.to(device)\n",
        "\n",
        "         optimizer.zero_grad()\n",
        "\n",
        "    output = model(src, trg)\n",
        "\n",
        "    output_dim = output.shape[-1]\n",
        "    output = output[1:].view(-1, output_dim)\n",
        "    trg = trg[1:].view(-1)\n",
        "\n",
        "    loss = loss_criteria(output, trg)\n",
        "    loss.backward()\n",
        "\n",
        "    optimizer.step()\n",
        "\n",
        "    train_loss += loss.item()\n",
        "    num_batches += 1\n",
        "\n",
        "    train_loss /= num_batches\n",
        "\n",
        "# Model Evaluate\n",
        "    model.eval()\n",
        "    eval_loss = 0\n",
        "    num_batches = 0\n",
        "    with torch.no_grad():\n",
        "     for batch in dev_dl:\n",
        "      src, trg = batch\n",
        "      src = src.to(device)\n",
        "      trg = trg.to(device)\n",
        "\n",
        "    output = model(src, trg, 0)\n",
        "    output_dimen = output.shape[-1]\n",
        "    output = output[1:].view(-1, output_dimen)\n",
        "    trg = trg[1:].view(-1)\n",
        "    #loss calculate\n",
        "    loss = loss_criteria(output, trg)\n",
        "\n",
        "    eval_loss += loss.item()\n",
        "    num_batches += 1\n",
        "    eval_loss /= num_batches\n",
        "\n",
        "    print(f\"Epoch {epoch + 1}: Train loss = {train_loss:.4f}, Eval loss = {eval_loss:.4f}\")"
      ],
      "metadata": {
        "id": "3-pQ-EguixbP"
      },
      "execution_count": null,
      "outputs": []
    },
    {
      "cell_type": "code",
      "source": [
        "epochs = 5\n",
        "train(model, train_dl, val_dl, optimizer, loss_criteria, epochs)"
      ],
      "metadata": {
        "colab": {
          "base_uri": "https://localhost:8080/"
        },
        "id": "L6bmG3mrjMq2",
        "outputId": "fdfbc475-c618-43a5-e5e0-c83c61bf7902"
      },
      "execution_count": null,
      "outputs": [
        {
          "output_type": "stream",
          "name": "stdout",
          "text": [
            "Epoch 1: Train loss = 8.9949, Eval loss = 8.9294\n",
            "Epoch 2: Train loss = 8.9331, Eval loss = 8.7360\n",
            "Epoch 3: Train loss = 8.6378, Eval loss = 8.4028\n",
            "Epoch 4: Train loss = 8.0132, Eval loss = 7.8383\n",
            "Epoch 5: Train loss = 7.0070, Eval loss = 6.9821\n"
          ]
        }
      ]
    },
    {
      "cell_type": "markdown",
      "metadata": {
        "id": "QofrQ1GAwnDz"
      },
      "source": [
        "# Evaluation on the Test Set using BLEU Metric\n"
      ]
    },
    {
      "cell_type": "code",
      "source": [
        "def translate_sentence(\n",
        "    text: str,\n",
        "    model: model,\n",
        "    english: Langauge,\n",
        "    irish: Langauge,\n",
        "    device: str,\n",
        "    max_len: int = 10,\n",
        "  ) -> str:\n",
        "\n",
        "  # Encode english sentence and convert to tensor\n",
        "  input_ids = english.encodeSentence(text)\n",
        "  input_tensor = torch.LongTensor(input_ids).unsqueeze(1).to(device)\n",
        "\n",
        "  # Get encooder hidden states\n",
        "  with torch.no_grad():\n",
        "    hidden = model.encoder(input_tensor)\n",
        "\n",
        "  # Build target holder list\n",
        "  trg_indexes = [irish.word2idx[\"BOF\"]]\n",
        "\n",
        "  # Loop over sequence length of target sentence\n",
        "  for i in range(max_len):\n",
        "    trg_tensor = torch.LongTensor([trg_indexes[-1]]).to(device)\n",
        "\n",
        "    # Decode the encoder outputs with respect to current target word\n",
        "    with torch.no_grad():\n",
        "      output, hidden = model.decoder(trg_tensor, hidden, hidden)\n",
        "\n",
        "    # Retrieve most likely word over target distribution\n",
        "    pred_token = torch.argmax(output).item()\n",
        "    trg_indexes.append(pred_token)\n",
        "\n",
        "    if pred_token == irish.word2idx[\"EOS\"]:\n",
        "      break\n",
        "  return \"\".join(irish.decodeIds(trg_indexes))"
      ],
      "metadata": {
        "id": "wZRJRPpvj801"
      },
      "execution_count": null,
      "outputs": []
    },
    {
      "cell_type": "code",
      "source": [
        "for _, row in tqdm(test.iterrows(), total=len(test)):\n",
        "\n",
        " translate_sentence(row['Irish Sentences'], model , english, irish, device)"
      ],
      "metadata": {
        "colab": {
          "base_uri": "https://localhost:8080/",
          "height": 49,
          "referenced_widgets": [
            "90a283e74fa14f1f952f5e969b297681",
            "b1c3e51fb1134430bd3a6e4afe17861f",
            "4471e8167c7b4b5bb3a8cf1b5ee64c39",
            "1db95767c3f548ddbdad8131210ec482",
            "786a1bcc9c454038b4565f3ac72b0508",
            "bdc875970ff1428cbcebfbc6dbc8e7ce",
            "3104f587c2ec465e82bb53ec56afd9ba",
            "854d4a5a69de4c1093259e0533302ff8",
            "760ec693da294375a8be930911ae897f",
            "43547d1a544b4054b1cd5fbf57f447bb",
            "d1f83387a8cd4f1ba9b10215727edc0b"
          ]
        },
        "id": "UTFfqnyNpdcJ",
        "outputId": "d24c5226-3803-4a66-d8d8-19fdc4fc894e"
      },
      "execution_count": null,
      "outputs": [
        {
          "output_type": "display_data",
          "data": {
            "text/plain": [
              "  0%|          | 0/1000 [00:00<?, ?it/s]"
            ],
            "application/vnd.jupyter.widget-view+json": {
              "version_major": 2,
              "version_minor": 0,
              "model_id": "90a283e74fa14f1f952f5e969b297681"
            }
          },
          "metadata": {}
        }
      ]
    },
    {
      "cell_type": "code",
      "source": [
        "def bleu_score1(reference_sentence, translate_sentence):\n",
        "  return len([word for word in translate_sentence if word in reference_sentence])/len(reference_sentence)\n",
        "\n",
        "bl = []\n",
        "\n",
        "for _, row in tqdm(test.iterrows(), total=len(test)):\n",
        "  bl.append(bleu_score1(row['Irish Sentences'], translate_sentence(row['Irish Sentences'], model , english, irish, device)))"
      ],
      "metadata": {
        "colab": {
          "base_uri": "https://localhost:8080/",
          "height": 49,
          "referenced_widgets": [
            "beb8ce005e904366a2bd5a5f12760e54",
            "bc4f71dccde2486aa7e4898d43c3a280",
            "09f3a591a62c4c1b9bf1098bef9f4eef",
            "1287e67999c64383b2fed3043a67d952",
            "c9d2a659e26d4897a6a3ca0182a6b92e",
            "bec5724317574905907688e052a78486",
            "24477a8c1db74038a78b994fc5bb0b7c",
            "325398e5daaa46ff9151e5363578bf05",
            "0a384e43c1184a68b44287cee2560449",
            "f0859ce07ab741669075693d49f40634",
            "17fbc004f66d40438b5c2f679911c49c"
          ]
        },
        "id": "tiQVQFK3nZAQ",
        "outputId": "3c645714-3753-4a6d-cdb4-c97184680108"
      },
      "execution_count": null,
      "outputs": [
        {
          "output_type": "display_data",
          "data": {
            "text/plain": [
              "  0%|          | 0/1000 [00:00<?, ?it/s]"
            ],
            "application/vnd.jupyter.widget-view+json": {
              "version_major": 2,
              "version_minor": 0,
              "model_id": "beb8ce005e904366a2bd5a5f12760e54"
            }
          },
          "metadata": {}
        }
      ]
    },
    {
      "cell_type": "code",
      "source": [
        "print(\"Bleu Score is:\",bl)\n",
        "\n",
        "mean_bl = sum(bl)/len(bl)\n",
        "print(\"Average Bleu Score is:\",mean_bl)"
      ],
      "metadata": {
        "colab": {
          "base_uri": "https://localhost:8080/"
        },
        "id": "in4SxzqvqrSm",
        "outputId": "f12f5c63-7fdf-49cb-f3a6-d6aeb5cc0f7e"
      },
      "execution_count": null,
      "outputs": [
        {
          "output_type": "stream",
          "name": "stdout",
          "text": [
            "Bleu Score is: [1.6666666666666667, 0.11235955056179775, 0.12048192771084337, 0.136986301369863, 0.13157894736842105, 0.11494252873563218, 1.1764705882352942, 0.37735849056603776, 1.25, 0.2608695652173913, 0.625, 0.8333333333333334, 0.2127659574468085, 1.6666666666666667, 2.8181818181818183, 1.5384615384615385, 0.8333333333333334, 0.12345679012345678, 1.5384615384615385, 1.9090909090909092, 0.22826086956521738, 0.42857142857142855, 0.15748031496062992, 1.0, 1.5384615384615385, 1.6666666666666667, 1.5384615384615385, 0.7142857142857143, 0.23529411764705882, 0.3448275862068966, 0.14285714285714285, 0.3548387096774194, 2.3846153846153846, 0.11494252873563218, 0.24096385542168675, 1.4285714285714286, 0.2619047619047619, 1.375, 0.15151515151515152, 0.0, 1.4285714285714286, 0.8333333333333334, 2.5, 0.29850746268656714, 0.12987012987012986, 1.5384615384615385, 0.1111111111111111, 0.2127659574468085, 1.6666666666666667, 0.12048192771084337, 0.36666666666666664, 0.0, 0.19444444444444445, 1.5384615384615385, 2.3846153846153846, 0.8695652173913043, 0.8333333333333334, 0.45454545454545453, 0.5263157894736842, 1.1764705882352942, 0.29411764705882354, 0.2564102564102564, 0.8378378378378378, 0.8333333333333334, 0.18691588785046728, 0.5, 0.38461538461538464, 0.9090909090909091, 0.3508771929824561, 0.21153846153846154, 0.17857142857142858, 0.3333333333333333, 0.28378378378378377, 0.5, 0.47619047619047616, 0.40540540540540543, 0.5555555555555556, 0.9166666666666666, 1.4, 0.7692307692307693, 0.29850746268656714, 0.21505376344086022, 0.19230769230769232, 0.6666666666666666, 0.5, 1.6666666666666667, 0.13513513513513514, 0.14705882352941177, 0.2, 0.14102564102564102, 0.8461538461538461, 0.9166666666666666, 0.4230769230769231, 0.0, 1.5384615384615385, 0.19230769230769232, 1.1111111111111112, 0.5555555555555556, 0.6666666666666666, 0.11627906976744186, 0.5555555555555556, 1.875, 0.24096385542168675, 0.35714285714285715, 0.24390243902439024, 0.5405405405405406, 0.3225806451612903, 0.20833333333333334, 0.4074074074074074, 0.0, 0.0, 0.7142857142857143, 0.3548387096774194, 1.5384615384615385, 0.35714285714285715, 0.5555555555555556, 0.9090909090909091, 0.0, 1.25, 0.2972972972972973, 0.21782178217821782, 0.15873015873015872, 0.5789473684210527, 0.18867924528301888, 1.6666666666666667, 0.9523809523809523, 0.5, 0.5, 0.5166666666666667, 0.36666666666666664, 0.273972602739726, 1.5384615384615385, 0.15942028985507245, 1.4285714285714286, 0.47619047619047616, 0.28205128205128205, 0.6666666666666666, 1.5384615384615385, 0.09090909090909091, 0.9090909090909091, 1.5, 1.5384615384615385, 0.14102564102564102, 1.0, 0.25, 0.0, 0.9523809523809523, 0.136986301369863, 0.0, 0.14285714285714285, 0.14084507042253522, 0.2564102564102564, 0.5789473684210527, 0.11578947368421053, 0.23809523809523808, 2.5833333333333335, 0.39215686274509803, 0.8333333333333334, 0.5263157894736842, 0.6451612903225806, 0.2631578947368421, 1.5384615384615385, 0.0, 0.19607843137254902, 0.28169014084507044, 0.1694915254237288, 0.125, 0.23404255319148937, 0.45454545454545453, 0.15625, 1.4285714285714286, 0.11956521739130435, 0.18032786885245902, 0.25316455696202533, 0.14102564102564102, 0.20408163265306123, 0.20618556701030927, 0.14473684210526316, 0.5238095238095238, 0.0, 1.4285714285714286, 1.5384615384615385, 0.30303030303030304, 0.14864864864864866, 0.24390243902439024, 0.27927927927927926, 0.16666666666666666, 0.0, 0.38461538461538464, 0.13513513513513514, 0.12195121951219512, 0.2597402597402597, 1.0526315789473684, 1.5384615384615385, 0.2894736842105263, 0.2391304347826087, 1.0526315789473684, 0.12345679012345678, 0.47619047619047616, 0.10752688172043011, 0.12790697674418605, 1.5384615384615385, 0.2631578947368421, 1.5384615384615385, 1.5384615384615385, 0.15942028985507245, 0.2857142857142857, 0.425531914893617, 0.21739130434782608, 0.125, 0.21978021978021978, 2.0, 0.7142857142857143, 0.0, 0.39285714285714285, 0.43478260869565216, 2.0, 0.5789473684210527, 0.8, 0.5238095238095238, 0.11627906976744186, 0.6666666666666666, 0.0, 0.10638297872340426, 0.42857142857142855, 0.10309278350515463, 0.7692307692307693, 0.3793103448275862, 0.16129032258064516, 0.1724137931034483, 0.4, 0.15151515151515152, 0.10638297872340426, 0.5405405405405406, 0.18518518518518517, 1.375, 0.18867924528301888, 0.15625, 0.625, 0.12195121951219512, 1.5384615384615385, 0.09900990099009901, 0.4230769230769231, 1.1764705882352942, 1.4285714285714286, 0.12345679012345678, 0.8333333333333334, 0.24390243902439024, 0.38461538461538464, 0.625, 0.3333333333333333, 0.28169014084507044, 0.4583333333333333, 0.13157894736842105, 0.3448275862068966, 0.10752688172043011, 0.21978021978021978, 0.7407407407407407, 0.4, 0.8333333333333334, 0.5882352941176471, 0.45454545454545453, 0.18867924528301888, 0.8, 1.6666666666666667, 0.7142857142857143, 0.625, 1.1111111111111112, 0.39215686274509803, 0.12987012987012986, 1.6666666666666667, 1.5384615384615385, 0.45454545454545453, 1.25, 1.6666666666666667, 0.7142857142857143, 0.2127659574468085, 0.47619047619047616, 0.8378378378378378, 0.14925373134328357, 0.3333333333333333, 1.5384615384615385, 0.5555555555555556, 1.5384615384615385, 1.6666666666666667, 0.29411764705882354, 0.7692307692307693, 0.19230769230769232, 0.09433962264150944, 0.2127659574468085, 0.25, 0.7692307692307693, 0.12195121951219512, 2.1, 0.16260162601626016, 0.2682926829268293, 0.425531914893617, 0.9523809523809523, 1.5384615384615385, 0.2, 1.3333333333333333, 0.28169014084507044, 1.5384615384615385, 0.4, 0.13414634146341464, 0.0, 0.43478260869565216, 0.3333333333333333, 0.1111111111111111, 0.40384615384615385, 0.12987012987012986, 0.12345679012345678, 0.0, 0.625, 0.2564102564102564, 0.2857142857142857, 1.8333333333333333, 0.11494252873563218, 0.18867924528301888, 1.25, 1.5384615384615385, 1.5384615384615385, 0.136986301369863, 0.8333333333333334, 0.5, 1.4285714285714286, 1.0526315789473684, 0.8148148148148148, 0.20833333333333334, 1.5384615384615385, 0.136986301369863, 0.0, 0.2631578947368421, 1.6666666666666667, 0.4878048780487805, 0.10638297872340426, 0.1282051282051282, 2.5, 0.6060606060606061, 0.5882352941176471, 0.1694915254237288, 0.0, 0.19607843137254902, 0.5555555555555556, 0.2127659574468085, 0.11904761904761904, 0.12195121951219512, 1.25, 0.43478260869565216, 0.21739130434782608, 0.5714285714285714, 0.5714285714285714, 0.13513513513513514, 0.35, 2.8181818181818183, 0.6060606060606061, 0.2127659574468085, 0.3384615384615385, 0.4583333333333333, 0.18181818181818182, 1.25, 0.5, 1.5384615384615385, 1.5384615384615385, 0.3448275862068966, 0.7692307692307693, 0.11904761904761904, 0.19298245614035087, 0.1694915254237288, 2.8181818181818183, 1.5384615384615385, 0.5238095238095238, 1.4285714285714286, 0.12345679012345678, 0.15714285714285714, 0.23809523809523808, 0.24705882352941178, 0.5714285714285714, 0.3793103448275862, 0.20408163265306123, 1.5384615384615385, 0.28169014084507044, 0.171875, 0.43478260869565216, 0.39285714285714285, 0.10416666666666667, 2.5833333333333335, 0.43478260869565216, 0.37037037037037035, 1.6666666666666667, 0.0, 0.10784313725490197, 1.5238095238095237, 0.5, 1.5384615384615385, 0.6060606060606061, 0.7142857142857143, 0.1388888888888889, 0.6666666666666666, 0.11764705882352941, 0.3548387096774194, 0.29411764705882354, 0.0, 0.11904761904761904, 0.525, 0.625, 0.2558139534883721, 0.12345679012345678, 0.1282051282051282, 0.12195121951219512, 0.5263157894736842, 0.16176470588235295, 0.5555555555555556, 0.43478260869565216, 0.40540540540540543, 0.47619047619047616, 0.0, 1.4285714285714286, 0.4166666666666667, 0.14492753623188406, 0.35714285714285715, 0.17543859649122806, 0.10752688172043011, 0.30303030303030304, 0.15151515151515152, 0.5263157894736842, 0.37037037037037035, 0.5740740740740741, 0.15151515151515152, 1.6666666666666667, 1.1764705882352942, 1.6666666666666667, 0.10989010989010989, 0.38461538461538464, 0.5263157894736842, 0.47619047619047616, 0.7692307692307693, 0.7407407407407407, 0.43478260869565216, 0.7142857142857143, 0.8888888888888888, 0.5263157894736842, 0.4878048780487805, 0.5882352941176471, 0.5555555555555556, 0.47619047619047616, 0.4878048780487805, 1.0526315789473684, 0.1694915254237288, 0.37735849056603776, 0.20833333333333334, 0.37037037037037035, 1.5384615384615385, 0.6896551724137931, 0.19642857142857142, 1.4285714285714286, 0.8333333333333334, 0.2247191011235955, 0.35714285714285715, 0.21568627450980393, 1.3043478260869565, 0.7692307692307693, 0.5263157894736842, 0.5384615384615384, 0.2597402597402597, 0.5263157894736842, 0.16393442622950818, 0.37735849056603776, 1.1764705882352942, 0.5405405405405406, 0.2, 0.08771929824561403, 0.37735849056603776, 0.12345679012345678, 0.16176470588235295, 0.14925373134328357, 0.35294117647058826, 0.17543859649122806, 0.4166666666666667, 0.47619047619047616, 0.5166666666666667, 0.2597402597402597, 1.9090909090909092, 0.08547008547008547, 0.7692307692307693, 1.4285714285714286, 0.2702702702702703, 0.0, 0.15873015873015872, 1.5384615384615385, 0.4878048780487805, 0.11956521739130435, 0.12987012987012986, 0.1388888888888889, 0.0, 0.12195121951219512, 1.25, 0.5882352941176471, 0.4166666666666667, 0.38461538461538464, 0.7692307692307693, 0.24390243902439024, 0.1724137931034483, 0.38461538461538464, 1.3125, 0.20408163265306123, 0.4411764705882353, 0.17857142857142858, 2.0, 0.47619047619047616, 0.7142857142857143, 0.29850746268656714, 0.25882352941176473, 1.5384615384615385, 0.37735849056603776, 0.13157894736842105, 0.9523809523809523, 0.4074074074074074, 0.9545454545454546, 1.4285714285714286, 0.2857142857142857, 0.35714285714285715, 1.3333333333333333, 1.3333333333333333, 0.3125, 1.25, 0.8, 0.625, 0.18487394957983194, 0.5263157894736842, 1.5384615384615385, 1.0, 0.12048192771084337, 0.11363636363636363, 0.2857142857142857, 0.5263157894736842, 2.5833333333333335, 0.31746031746031744, 0.2777777777777778, 0.26666666666666666, 0.12658227848101267, 0.25, 1.4, 1.5384615384615385, 1.2916666666666667, 0.29411764705882354, 1.3333333333333333, 0.21739130434782608, 0.14492753623188406, 0.3125, 0.5384615384615384, 0.47619047619047616, 0.8148148148148148, 0.5555555555555556, 0.0, 0.1724137931034483, 0.3235294117647059, 1.4285714285714286, 1.4285714285714286, 0.37037037037037035, 0.12195121951219512, 1.5384615384615385, 1.6666666666666667, 0.11650485436893204, 0.38461538461538464, 0.36666666666666664, 0.0, 0.35714285714285715, 0.3793103448275862, 0.12345679012345678, 1.3333333333333333, 0.625, 1.5384615384615385, 1.0526315789473684, 1.8333333333333333, 0.0, 1.5384615384615385, 0.21428571428571427, 0.2037037037037037, 0.12790697674418605, 1.5384615384615385, 0.2127659574468085, 0.5555555555555556, 0.9523809523809523, 0.23404255319148937, 0.5555555555555556, 0.625, 0.19298245614035087, 0.2692307692307692, 0.47619047619047616, 0.55, 0.7692307692307693, 0.23255813953488372, 0.9090909090909091, 0.19230769230769232, 0.625, 0.0, 0.4583333333333333, 0.1282051282051282, 0.5, 1.6666666666666667, 0.11764705882352941, 0.10101010101010101, 0.2564102564102564, 0.6451612903225806, 0.5555555555555556, 0.46511627906976744, 0.3333333333333333, 1.3333333333333333, 1.25, 0.3389830508474576, 0.0, 1.4285714285714286, 0.19607843137254902, 1.3333333333333333, 1.4285714285714286, 0.5263157894736842, 0.1282051282051282, 0.5405405405405406, 0.6666666666666666, 0.5882352941176471, 0.23255813953488372, 1.3125, 2.2222222222222223, 0.2564102564102564, 1.5384615384615385, 1.6666666666666667, 1.5384615384615385, 0.2, 0.2702702702702703, 0.12195121951219512, 0.8695652173913043, 0.37735849056603776, 0.5263157894736842, 1.5384615384615385, 0.4166666666666667, 0.8, 0.18867924528301888, 0.2702702702702703, 0.21568627450980393, 1.5384615384615385, 0.2127659574468085, 0.2631578947368421, 0.19811320754716982, 0.5263157894736842, 0.10638297872340426, 0.10309278350515463, 0.5555555555555556, 0.16393442622950818, 0.5166666666666667, 0.24705882352941178, 0.9523809523809523, 0.0, 0.38461538461538464, 0.5166666666666667, 0.15384615384615385, 0.1694915254237288, 1.1111111111111112, 0.10204081632653061, 1.4285714285714286, 0.4166666666666667, 1.8181818181818181, 2.3076923076923075, 0.2597402597402597, 0.11, 0.31746031746031744, 1.25, 0.625, 0.10204081632653061, 0.23255813953488372, 0.2702702702702703, 0.43478260869565216, 1.5384615384615385, 0.19230769230769232, 0.625, 0.2631578947368421, 0.19230769230769232, 0.1694915254237288, 0.21739130434782608, 1.4545454545454546, 0.16129032258064516, 0.6060606060606061, 0.9523809523809523, 0.35714285714285715, 1.5384615384615385, 0.273972602739726, 0.13157894736842105, 1.5384615384615385, 1.5384615384615385, 1.5384615384615385, 0.29850746268656714, 0.3076923076923077, 0.8333333333333334, 0.11627906976744186, 2.5833333333333335, 0.7692307692307693, 0.12345679012345678, 0.19230769230769232, 0.45454545454545453, 0.18181818181818182, 2.5833333333333335, 0.625, 0.5555555555555556, 1.5384615384615385, 0.3225806451612903, 0.4, 0.32786885245901637, 0.14492753623188406, 0.0, 0.36363636363636365, 1.3125, 0.08403361344537816, 1.6666666666666667, 0.484375, 1.0526315789473684, 1.0526315789473684, 1.6666666666666667, 0.0, 0.2564102564102564, 0.17857142857142858, 0.3230769230769231, 0.31746031746031744, 0.17543859649122806, 0.0, 0.5555555555555556, 0.43478260869565216, 0.21505376344086022, 1.6666666666666667, 1.6666666666666667, 0.30303030303030304, 0.8, 0.12345679012345678, 0.28205128205128205, 0.17857142857142858, 0.13333333333333333, 0.7142857142857143, 0.5714285714285714, 0.4878048780487805, 1.6666666666666667, 0.8333333333333334, 0.7692307692307693, 0.625, 0.0, 0.7692307692307693, 0.8333333333333334, 1.0, 1.4814814814814814, 0.43478260869565216, 0.5384615384615384, 0.37037037037037035, 0.5882352941176471, 0.25, 0.5882352941176471, 0.3595505617977528, 0.21739130434782608, 2.5833333333333335, 0.6060606060606061, 1.6666666666666667, 0.4166666666666667, 0.08849557522123894, 0.38461538461538464, 0.13333333333333333, 0.5882352941176471, 1.4761904761904763, 0.3076923076923077, 0.3333333333333333, 0.0, 0.09259259259259259, 0.8, 0.16806722689075632, 0.6875, 1.6666666666666667, 0.2127659574468085, 0.11764705882352941, 1.6666666666666667, 0.7692307692307693, 1.5384615384615385, 0.6666666666666666, 0.9166666666666666, 1.4285714285714286, 0.38461538461538464, 0.2777777777777778, 0.3448275862068966, 0.8378378378378378, 0.38461538461538464, 0.2631578947368421, 0.28169014084507044, 0.37349397590361444, 0.30985915492957744, 0.1388888888888889, 0.12790697674418605, 0.8, 0.20408163265306123, 0.45454545454545453, 0.5121951219512195, 1.5384615384615385, 0.16129032258064516, 0.2631578947368421, 0.125, 0.13513513513513514, 0.5555555555555556, 1.1764705882352942, 0.2702702702702703, 1.0, 0.5, 0.1694915254237288, 0.0, 1.9090909090909092, 0.3333333333333333, 0.45454545454545453, 1.5384615384615385, 0.75, 0.15384615384615385, 1.4285714285714286, 0.136986301369863, 0.425531914893617, 0.5263157894736842, 0.16666666666666666, 0.35714285714285715, 0.42592592592592593, 0.5555555555555556, 0.19642857142857142, 0.15384615384615385, 1.5384615384615385, 0.40816326530612246, 0.2222222222222222, 0.9523809523809523, 1.5384615384615385, 1.375, 0.16393442622950818, 1.1764705882352942, 0.28169014084507044, 2.5833333333333335, 0.5, 0.10638297872340426, 0.24691358024691357, 0.4230769230769231, 0.4230769230769231, 0.5882352941176471, 0.4166666666666667, 0.14285714285714285, 0.9090909090909091, 0.1388888888888889, 0.35714285714285715, 0.37037037037037035, 1.3333333333333333, 0.8378378378378378, 0.44, 0.0, 0.4, 0.2597402597402597, 0.4166666666666667, 0.7692307692307693, 0.31343283582089554, 0.13157894736842105, 1.1764705882352942, 0.22727272727272727, 0.2631578947368421, 0.15151515151515152, 1.5384615384615385, 0.25, 1.3333333333333333, 0.16129032258064516, 0.5, 0.6666666666666666, 1.3333333333333333, 2.5, 0.5, 0.12345679012345678, 0.8378378378378378, 0.2619047619047619, 0.5263157894736842, 0.13924050632911392, 0.2, 0.11904761904761904, 0.23255813953488372, 0.19642857142857142, 0.4883720930232558, 1.25, 0.47619047619047616, 0.7692307692307693, 0.13513513513513514, 0.18518518518518517, 2.3846153846153846, 0.625, 0.125, 2.0, 0.21978021978021978, 0.28169014084507044, 0.2702702702702703, 0.24705882352941178, 0.1111111111111111, 0.18867924528301888, 0.625, 0.11764705882352941, 0.1282051282051282, 0.9090909090909091, 0.1834862385321101, 0.6060606060606061, 0.4, 0.19047619047619047, 0.26666666666666666, 0.4444444444444444, 1.5384615384615385, 0.21649484536082475, 0.36666666666666664, 1.0, 0.3333333333333333, 0.28205128205128205, 0.4878048780487805, 0.37735849056603776, 0.47619047619047616, 0.14925373134328357, 1.4285714285714286, 1.2941176470588236, 0.2222222222222222, 1.5384615384615385, 0.2558139534883721, 1.5384615384615385, 0.8, 0.625, 1.25, 0.273972602739726, 0.20408163265306123, 0.6666666666666666, 0.0, 0.1864406779661017, 0.1864406779661017, 0.125, 0.8333333333333334, 0.5263157894736842, 1.4285714285714286, 1.6666666666666667, 0.16129032258064516, 0.6060606060606061, 0.0, 0.1134020618556701, 1.5384615384615385, 0.5882352941176471, 1.6666666666666667, 0.1724137931034483, 1.4285714285714286, 0.16393442622950818, 1.6666666666666667, 1.3333333333333333, 0.7692307692307693, 0.5, 0.2625, 0.12359550561797752, 1.1764705882352942, 0.625, 1.6666666666666667, 0.44, 1.1764705882352942, 0.45454545454545453, 0.0, 0.14285714285714285, 0.5555555555555556, 0.5882352941176471, 0.2, 1.25, 0.4230769230769231, 1.5384615384615385, 0.29850746268656714, 0.0, 0.28169014084507044, 0.0847457627118644, 0.4166666666666667, 1.5384615384615385, 0.22727272727272727, 1.5384615384615385, 0.3225806451612903, 0.26666666666666666, 0.10416666666666667, 0.5263157894736842, 1.3333333333333333, 0.14925373134328357, 0.10204081632653061, 1.5384615384615385, 0.0, 0.14492753623188406, 0.20833333333333334, 0.1724137931034483, 0.4050632911392405, 0.18518518518518517, 1.25, 0.20833333333333334, 0.18518518518518517, 0.1282051282051282, 0.6666666666666666, 0.21428571428571427, 1.6666666666666667, 0.7692307692307693, 0.4878048780487805, 0.7692307692307693, 0.7692307692307693, 0.3448275862068966, 0.5263157894736842, 0.10869565217391304, 0.37037037037037035]\n",
            "Average Bleu Score is: 0.607268182964142\n"
          ]
        }
      ]
    },
    {
      "cell_type": "markdown",
      "metadata": {
        "id": "_brvXpVJxD7e"
      },
      "source": [
        "## Improving NMT using Attention\n"
      ]
    },
    {
      "cell_type": "code",
      "execution_count": null,
      "metadata": {
        "id": "gYVoM-biXoB4"
      },
      "outputs": [],
      "source": [
        "import torch\n",
        "import torch.nn as nn\n",
        "import torch.nn.functional as F\n",
        "\n",
        "class EncoderGRU(nn.Module):\n",
        "    def __init__(\n",
        "        self,\n",
        "        input_vocab_size,  # size of source vocabulary\n",
        "        hidden_dim,        # hidden dimension of embeddings\n",
        "        encoder_hid_dim,   # gru hidden dim\n",
        "        decoder_hid_dim,   # decoder hidden dim\n",
        "        dropout_prob = .5\n",
        "      ):\n",
        "\n",
        "        super().__init__()\n",
        "        self.embedding = nn.Embedding(input_vocab_size, hidden_dim)\n",
        "        self.rnn = nn.GRU(hidden_dim, encoder_hid_dim, bidirectional = True)\n",
        "        self.fc = nn.Linear(encoder_hid_dim * 2, decoder_hid_dim)\n",
        "        self.dropout = nn.Dropout(dropout_prob)\n",
        "\n",
        "    def forward(self, src):\n",
        "\n",
        "        #src = [src len, batch size]\n",
        "        embedded = self.dropout(self.embedding(src))\n",
        "\n",
        "        #embedded = [src len, batch size, emb dim]\n",
        "        outputs, hidden = self.rnn(embedded)\n",
        "\n",
        "        #outputs = [src len, batch size, hid dim * num directions]\n",
        "        #hidden = [n layers * num directions, batch size, hid dim]\n",
        "        #hidden is stacked [forward_1, backward_1, forward_2, backward_2, ...]\n",
        "        #outputs are always from the last layer\n",
        "\n",
        "        #hidden [-2, :, : ] is the last of the forwards GRU\n",
        "        #hidden [-1, :, : ] is the last of the backwards GRU\n",
        "\n",
        "        #initial decoder hidden is final hidden state of the forwards and backwards\n",
        "        #  encoder RNNs fed through a linear layer\n",
        "        hidden = torch.tanh(self.fc(torch.cat((hidden[-2,:,:], hidden[-1,:,:]), dim = 1)))\n",
        "        return outputs, hidden"
      ]
    },
    {
      "cell_type": "code",
      "execution_count": null,
      "metadata": {
        "id": "SAOUlKtv0MUn"
      },
      "outputs": [],
      "source": [
        "class Attention(nn.Module):\n",
        "    def __init__(\n",
        "        self,\n",
        "        enc_hid_dim,      # Encoder hidden dimension\n",
        "        dec_hid_dim       # Decoder hidden dimension\n",
        "      ):\n",
        "        super().__init__()\n",
        "\n",
        "        self.attn = nn.Linear((enc_hid_dim * 2) + dec_hid_dim, dec_hid_dim)\n",
        "        self.v = nn.Linear(dec_hid_dim, 1, bias = False)\n",
        "\n",
        "    def forward(self, hidden, encoder_outputs):\n",
        "\n",
        "        #hidden = [batch size, dec hid dim]\n",
        "        #encoder_outputs = [src len, batch size, enc hid dim * 2]\n",
        "        batch_size = encoder_outputs.shape[1]\n",
        "        src_len = encoder_outputs.shape[0]\n",
        "\n",
        "        #repeat decoder hidden state src_len times\n",
        "        hidden = hidden.unsqueeze(1).repeat(1, src_len, 1)\n",
        "\n",
        "        encoder_outputs = encoder_outputs.permute(1, 0, 2)\n",
        "        #hidden = [batch size, src len, dec hid dim]\n",
        "        #encoder_outputs = [batch size, src len, enc hid dim * 2]\n",
        "\n",
        "        energy = torch.tanh(self.attn(torch.cat((hidden, encoder_outputs), dim = 2)))\n",
        "\n",
        "        #energy = [batch size, src len, dec hid dim]\n",
        "        attention = self.v(energy).squeeze(2)\n",
        "\n",
        "        #attention output: [batch size, src len]\n",
        "        return F.softmax(attention, dim=1)"
      ]
    },
    {
      "cell_type": "code",
      "execution_count": null,
      "metadata": {
        "id": "3_PJmdtFrCih"
      },
      "outputs": [],
      "source": [
        "class DecoderGRU(nn.Module):\n",
        "    def __init__(\n",
        "        self,\n",
        "        target_vocab_size,    # Size of target vocab\n",
        "        hidden_dim,           # hidden size of embedding\n",
        "        enc_hid_dim,\n",
        "        dec_hid_dim,\n",
        "        dropout\n",
        "      ):\n",
        "        super().__init__()\n",
        "\n",
        "        self.output_dim = target_vocab_size\n",
        "        self.attention = Attention(enc_hid_dim, dec_hid_dim)\n",
        "\n",
        "        self.embedding = nn.Embedding(target_vocab_size, hidden_dim)\n",
        "\n",
        "        self.rnn = nn.GRU((enc_hid_dim * 2) + hidden_dim, dec_hid_dim)\n",
        "\n",
        "        self.fc_out = nn.Linear(\n",
        "            (enc_hid_dim * 2) + dec_hid_dim + hidden_dim,\n",
        "            target_vocab_size\n",
        "          )\n",
        "        self.dropout = nn.Dropout(dropout)\n",
        "\n",
        "    def forward(self, input, hidden, encoder_outputs):\n",
        "\n",
        "        #input = [batch size]\n",
        "        #hidden = [batch size, dec hid dim]\n",
        "        #encoder_outputs = [src len, batch size, enc hid dim * 2]\n",
        "\n",
        "        input = input.unsqueeze(0)  # [1, batch size]\n",
        "\n",
        "        embedded = self.dropout(self.embedding(input))  # [1, batch size, emb dim]\n",
        "\n",
        "        a = self.attention(hidden, encoder_outputs)     # [batch size, src len]\n",
        "        a = a.unsqueeze(1)                              # [batch size, 1, src len]\n",
        "\n",
        "        encoder_outputs = encoder_outputs.permute(1, 0, 2) # [batch size, src len, enc hid dim * 2]\n",
        "\n",
        "        weighted = torch.bmm(a, encoder_outputs)           # [batch size, 1, enc hid dim * 2]\n",
        "        weighted = weighted.permute(1, 0, 2)               # [1, batch size, enc hid dim * 2]\n",
        "\n",
        "        rnn_input = torch.cat((embedded, weighted), dim = 2) # [1, batch size, (enc hid dim * 2) + emb dim]\n",
        "\n",
        "\n",
        "        #output = [seq len, batch size, dec hid dim * n directions]\n",
        "        #hidden = [n layers * n directions, batch size, dec hid dim]\n",
        "        output, hidden = self.rnn(rnn_input, hidden.unsqueeze(0))\n",
        "\n",
        "        #seq len, n layers and n directions will always be 1 in this decoder, therefore:\n",
        "        #output = [1, batch size, dec hid dim]\n",
        "        #hidden = [1, batch size, dec hid dim]\n",
        "\n",
        "        embedded = embedded.squeeze(0)\n",
        "        output = output.squeeze(0)\n",
        "        weighted = weighted.squeeze(0)\n",
        "\n",
        "        prediction = self.fc_out(torch.cat((output, weighted, embedded), dim = 1)) # [batch size, output dim]\n",
        "        return prediction, hidden.squeeze(0)"
      ]
    },
    {
      "cell_type": "code",
      "execution_count": null,
      "metadata": {
        "id": "XFbPS6tHstox"
      },
      "outputs": [],
      "source": [
        "import random\n",
        "class EncoderDecoder(nn.Module):\n",
        "    def __init__(self, encoder, decoder):\n",
        "        super().__init__()\n",
        "\n",
        "        self.encoder = encoder\n",
        "        self.decoder = decoder\n",
        "\n",
        "    def forward(self, src, trg, teacher_forcing_ratio = 0.5):\n",
        "\n",
        "        batch_size = src.shape[1]\n",
        "        trg_len = trg.shape[0]\n",
        "        trg_vocab_size = self.decoder.output_dim\n",
        "\n",
        "        outputs = torch.zeros(trg_len, batch_size, trg_vocab_size)\n",
        "\n",
        "        encoder_outputs, hidden = self.encoder(src)\n",
        "\n",
        "        input = trg[0,:]\n",
        "\n",
        "        for t in range(1, trg_len):\n",
        "            output, hidden = self.decoder(input, hidden, encoder_outputs)\n",
        "\n",
        "            outputs[t] = output\n",
        "\n",
        "            teacher_force = random.random() < teacher_forcing_ratio\n",
        "\n",
        "            top1 = output.argmax(1)\n",
        "            input = trg[t] if teacher_force else top1\n",
        "        return outputs"
      ]
    },
    {
      "cell_type": "code",
      "source": [
        "INPUT_DIM = english.n_words\n",
        "OUTPUT_DIM = irish.n_words\n",
        "ENC_EMB_DIM = 256\n",
        "DEC_EMB_DIM = 256\n",
        "ENC_HID_DIM = 128\n",
        "DEC_HID_DIM = 128\n",
        "ENC_DROPOUT = 0.5\n",
        "DEC_DROPOUT = 0.5\n",
        "\n",
        "enc = EncoderGRU(INPUT_DIM, ENC_EMB_DIM, ENC_HID_DIM, DEC_HID_DIM, ENC_DROPOUT)\n",
        "dec = DecoderGRU(OUTPUT_DIM, DEC_EMB_DIM, ENC_HID_DIM, DEC_HID_DIM, DEC_DROPOUT)\n",
        "\n",
        "model2 = EncoderDecoder(enc, dec)\n",
        "\n",
        "def init_weights(m):\n",
        "    for name, param in m.named_parameters():\n",
        "        if 'weight' in name:\n",
        "            nn.init.normal_(param.data, mean=0, std=0.01)\n",
        "        else:\n",
        "            nn.init.constant_(param.data, 0)\n",
        "\n",
        "model2.apply(init_weights)"
      ],
      "metadata": {
        "colab": {
          "base_uri": "https://localhost:8080/"
        },
        "id": "WmKB1f9-sIBA",
        "outputId": "2d20bd83-0657-41b6-b77b-683ec9d307ee"
      },
      "execution_count": null,
      "outputs": [
        {
          "output_type": "execute_result",
          "data": {
            "text/plain": [
              "EncoderDecoder(\n",
              "  (encoder): EncoderGRU(\n",
              "    (embedding): Embedding(7986, 256)\n",
              "    (rnn): GRU(256, 128, bidirectional=True)\n",
              "    (fc): Linear(in_features=256, out_features=128, bias=True)\n",
              "    (dropout): Dropout(p=0.5, inplace=False)\n",
              "  )\n",
              "  (decoder): DecoderGRU(\n",
              "    (attention): Attention(\n",
              "      (attn): Linear(in_features=384, out_features=128, bias=True)\n",
              "      (v): Linear(in_features=128, out_features=1, bias=False)\n",
              "    )\n",
              "    (embedding): Embedding(9700, 256)\n",
              "    (rnn): GRU(512, 128)\n",
              "    (fc_out): Linear(in_features=640, out_features=9700, bias=True)\n",
              "    (dropout): Dropout(p=0.5, inplace=False)\n",
              "  )\n",
              ")"
            ]
          },
          "metadata": {},
          "execution_count": 154
        }
      ]
    },
    {
      "cell_type": "code",
      "source": [
        "from tqdm.notebook import tqdm\n",
        "import numpy as np\n",
        "optimizer = torch.optim.Adam(model.parameters())\n",
        "\n",
        "device = \"cuda:0\" if torch.cuda.is_available() else \"cpu\"\n",
        "\n",
        "model2.to(device)\n",
        "\n",
        "EPOCHS = 1\n",
        "best_val_loss = float('inf')\n",
        "\n",
        "for epoch in range(EPOCHS):\n",
        "\n",
        "  model2.train()\n",
        "  epoch_loss = 0\n",
        "  for batch in tqdm(train_dl, total=len(train_dl)):\n",
        "\n",
        "     src = batch[0].transpose(1, 0).to(device)\n",
        "     trg = batch[1].transpose(1, 0).to(device)\n",
        "\n",
        "     optimizer.zero_grad()\n",
        "\n",
        "     output = model(src, trg)\n",
        "\n",
        "     output_dim = output.shape[-1]\n",
        "     output = output[1:].view(-1, output_dim).to(device)\n",
        "     trg = trg[1:].reshape(-1)\n",
        "\n",
        "     loss = F.cross_entropy(output, trg)\n",
        "     loss.backward()\n",
        "\n",
        "     torch.nn.utils.clip_grad_norm_(model2.parameters(), 1)\n",
        "     optimizer.step()\n",
        "     epoch_loss += loss.item()\n",
        "\n",
        "  train_loss = round(epoch_loss / len(train_dl), 3)\n",
        "\n",
        "  eval_loss = 0\n",
        "  model2.eval()\n",
        "  for batch in tqdm(val_dl, total=len(val_dl)):\n",
        "    src = batch[0].transpose(1, 0).to(device)\n",
        "    trg = batch[1].transpose(1, 0).to(device)\n",
        "\n",
        "    with torch.no_grad():\n",
        "      output = model(src, trg)\n",
        "\n",
        "      output_dim = output.shape[-1]\n",
        "      output = output[1:].view(-1, output_dim).to(device)\n",
        "      trg = trg[1:].reshape(-1)\n",
        "\n",
        "      loss = F.cross_entropy(output, trg)\n",
        "\n",
        "      eval_loss += loss.item()\n",
        "\n",
        "  val_loss = round(eval_loss / len(val_dl), 3)\n",
        "  print(f\"Epoch {epoch} | train loss {train_loss} | train ppl {np.exp(train_loss)} | val ppl {np.exp(val_loss)}\")\n",
        "\n",
        "  if val_loss < best_val_loss:\n",
        "    best_val_loss = val_loss\n",
        "    torch.save(model2.state_dict(), 'best-model.pt')"
      ],
      "metadata": {
        "colab": {
          "base_uri": "https://localhost:8080/",
          "height": 98,
          "referenced_widgets": [
            "cf90701f9ade4378935b580ef70a8654",
            "2b46e36e5bfb4d958efedbb04778feb5",
            "737fdc71510e4f6babf32429d82ddc75",
            "c139c48b49c44b61abff8e54058d9f41",
            "d373e5b472ad4709be8cb452e4506012",
            "60330b33b3a8492295c3706498d46bc5",
            "00ecfcf4ee264d7585df20ebeef80ee5",
            "901b86307127426e8ed4d2990ce478d6",
            "0862b148e97443c9b4ad3fcbf988d6db",
            "e7c05bbd8ae0429aba2f9fc1a7368177",
            "eeabff4519a34c6cb1e57ee7cdb17dd9",
            "5570ba58db9f4cc2b8d970c727aaa08b",
            "8b8c965b0df74f79bea1cd16609173e8",
            "cff6a99ddc35477982854e7da08628ef",
            "910d9eceb9f842ada95e115985cbd52c",
            "79b27d28b0be4763b55bcbc8c5694312",
            "0e187b676b23409eac82824fcdc51df8",
            "43f9a3122e3f4987a9d41e3f60698681",
            "7582436bde164a27bdac534e4ee45161",
            "13f7aacaad93437dbb26b13013bb5629",
            "1910f7b733d948f193d681ec21209bd6",
            "3ea350d968b84577a3141bee7f212061"
          ]
        },
        "id": "hxC47kLwsI91",
        "outputId": "7bedfab3-8875-4c6d-f8b3-813b88627f8f"
      },
      "execution_count": null,
      "outputs": [
        {
          "output_type": "display_data",
          "data": {
            "text/plain": [
              "  0%|          | 0/313 [00:00<?, ?it/s]"
            ],
            "application/vnd.jupyter.widget-view+json": {
              "version_major": 2,
              "version_minor": 0,
              "model_id": "cf90701f9ade4378935b580ef70a8654"
            }
          },
          "metadata": {}
        },
        {
          "output_type": "display_data",
          "data": {
            "text/plain": [
              "  0%|          | 0/32 [00:00<?, ?it/s]"
            ],
            "application/vnd.jupyter.widget-view+json": {
              "version_major": 2,
              "version_minor": 0,
              "model_id": "5570ba58db9f4cc2b8d970c727aaa08b"
            }
          },
          "metadata": {}
        },
        {
          "output_type": "stream",
          "name": "stdout",
          "text": [
            "Epoch 0 | train loss 4.538 | train ppl 93.50360577597665 | val ppl 61.620832296576545\n"
          ]
        }
      ]
    },
    {
      "cell_type": "code",
      "source": [
        "def translate_sentence(\n",
        "    text: str,\n",
        "    model2: EncoderDecoder,\n",
        "    english: Langauge,\n",
        "    irish: Langauge,\n",
        "    device: str,\n",
        "    max_len: int = 10,\n",
        "  ) -> str:\n",
        "\n",
        "  # Encode english sentence and convert to tensor\n",
        "  input_ids = english.encodeSentence(text)\n",
        "  input_tensor = torch.LongTensor(input_ids).unsqueeze(1).to(device)\n",
        "\n",
        "  # Get encooder hidden states\n",
        "  with torch.no_grad():\n",
        "    encoder_outputs, hidden = model2.encoder(input_tensor)\n",
        "\n",
        "  # Build target holder list\n",
        "  trg_indexes = [irish.word2idx[\"BOF\"]]\n",
        "\n",
        "  # Loop over sequence length of target sentence\n",
        "  for i in range(max_len):\n",
        "    trg_tensor = torch.LongTensor([trg_indexes[-1]]).to(device)\n",
        "\n",
        "    # Decode the encoder outputs with respect to current target word\n",
        "    with torch.no_grad():\n",
        "      output, hidden = model2.decoder(trg_tensor, hidden, encoder_outputs)\n",
        "\n",
        "    # Retrieve most likely word over target distribution\n",
        "    pred_token = torch.argmax(output).item()\n",
        "    trg_indexes.append(pred_token)\n",
        "\n",
        "    if pred_token == irish.word2idx[\"EOS\"]:\n",
        "      break\n",
        "\n",
        "  return \"\".join(irish.decodeIds(trg_indexes))"
      ],
      "metadata": {
        "id": "BWv2t3WV7B-s"
      },
      "execution_count": null,
      "outputs": []
    },
    {
      "cell_type": "code",
      "source": [
        "def bleu_score2(reference_sent, translate_sent):\n",
        "  return len([word for word in translate_sent if word in reference_sent])/len(reference_sent)\n",
        "\n",
        "bl_attention = []\n",
        "\n",
        "for _, row in tqdm(test.iterrows(), total=len(test)):\n",
        "  bl_attention.append(bleu_score2(row['Irish Sentences'], translate_sentence(row['Irish Sentences'], model2 , english, irish, device)))"
      ],
      "metadata": {
        "colab": {
          "base_uri": "https://localhost:8080/",
          "height": 49,
          "referenced_widgets": [
            "c05a966d29864f1bab7ce850ad6ccacc",
            "9976dfe46e4b4d65ac4f58ba9eb05a12",
            "43280c217f954a6d83cfac069c9d2729",
            "c408adb2b490437f8a888ccd52f28d72",
            "21fc3eba2f644564a8e6c5ae09da7347",
            "24082b4689be46bdb2d58f75dc9ef24e",
            "d34e7b2d71b64ebabadbcade1bfa1014",
            "c76ba0cfe2114081a0c2c148b75b0fa5",
            "707f8d8139d041baaa405090e6591751",
            "3d5dc4aa1bd2447f81a49548442cd12f",
            "23f66a0683124f05bfccf7030666f921"
          ]
        },
        "id": "ImHOddnMuWV8",
        "outputId": "9a4c1092-d7b5-43e9-ea44-2369f94b0e43"
      },
      "execution_count": null,
      "outputs": [
        {
          "output_type": "display_data",
          "data": {
            "text/plain": [
              "  0%|          | 0/1000 [00:00<?, ?it/s]"
            ],
            "application/vnd.jupyter.widget-view+json": {
              "version_major": 2,
              "version_minor": 0,
              "model_id": "c05a966d29864f1bab7ce850ad6ccacc"
            }
          },
          "metadata": {}
        }
      ]
    },
    {
      "cell_type": "code",
      "source": [
        "print(\"Bleu Score with Attention is:\",bl_attention)\n",
        "\n",
        "mean_bl_attention = sum(bl_attention)/len(bl_attention)\n",
        "print(\"Average Bleu Score with Attention is:\",mean_bl_attention)"
      ],
      "metadata": {
        "colab": {
          "base_uri": "https://localhost:8080/"
        },
        "id": "S8gV_LAmud3c",
        "outputId": "8c457213-7426-481c-e676-604eaa723e8a"
      },
      "execution_count": null,
      "outputs": [
        {
          "output_type": "stream",
          "name": "stdout",
          "text": [
            "Bleu Score with Attention is: [3.5, 0.8876404494382022, 1.0120481927710843, 1.1643835616438356, 1.0657894736842106, 0.9310344827586207, 2.6470588235294117, 1.2830188679245282, 2.75, 0.7217391304347827, 2.0625, 2.6666666666666665, 1.553191489361702, 3.5, 1.0, 3.5384615384615383, 1.9166666666666667, 1.0987654320987654, 3.3076923076923075, 1.0, 0.8478260869565217, 1.3265306122448979, 0.6377952755905512, 3.05, 3.4615384615384617, 3.5, 3.3076923076923075, 0.7142857142857143, 0.9411764705882353, 1.8620689655172413, 1.1142857142857143, 1.064516129032258, 0.8461538461538461, 1.0, 0.9759036144578314, 3.0, 1.6904761904761905, 1.5, 1.2727272727272727, 0.1, 3.142857142857143, 2.6666666666666665, 3.875, 1.3134328358208955, 0.8571428571428571, 3.3846153846153846, 0.8666666666666667, 0.8617021276595744, 3.5, 0.963855421686747, 1.0333333333333334, 2.888888888888889, 0.7870370370370371, 3.3076923076923075, 0.8461538461538461, 2.869565217391304, 2.6666666666666665, 2.727272727272727, 3.0526315789473686, 2.6470588235294117, 1.2647058823529411, 1.3846153846153846, 1.972972972972973, 2.75, 0.822429906542056, 1.625, 2.0, 2.8181818181818183, 1.4736842105263157, 1.4038461538461537, 1.3928571428571428, 1.3166666666666667, 1.0945945945945945, 2.9, 1.5714285714285714, 1.0810810810810811, 3.0555555555555554, 0.5, 0.7333333333333333, 3.076923076923077, 1.3134328358208955, 0.7849462365591398, 1.5576923076923077, 1.4, 2.6818181818181817, 3.5833333333333335, 1.1891891891891893, 1.1764705882352942, 1.5, 1.1282051282051282, 4.384615384615385, 2.0833333333333335, 1.2307692307692308, 2.8, 3.3846153846153846, 0.625, 3.6666666666666665, 1.2222222222222223, 3.933333333333333, 0.7674418604651163, 1.8333333333333333, 3.3125, 1.0120481927710843, 1.0357142857142858, 1.8780487804878048, 1.5675675675675675, 1.3225806451612903, 0.8958333333333334, 2.4444444444444446, 0.0, 2.7777777777777777, 2.357142857142857, 2.6129032258064515, 3.3076923076923075, 1.4642857142857142, 2.0, 2.3181818181818183, 1.5, 1.5, 1.9189189189189189, 0.7920792079207921, 1.0634920634920635, 2.6315789473684212, 1.5471698113207548, 3.5833333333333335, 2.6666666666666665, 3.7, 2.409090909090909, 0.35, 1.0333333333333334, 1.1095890410958904, 3.3076923076923075, 0.9710144927536232, 3.0714285714285716, 2.6666666666666665, 1.794871794871795, 2.2666666666666666, 3.3076923076923075, 0.7272727272727273, 2.4545454545454546, 0.07142857142857142, 3.3846153846153846, 0.9102564102564102, 3.5, 0.8125, 0.2, 2.6666666666666665, 1.1917808219178083, 1.8333333333333333, 3.0, 0.9577464788732394, 1.9230769230769231, 2.4210526315789473, 0.9368421052631579, 1.6428571428571428, 0.9166666666666666, 1.4901960784313726, 2.875, 2.8947368421052633, 2.225806451612903, 1.868421052631579, 3.3076923076923075, 3.272727272727273, 1.2745098039215685, 1.2394366197183098, 1.423728813559322, 2.125, 1.7659574468085106, 3.0, 1.3125, 3.2142857142857144, 0.967391304347826, 1.3770491803278688, 1.1012658227848102, 1.1153846153846154, 1.530612244897959, 0.865979381443299, 1.118421052631579, 2.0952380952380953, 0.2, 3.2142857142857144, 3.3846153846153846, 1.2575757575757576, 1.027027027027027, 0.8414634146341463, 0.7477477477477478, 0.8416666666666667, 3.25, 2.4615384615384617, 1.0405405405405406, 1.048780487804878, 1.051948051948052, 2.210526315789474, 3.3076923076923075, 2.210526315789474, 0.7934782608695652, 2.473684210526316, 1.0987654320987654, 1.9523809523809523, 0.8279569892473119, 1.0348837209302326, 3.3076923076923075, 1.144736842105263, 3.230769230769231, 3.3846153846153846, 1.1159420289855073, 1.9428571428571428, 1.5319148936170213, 0.9456521739130435, 1.625, 0.9120879120879121, 3.7, 2.2857142857142856, 4.0, 2.642857142857143, 1.5434782608695652, 4.3, 3.3157894736842106, 2.64, 1.9047619047619047, 0.9534883720930233, 3.6666666666666665, 0.09090909090909091, 0.8404255319148937, 1.3673469387755102, 0.711340206185567, 2.6153846153846154, 1.1379310344827587, 1.1451612903225807, 1.293103448275862, 2.16, 1.1818181818181819, 0.8404255319148937, 1.1891891891891893, 1.462962962962963, 0.5416666666666666, 1.5471698113207548, 1.359375, 2.5, 0.8902439024390244, 3.230769230769231, 0.7524752475247525, 1.2307692307692308, 2.5294117647058822, 3.0714285714285716, 1.0740740740740742, 2.5, 1.024390243902439, 2.730769230769231, 2.15625, 1.9333333333333333, 1.0845070422535212, 2.9166666666666665, 1.0789473684210527, 2.103448275862069, 0.9139784946236559, 0.8241758241758241, 2.4074074074074074, 2.28, 2.6666666666666665, 2.1176470588235294, 2.8181818181818183, 1.5849056603773586, 2.64, 3.5, 1.6071428571428572, 2.21875, 3.888888888888889, 1.5294117647058822, 1.0649350649350648, 3.5, 3.3846153846153846, 2.090909090909091, 2.5625, 3.5, 3.357142857142857, 1.7234042553191489, 1.5238095238095237, 0.2972972972972973, 0.9850746268656716, 2.2333333333333334, 4.3076923076923075, 2.9444444444444446, 3.3076923076923075, 3.5, 2.1470588235294117, 1.6538461538461537, 1.4423076923076923, 0.8113207547169812, 0.9042553191489362, 1.9090909090909092, 2.4615384615384617, 0.9512195121951219, 1.1, 0.7235772357723578, 1.6585365853658536, 1.6170212765957446, 2.6666666666666665, 3.3076923076923075, 1.42, 3.0, 1.0845070422535212, 3.230769230769231, 2.6, 1.048780487804878, 0.0, 2.1739130434782608, 2.6666666666666665, 0.9, 1.6346153846153846, 1.1168831168831168, 1.0987654320987654, 3.2142857142857144, 2.0625, 1.8974358974358974, 1.9428571428571428, 2.0, 0.9540229885057471, 1.4528301886792452, 4.25, 3.230769230769231, 3.3076923076923075, 1.1369863013698631, 2.375, 3.5, 3.7857142857142856, 2.263157894736842, 0.4444444444444444, 1.3333333333333333, 3.230769230769231, 1.1643835616438356, 0.08333333333333333, 1.9473684210526316, 3.5833333333333335, 0.9024390243902439, 0.9361702127659575, 1.0384615384615385, 0.8333333333333334, 2.242424242424242, 2.3823529411764706, 1.1694915254237288, 0.25, 1.4901960784313726, 3.3333333333333335, 0.8723404255319149, 1.0357142857142858, 1.024390243902439, 3.0, 2.782608695652174, 1.326086956521739, 2.057142857142857, 1.4285714285714286, 1.1486486486486487, 1.4333333333333333, 1.0, 2.242424242424242, 1.5319148936170213, 0.18461538461538463, 2.5833333333333335, 1.4545454545454546, 0.125, 2.7, 3.230769230769231, 3.230769230769231, 1.8275862068965518, 2.4615384615384617, 1.0357142857142858, 1.4736842105263157, 1.2372881355932204, 1.0, 3.3076923076923075, 1.9047619047619047, 3.142857142857143, 1.0987654320987654, 0.9428571428571428, 1.9523809523809523, 0.9764705882352941, 2.142857142857143, 0.896551724137931, 1.6734693877551021, 3.230769230769231, 1.2394366197183098, 1.296875, 2.4347826086956523, 1.1428571428571428, 0.875, 0.9166666666666666, 3.0434782608695654, 2.6666666666666665, 3.5, 0.25, 0.8137254901960784, 0.5714285714285714, 2.9, 3.3846153846153846, 2.4545454545454546, 2.5, 1.1527777777777777, 2.2666666666666666, 1.0235294117647058, 1.064516129032258, 2.323529411764706, 3.5714285714285716, 0.9761904761904762, 1.825, 1.78125, 1.3953488372093024, 1.0987654320987654, 0.9871794871794872, 1.0365853658536586, 2.6842105263157894, 1.1323529411764706, 3.0555555555555554, 1.4782608695652173, 1.1081081081081081, 1.7142857142857142, 0.2222222222222222, 3.0, 2.375, 1.1884057971014492, 2.2142857142857144, 1.2456140350877194, 0.9032258064516129, 1.9090909090909092, 1.0303030303030303, 1.736842105263158, 1.4444444444444444, 0.2037037037037037, 1.2878787878787878, 3.5833333333333335, 2.5294117647058822, 3.6666666666666665, 0.9230769230769231, 1.8461538461538463, 2.3684210526315788, 2.8095238095238093, 2.8461538461538463, 1.9259259259259258, 3.4782608695652173, 2.357142857142857, 0.3333333333333333, 2.1052631578947367, 1.5365853658536586, 2.1470588235294117, 2.0555555555555554, 2.6666666666666665, 1.5365853658536586, 2.3684210526315788, 1.4576271186440677, 1.320754716981132, 0.9375, 2.111111111111111, 3.3846153846153846, 2.7586206896551726, 1.1964285714285714, 3.0714285714285716, 1.9166666666666667, 0.9662921348314607, 2.3214285714285716, 1.4313725490196079, 0.43478260869565216, 2.6923076923076925, 3.1052631578947367, 2.0, 1.051948051948052, 1.6842105263157894, 1.3278688524590163, 1.0566037735849056, 2.5294117647058822, 2.027027027027027, 1.7, 0.7631578947368421, 1.490566037735849, 1.0987654320987654, 1.1176470588235294, 1.2238805970149254, 0.8117647058823529, 1.3333333333333333, 3.125, 2.5714285714285716, 0.35, 1.0649350649350648, 3.272727272727273, 0.7521367521367521, 2.4615384615384617, 3.142857142857143, 1.5945945945945945, 2.6666666666666665, 1.380952380952381, 3.3076923076923075, 1.0975609756097562, 0.7608695652173914, 1.025974025974026, 1.0555555555555556, 3.9, 1.048780487804878, 2.875, 1.8529411764705883, 1.5833333333333333, 2.8076923076923075, 2.4615384615384617, 1.0731707317073171, 1.4655172413793103, 2.730769230769231, 0.6875, 1.5918367346938775, 1.2058823529411764, 1.3928571428571428, 3.1, 1.5238095238095237, 1.8571428571428572, 1.3134328358208955, 0.9176470588235294, 3.3076923076923075, 1.3584905660377358, 1.105263157894737, 2.6666666666666665, 1.2592592592592593, 2.409090909090909, 3.7857142857142856, 2.085714285714286, 1.3035714285714286, 2.933333333333333, 2.933333333333333, 2.03125, 2.625, 2.44, 1.5625, 0.773109243697479, 1.736842105263158, 3.3076923076923075, 3.35, 1.0, 1.0113636363636365, 1.8857142857142857, 2.1578947368421053, 0.9166666666666666, 1.3333333333333333, 1.0833333333333333, 1.16, 0.8227848101265823, 1.925, 0.7333333333333333, 3.230769230769231, 0.4583333333333333, 1.7352941176470589, 2.6666666666666665, 1.7608695652173914, 1.2028985507246377, 1.265625, 1.6153846153846154, 3.5238095238095237, 0.4444444444444444, 2.3333333333333335, 3.625, 1.4482758620689655, 2.3529411764705883, 3.0714285714285716, 3.0714285714285716, 2.2962962962962963, 0.7804878048780488, 3.3076923076923075, 3.5, 0.8349514563106796, 2.8076923076923075, 1.1, 3.125, 1.9642857142857142, 1.0689655172413792, 1.037037037037037, 2.8666666666666667, 2.0625, 3.3076923076923075, 2.789473684210526, 1.8333333333333333, 3.6153846153846154, 3.3076923076923075, 0.8571428571428571, 1.5740740740740742, 0.9883720930232558, 3.3846153846153846, 1.5106382978723405, 2.111111111111111, 2.6666666666666665, 1.8297872340425532, 2.6666666666666665, 2.0, 1.4210526315789473, 1.0256410256410255, 2.6666666666666665, 3.65, 2.923076923076923, 1.813953488372093, 2.772727272727273, 1.1538461538461537, 2.3125, 0.3, 2.625, 1.064102564102564, 3.45, 3.5, 0.9529411764705882, 0.8686868686868687, 2.0, 2.225806451612903, 1.8888888888888888, 1.6511627906976745, 1.2, 2.933333333333333, 2.8125, 1.3220338983050848, 1.8333333333333333, 2.9285714285714284, 1.4705882352941178, 2.933333333333333, 3.0714285714285716, 1.894736842105263, 1.0769230769230769, 2.054054054054054, 4.0, 3.6470588235294117, 1.8604651162790697, 0.6875, 4.444444444444445, 1.1025641025641026, 3.3076923076923075, 3.5833333333333335, 3.3076923076923075, 1.42, 0.9324324324324325, 1.048780487804878, 3.0434782608695654, 1.0943396226415094, 2.1578947368421053, 3.3846153846153846, 2.875, 1.76, 1.5849056603773586, 1.837837837837838, 1.5098039215686274, 3.230769230769231, 1.7446808510638299, 0.9736842105263158, 0.8018867924528302, 2.1052631578947367, 0.925531914893617, 0.8144329896907216, 1.1851851851851851, 1.180327868852459, 0.35, 1.0235294117647058, 2.6666666666666665, 0.0, 2.8076923076923075, 0.35, 1.0923076923076922, 1.4067796610169492, 2.388888888888889, 0.8673469387755102, 3.0714285714285716, 2.3333333333333335, 3.4545454545454546, 0.7692307692307693, 1.0649350649350648, 0.85, 1.2063492063492063, 2.6875, 1.71875, 0.826530612244898, 1.697674418604651, 1.8108108108108107, 1.5434782608695652, 3.230769230769231, 1.3653846153846154, 3.75, 0.7280701754385965, 1.2884615384615385, 1.2372881355932204, 1.2391304347826086, 0.5454545454545454, 1.2258064516129032, 2.242424242424242, 2.6666666666666665, 2.3214285714285716, 3.230769230769231, 1.1095890410958904, 0.9342105263157895, 3.3076923076923075, 3.3076923076923075, 3.3076923076923075, 1.3134328358208955, 1.323076923076923, 2.6666666666666665, 0.9418604651162791, 0.9166666666666666, 3.923076923076923, 1.0987654320987654, 1.4807692307692308, 3.1818181818181817, 1.3818181818181818, 0.9166666666666666, 2.125, 2.8333333333333335, 3.230769230769231, 2.4838709677419355, 2.36, 1.4098360655737705, 1.1159420289855073, 0.6666666666666666, 1.4, 0.6875, 0.7394957983193278, 3.5, 1.375, 2.263157894736842, 2.210526315789474, 3.5833333333333335, 4.285714285714286, 1.0512820512820513, 1.375, 1.0615384615384615, 1.2063492063492063, 1.2982456140350878, 1.4210526315789473, 2.1666666666666665, 2.347826086956522, 0.9354838709677419, 3.5, 3.5833333333333335, 2.3333333333333335, 2.24, 0.9876543209876543, 0.8717948717948718, 1.5714285714285714, 1.04, 3.357142857142857, 2.057142857142857, 1.4390243902439024, 3.5833333333333335, 2.75, 2.5384615384615383, 2.0625, 1.75, 2.6153846153846154, 1.8333333333333333, 2.55, 2.6666666666666665, 3.3043478260869565, 2.0, 2.1481481481481484, 1.9411764705882353, 1.6590909090909092, 2.3823529411764706, 0.9775280898876404, 1.673913043478261, 1.0, 1.8484848484848484, 3.5833333333333335, 2.875, 0.7168141592920354, 2.5384615384615383, 1.08, 1.8823529411764706, 2.4285714285714284, 1.2, 0.9393939393939394, 3.5714285714285716, 0.7870370370370371, 1.84, 0.7394957983193278, 3.8125, 3.5, 1.4893617021276595, 0.9882352941176471, 3.6666666666666665, 2.5384615384615383, 3.3846153846153846, 2.2, 3.9166666666666665, 3.142857142857143, 1.0769230769230769, 1.9444444444444444, 1.8620689655172413, 0.2972972972972973, 1.1923076923076923, 1.8421052631578947, 1.0845070422535212, 0.13253012048192772, 1.1267605633802817, 0.9861111111111112, 1.0, 1.76, 0.8877551020408163, 2.5454545454545454, 2.0, 3.230769230769231, 1.3709677419354838, 1.605263157894737, 2.25, 1.135135135135135, 1.8888888888888888, 2.7058823529411766, 1.8918918918918919, 2.7, 1.425, 1.3220338983050848, 2.2222222222222223, 0.09090909090909091, 2.5, 1.6818181818181819, 3.230769230769231, 2.6785714285714284, 1.2, 3.7857142857142856, 1.1917808219178083, 1.6170212765957446, 1.5526315789473684, 1.303030303030303, 2.5357142857142856, 0.24074074074074073, 3.3333333333333335, 1.4642857142857142, 1.2, 3.230769230769231, 1.5918367346938775, 1.7333333333333334, 2.1904761904761907, 3.3076923076923075, 1.375, 1.3278688524590163, 2.6470588235294117, 1.2394366197183098, 0.9166666666666666, 2.9, 0.925531914893617, 1.0617283950617284, 2.5384615384615383, 1.2307692307692308, 3.0, 2.75, 1.1714285714285715, 2.090909090909091, 1.2083333333333333, 2.1785714285714284, 1.1481481481481481, 2.8666666666666667, 0.2972972972972973, 1.28, 0.6, 2.68, 1.0649350649350648, 2.9583333333333335, 3.6153846153846154, 1.2985074626865671, 1.0657894736842106, 2.5294117647058822, 1.4772727272727273, 2.026315789473684, 1.2272727272727273, 3.3076923076923075, 0.9875, 2.8666666666666667, 1.3064516129032258, 3.090909090909091, 3.3333333333333335, 2.8, 0.8333333333333334, 3.4, 1.0987654320987654, 0.2972972972972973, 1.6904761904761905, 2.263157894736842, 1.0379746835443038, 1.4181818181818182, 1.0119047619047619, 1.6744186046511629, 1.4821428571428572, 1.9069767441860466, 2.6875, 2.3333333333333335, 2.6153846153846154, 1.0945945945945945, 1.2777777777777777, 0.8461538461538461, 2.15625, 1.0625, 4.3, 0.7692307692307693, 1.2394366197183098, 1.027027027027027, 0.9882352941176471, 0.6666666666666666, 1.471698113207547, 3.75, 0.9176470588235294, 1.1025641025641026, 2.227272727272727, 0.6972477064220184, 2.242424242424242, 1.64, 0.8666666666666667, 1.04, 1.8, 3.3076923076923075, 0.6907216494845361, 2.066666666666667, 3.2, 2.566666666666667, 0.8717948717948718, 1.5365853658536586, 1.3396226415094339, 2.857142857142857, 1.0895522388059702, 3.0, 0.7058823529411765, 1.7777777777777777, 3.3076923076923075, 1.627906976744186, 3.3846153846153846, 1.8, 2.25, 2.875, 1.1369863013698631, 1.7346938775510203, 1.9, 2.5454545454545454, 1.3898305084745763, 1.6271186440677967, 0.125, 2.6666666666666665, 2.9473684210526314, 3.2142857142857144, 3.5833333333333335, 1.3870967741935485, 1.5757575757575757, 0.5, 0.7525773195876289, 3.3076923076923075, 2.176470588235294, 3.5, 1.4137931034482758, 3.0, 1.3278688524590163, 3.5, 2.8, 2.5384615384615383, 1.75, 1.025, 1.0, 2.5294117647058822, 2.0625, 3.5833333333333335, 1.32, 2.5294117647058822, 3.0, 2.7777777777777777, 1.5714285714285714, 3.0555555555555554, 3.5294117647058822, 1.5, 2.75, 1.3076923076923077, 3.3076923076923075, 1.3134328358208955, 0.0, 1.2394366197183098, 0.711864406779661, 2.875, 3.230769230769231, 1.9090909090909092, 3.3846153846153846, 2.5483870967741935, 1.08, 0.7708333333333334, 3.473684210526316, 2.933333333333333, 1.044776119402985, 0.8979591836734694, 3.230769230769231, 0.25, 1.2028985507246377, 1.6875, 0.7155172413793104, 0.1518987341772152, 1.1296296296296295, 2.6875, 0.7291666666666666, 1.5, 1.1025641025641026, 1.4666666666666666, 0.9081632653061225, 3.5833333333333335, 1.5384615384615385, 1.8048780487804879, 2.4615384615384617, 2.6153846153846154, 2.2758620689655173, 1.736842105263158, 0.9565217391304348, 2.0]\n",
            "Average Bleu Score with Attention is: 1.906500193400964\n"
          ]
        }
      ]
    }
  ],
  "metadata": {
    "colab": {
      "provenance": []
    },
    "kernelspec": {
      "display_name": "Python 3",
      "name": "python3"
    },
    "language_info": {
      "name": "python"
    },
    "widgets": {
      "application/vnd.jupyter.widget-state+json": {
        "8ce4784b891a4f46b48c90b40a3b0601": {
          "model_module": "@jupyter-widgets/controls",
          "model_name": "HBoxModel",
          "model_module_version": "1.5.0",
          "state": {
            "_dom_classes": [],
            "_model_module": "@jupyter-widgets/controls",
            "_model_module_version": "1.5.0",
            "_model_name": "HBoxModel",
            "_view_count": null,
            "_view_module": "@jupyter-widgets/controls",
            "_view_module_version": "1.5.0",
            "_view_name": "HBoxView",
            "box_style": "",
            "children": [
              "IPY_MODEL_7a2b6a7923fc401781632d6ae6f974de",
              "IPY_MODEL_5209051af9ed48669fac99727c39e47b",
              "IPY_MODEL_ba51beb4ee8b4b35bb81ffdaa008edb3"
            ],
            "layout": "IPY_MODEL_142abefc332f49bbbb3bd54fabf1272c"
          }
        },
        "7a2b6a7923fc401781632d6ae6f974de": {
          "model_module": "@jupyter-widgets/controls",
          "model_name": "HTMLModel",
          "model_module_version": "1.5.0",
          "state": {
            "_dom_classes": [],
            "_model_module": "@jupyter-widgets/controls",
            "_model_module_version": "1.5.0",
            "_model_name": "HTMLModel",
            "_view_count": null,
            "_view_module": "@jupyter-widgets/controls",
            "_view_module_version": "1.5.0",
            "_view_name": "HTMLView",
            "description": "",
            "description_tooltip": null,
            "layout": "IPY_MODEL_86d4293d59bf49d98abfc2ba6a57b859",
            "placeholder": "​",
            "style": "IPY_MODEL_6eb77bac79ec4a1f90e07a3c988e19e0",
            "value": "100%"
          }
        },
        "5209051af9ed48669fac99727c39e47b": {
          "model_module": "@jupyter-widgets/controls",
          "model_name": "FloatProgressModel",
          "model_module_version": "1.5.0",
          "state": {
            "_dom_classes": [],
            "_model_module": "@jupyter-widgets/controls",
            "_model_module_version": "1.5.0",
            "_model_name": "FloatProgressModel",
            "_view_count": null,
            "_view_module": "@jupyter-widgets/controls",
            "_view_module_version": "1.5.0",
            "_view_name": "ProgressView",
            "bar_style": "success",
            "description": "",
            "description_tooltip": null,
            "layout": "IPY_MODEL_7599215a67c0409b972b58ed16fa2783",
            "max": 12000,
            "min": 0,
            "orientation": "horizontal",
            "style": "IPY_MODEL_17f62e6ea2e94127aa38dde63b3206c6",
            "value": 12000
          }
        },
        "ba51beb4ee8b4b35bb81ffdaa008edb3": {
          "model_module": "@jupyter-widgets/controls",
          "model_name": "HTMLModel",
          "model_module_version": "1.5.0",
          "state": {
            "_dom_classes": [],
            "_model_module": "@jupyter-widgets/controls",
            "_model_module_version": "1.5.0",
            "_model_name": "HTMLModel",
            "_view_count": null,
            "_view_module": "@jupyter-widgets/controls",
            "_view_module_version": "1.5.0",
            "_view_name": "HTMLView",
            "description": "",
            "description_tooltip": null,
            "layout": "IPY_MODEL_88a1f88df9814fe9bf4506dbeba9664f",
            "placeholder": "​",
            "style": "IPY_MODEL_a3f5b885d31e4de49fb1afd006264772",
            "value": " 12000/12000 [00:03&lt;00:00, 3170.37it/s]"
          }
        },
        "142abefc332f49bbbb3bd54fabf1272c": {
          "model_module": "@jupyter-widgets/base",
          "model_name": "LayoutModel",
          "model_module_version": "1.2.0",
          "state": {
            "_model_module": "@jupyter-widgets/base",
            "_model_module_version": "1.2.0",
            "_model_name": "LayoutModel",
            "_view_count": null,
            "_view_module": "@jupyter-widgets/base",
            "_view_module_version": "1.2.0",
            "_view_name": "LayoutView",
            "align_content": null,
            "align_items": null,
            "align_self": null,
            "border": null,
            "bottom": null,
            "display": null,
            "flex": null,
            "flex_flow": null,
            "grid_area": null,
            "grid_auto_columns": null,
            "grid_auto_flow": null,
            "grid_auto_rows": null,
            "grid_column": null,
            "grid_gap": null,
            "grid_row": null,
            "grid_template_areas": null,
            "grid_template_columns": null,
            "grid_template_rows": null,
            "height": null,
            "justify_content": null,
            "justify_items": null,
            "left": null,
            "margin": null,
            "max_height": null,
            "max_width": null,
            "min_height": null,
            "min_width": null,
            "object_fit": null,
            "object_position": null,
            "order": null,
            "overflow": null,
            "overflow_x": null,
            "overflow_y": null,
            "padding": null,
            "right": null,
            "top": null,
            "visibility": null,
            "width": null
          }
        },
        "86d4293d59bf49d98abfc2ba6a57b859": {
          "model_module": "@jupyter-widgets/base",
          "model_name": "LayoutModel",
          "model_module_version": "1.2.0",
          "state": {
            "_model_module": "@jupyter-widgets/base",
            "_model_module_version": "1.2.0",
            "_model_name": "LayoutModel",
            "_view_count": null,
            "_view_module": "@jupyter-widgets/base",
            "_view_module_version": "1.2.0",
            "_view_name": "LayoutView",
            "align_content": null,
            "align_items": null,
            "align_self": null,
            "border": null,
            "bottom": null,
            "display": null,
            "flex": null,
            "flex_flow": null,
            "grid_area": null,
            "grid_auto_columns": null,
            "grid_auto_flow": null,
            "grid_auto_rows": null,
            "grid_column": null,
            "grid_gap": null,
            "grid_row": null,
            "grid_template_areas": null,
            "grid_template_columns": null,
            "grid_template_rows": null,
            "height": null,
            "justify_content": null,
            "justify_items": null,
            "left": null,
            "margin": null,
            "max_height": null,
            "max_width": null,
            "min_height": null,
            "min_width": null,
            "object_fit": null,
            "object_position": null,
            "order": null,
            "overflow": null,
            "overflow_x": null,
            "overflow_y": null,
            "padding": null,
            "right": null,
            "top": null,
            "visibility": null,
            "width": null
          }
        },
        "6eb77bac79ec4a1f90e07a3c988e19e0": {
          "model_module": "@jupyter-widgets/controls",
          "model_name": "DescriptionStyleModel",
          "model_module_version": "1.5.0",
          "state": {
            "_model_module": "@jupyter-widgets/controls",
            "_model_module_version": "1.5.0",
            "_model_name": "DescriptionStyleModel",
            "_view_count": null,
            "_view_module": "@jupyter-widgets/base",
            "_view_module_version": "1.2.0",
            "_view_name": "StyleView",
            "description_width": ""
          }
        },
        "7599215a67c0409b972b58ed16fa2783": {
          "model_module": "@jupyter-widgets/base",
          "model_name": "LayoutModel",
          "model_module_version": "1.2.0",
          "state": {
            "_model_module": "@jupyter-widgets/base",
            "_model_module_version": "1.2.0",
            "_model_name": "LayoutModel",
            "_view_count": null,
            "_view_module": "@jupyter-widgets/base",
            "_view_module_version": "1.2.0",
            "_view_name": "LayoutView",
            "align_content": null,
            "align_items": null,
            "align_self": null,
            "border": null,
            "bottom": null,
            "display": null,
            "flex": null,
            "flex_flow": null,
            "grid_area": null,
            "grid_auto_columns": null,
            "grid_auto_flow": null,
            "grid_auto_rows": null,
            "grid_column": null,
            "grid_gap": null,
            "grid_row": null,
            "grid_template_areas": null,
            "grid_template_columns": null,
            "grid_template_rows": null,
            "height": null,
            "justify_content": null,
            "justify_items": null,
            "left": null,
            "margin": null,
            "max_height": null,
            "max_width": null,
            "min_height": null,
            "min_width": null,
            "object_fit": null,
            "object_position": null,
            "order": null,
            "overflow": null,
            "overflow_x": null,
            "overflow_y": null,
            "padding": null,
            "right": null,
            "top": null,
            "visibility": null,
            "width": null
          }
        },
        "17f62e6ea2e94127aa38dde63b3206c6": {
          "model_module": "@jupyter-widgets/controls",
          "model_name": "ProgressStyleModel",
          "model_module_version": "1.5.0",
          "state": {
            "_model_module": "@jupyter-widgets/controls",
            "_model_module_version": "1.5.0",
            "_model_name": "ProgressStyleModel",
            "_view_count": null,
            "_view_module": "@jupyter-widgets/base",
            "_view_module_version": "1.2.0",
            "_view_name": "StyleView",
            "bar_color": null,
            "description_width": ""
          }
        },
        "88a1f88df9814fe9bf4506dbeba9664f": {
          "model_module": "@jupyter-widgets/base",
          "model_name": "LayoutModel",
          "model_module_version": "1.2.0",
          "state": {
            "_model_module": "@jupyter-widgets/base",
            "_model_module_version": "1.2.0",
            "_model_name": "LayoutModel",
            "_view_count": null,
            "_view_module": "@jupyter-widgets/base",
            "_view_module_version": "1.2.0",
            "_view_name": "LayoutView",
            "align_content": null,
            "align_items": null,
            "align_self": null,
            "border": null,
            "bottom": null,
            "display": null,
            "flex": null,
            "flex_flow": null,
            "grid_area": null,
            "grid_auto_columns": null,
            "grid_auto_flow": null,
            "grid_auto_rows": null,
            "grid_column": null,
            "grid_gap": null,
            "grid_row": null,
            "grid_template_areas": null,
            "grid_template_columns": null,
            "grid_template_rows": null,
            "height": null,
            "justify_content": null,
            "justify_items": null,
            "left": null,
            "margin": null,
            "max_height": null,
            "max_width": null,
            "min_height": null,
            "min_width": null,
            "object_fit": null,
            "object_position": null,
            "order": null,
            "overflow": null,
            "overflow_x": null,
            "overflow_y": null,
            "padding": null,
            "right": null,
            "top": null,
            "visibility": null,
            "width": null
          }
        },
        "a3f5b885d31e4de49fb1afd006264772": {
          "model_module": "@jupyter-widgets/controls",
          "model_name": "DescriptionStyleModel",
          "model_module_version": "1.5.0",
          "state": {
            "_model_module": "@jupyter-widgets/controls",
            "_model_module_version": "1.5.0",
            "_model_name": "DescriptionStyleModel",
            "_view_count": null,
            "_view_module": "@jupyter-widgets/base",
            "_view_module_version": "1.2.0",
            "_view_name": "StyleView",
            "description_width": ""
          }
        },
        "90a283e74fa14f1f952f5e969b297681": {
          "model_module": "@jupyter-widgets/controls",
          "model_name": "HBoxModel",
          "model_module_version": "1.5.0",
          "state": {
            "_dom_classes": [],
            "_model_module": "@jupyter-widgets/controls",
            "_model_module_version": "1.5.0",
            "_model_name": "HBoxModel",
            "_view_count": null,
            "_view_module": "@jupyter-widgets/controls",
            "_view_module_version": "1.5.0",
            "_view_name": "HBoxView",
            "box_style": "",
            "children": [
              "IPY_MODEL_b1c3e51fb1134430bd3a6e4afe17861f",
              "IPY_MODEL_4471e8167c7b4b5bb3a8cf1b5ee64c39",
              "IPY_MODEL_1db95767c3f548ddbdad8131210ec482"
            ],
            "layout": "IPY_MODEL_786a1bcc9c454038b4565f3ac72b0508"
          }
        },
        "b1c3e51fb1134430bd3a6e4afe17861f": {
          "model_module": "@jupyter-widgets/controls",
          "model_name": "HTMLModel",
          "model_module_version": "1.5.0",
          "state": {
            "_dom_classes": [],
            "_model_module": "@jupyter-widgets/controls",
            "_model_module_version": "1.5.0",
            "_model_name": "HTMLModel",
            "_view_count": null,
            "_view_module": "@jupyter-widgets/controls",
            "_view_module_version": "1.5.0",
            "_view_name": "HTMLView",
            "description": "",
            "description_tooltip": null,
            "layout": "IPY_MODEL_bdc875970ff1428cbcebfbc6dbc8e7ce",
            "placeholder": "​",
            "style": "IPY_MODEL_3104f587c2ec465e82bb53ec56afd9ba",
            "value": "100%"
          }
        },
        "4471e8167c7b4b5bb3a8cf1b5ee64c39": {
          "model_module": "@jupyter-widgets/controls",
          "model_name": "FloatProgressModel",
          "model_module_version": "1.5.0",
          "state": {
            "_dom_classes": [],
            "_model_module": "@jupyter-widgets/controls",
            "_model_module_version": "1.5.0",
            "_model_name": "FloatProgressModel",
            "_view_count": null,
            "_view_module": "@jupyter-widgets/controls",
            "_view_module_version": "1.5.0",
            "_view_name": "ProgressView",
            "bar_style": "success",
            "description": "",
            "description_tooltip": null,
            "layout": "IPY_MODEL_854d4a5a69de4c1093259e0533302ff8",
            "max": 1000,
            "min": 0,
            "orientation": "horizontal",
            "style": "IPY_MODEL_760ec693da294375a8be930911ae897f",
            "value": 1000
          }
        },
        "1db95767c3f548ddbdad8131210ec482": {
          "model_module": "@jupyter-widgets/controls",
          "model_name": "HTMLModel",
          "model_module_version": "1.5.0",
          "state": {
            "_dom_classes": [],
            "_model_module": "@jupyter-widgets/controls",
            "_model_module_version": "1.5.0",
            "_model_name": "HTMLModel",
            "_view_count": null,
            "_view_module": "@jupyter-widgets/controls",
            "_view_module_version": "1.5.0",
            "_view_name": "HTMLView",
            "description": "",
            "description_tooltip": null,
            "layout": "IPY_MODEL_43547d1a544b4054b1cd5fbf57f447bb",
            "placeholder": "​",
            "style": "IPY_MODEL_d1f83387a8cd4f1ba9b10215727edc0b",
            "value": " 1000/1000 [00:47&lt;00:00, 21.59it/s]"
          }
        },
        "786a1bcc9c454038b4565f3ac72b0508": {
          "model_module": "@jupyter-widgets/base",
          "model_name": "LayoutModel",
          "model_module_version": "1.2.0",
          "state": {
            "_model_module": "@jupyter-widgets/base",
            "_model_module_version": "1.2.0",
            "_model_name": "LayoutModel",
            "_view_count": null,
            "_view_module": "@jupyter-widgets/base",
            "_view_module_version": "1.2.0",
            "_view_name": "LayoutView",
            "align_content": null,
            "align_items": null,
            "align_self": null,
            "border": null,
            "bottom": null,
            "display": null,
            "flex": null,
            "flex_flow": null,
            "grid_area": null,
            "grid_auto_columns": null,
            "grid_auto_flow": null,
            "grid_auto_rows": null,
            "grid_column": null,
            "grid_gap": null,
            "grid_row": null,
            "grid_template_areas": null,
            "grid_template_columns": null,
            "grid_template_rows": null,
            "height": null,
            "justify_content": null,
            "justify_items": null,
            "left": null,
            "margin": null,
            "max_height": null,
            "max_width": null,
            "min_height": null,
            "min_width": null,
            "object_fit": null,
            "object_position": null,
            "order": null,
            "overflow": null,
            "overflow_x": null,
            "overflow_y": null,
            "padding": null,
            "right": null,
            "top": null,
            "visibility": null,
            "width": null
          }
        },
        "bdc875970ff1428cbcebfbc6dbc8e7ce": {
          "model_module": "@jupyter-widgets/base",
          "model_name": "LayoutModel",
          "model_module_version": "1.2.0",
          "state": {
            "_model_module": "@jupyter-widgets/base",
            "_model_module_version": "1.2.0",
            "_model_name": "LayoutModel",
            "_view_count": null,
            "_view_module": "@jupyter-widgets/base",
            "_view_module_version": "1.2.0",
            "_view_name": "LayoutView",
            "align_content": null,
            "align_items": null,
            "align_self": null,
            "border": null,
            "bottom": null,
            "display": null,
            "flex": null,
            "flex_flow": null,
            "grid_area": null,
            "grid_auto_columns": null,
            "grid_auto_flow": null,
            "grid_auto_rows": null,
            "grid_column": null,
            "grid_gap": null,
            "grid_row": null,
            "grid_template_areas": null,
            "grid_template_columns": null,
            "grid_template_rows": null,
            "height": null,
            "justify_content": null,
            "justify_items": null,
            "left": null,
            "margin": null,
            "max_height": null,
            "max_width": null,
            "min_height": null,
            "min_width": null,
            "object_fit": null,
            "object_position": null,
            "order": null,
            "overflow": null,
            "overflow_x": null,
            "overflow_y": null,
            "padding": null,
            "right": null,
            "top": null,
            "visibility": null,
            "width": null
          }
        },
        "3104f587c2ec465e82bb53ec56afd9ba": {
          "model_module": "@jupyter-widgets/controls",
          "model_name": "DescriptionStyleModel",
          "model_module_version": "1.5.0",
          "state": {
            "_model_module": "@jupyter-widgets/controls",
            "_model_module_version": "1.5.0",
            "_model_name": "DescriptionStyleModel",
            "_view_count": null,
            "_view_module": "@jupyter-widgets/base",
            "_view_module_version": "1.2.0",
            "_view_name": "StyleView",
            "description_width": ""
          }
        },
        "854d4a5a69de4c1093259e0533302ff8": {
          "model_module": "@jupyter-widgets/base",
          "model_name": "LayoutModel",
          "model_module_version": "1.2.0",
          "state": {
            "_model_module": "@jupyter-widgets/base",
            "_model_module_version": "1.2.0",
            "_model_name": "LayoutModel",
            "_view_count": null,
            "_view_module": "@jupyter-widgets/base",
            "_view_module_version": "1.2.0",
            "_view_name": "LayoutView",
            "align_content": null,
            "align_items": null,
            "align_self": null,
            "border": null,
            "bottom": null,
            "display": null,
            "flex": null,
            "flex_flow": null,
            "grid_area": null,
            "grid_auto_columns": null,
            "grid_auto_flow": null,
            "grid_auto_rows": null,
            "grid_column": null,
            "grid_gap": null,
            "grid_row": null,
            "grid_template_areas": null,
            "grid_template_columns": null,
            "grid_template_rows": null,
            "height": null,
            "justify_content": null,
            "justify_items": null,
            "left": null,
            "margin": null,
            "max_height": null,
            "max_width": null,
            "min_height": null,
            "min_width": null,
            "object_fit": null,
            "object_position": null,
            "order": null,
            "overflow": null,
            "overflow_x": null,
            "overflow_y": null,
            "padding": null,
            "right": null,
            "top": null,
            "visibility": null,
            "width": null
          }
        },
        "760ec693da294375a8be930911ae897f": {
          "model_module": "@jupyter-widgets/controls",
          "model_name": "ProgressStyleModel",
          "model_module_version": "1.5.0",
          "state": {
            "_model_module": "@jupyter-widgets/controls",
            "_model_module_version": "1.5.0",
            "_model_name": "ProgressStyleModel",
            "_view_count": null,
            "_view_module": "@jupyter-widgets/base",
            "_view_module_version": "1.2.0",
            "_view_name": "StyleView",
            "bar_color": null,
            "description_width": ""
          }
        },
        "43547d1a544b4054b1cd5fbf57f447bb": {
          "model_module": "@jupyter-widgets/base",
          "model_name": "LayoutModel",
          "model_module_version": "1.2.0",
          "state": {
            "_model_module": "@jupyter-widgets/base",
            "_model_module_version": "1.2.0",
            "_model_name": "LayoutModel",
            "_view_count": null,
            "_view_module": "@jupyter-widgets/base",
            "_view_module_version": "1.2.0",
            "_view_name": "LayoutView",
            "align_content": null,
            "align_items": null,
            "align_self": null,
            "border": null,
            "bottom": null,
            "display": null,
            "flex": null,
            "flex_flow": null,
            "grid_area": null,
            "grid_auto_columns": null,
            "grid_auto_flow": null,
            "grid_auto_rows": null,
            "grid_column": null,
            "grid_gap": null,
            "grid_row": null,
            "grid_template_areas": null,
            "grid_template_columns": null,
            "grid_template_rows": null,
            "height": null,
            "justify_content": null,
            "justify_items": null,
            "left": null,
            "margin": null,
            "max_height": null,
            "max_width": null,
            "min_height": null,
            "min_width": null,
            "object_fit": null,
            "object_position": null,
            "order": null,
            "overflow": null,
            "overflow_x": null,
            "overflow_y": null,
            "padding": null,
            "right": null,
            "top": null,
            "visibility": null,
            "width": null
          }
        },
        "d1f83387a8cd4f1ba9b10215727edc0b": {
          "model_module": "@jupyter-widgets/controls",
          "model_name": "DescriptionStyleModel",
          "model_module_version": "1.5.0",
          "state": {
            "_model_module": "@jupyter-widgets/controls",
            "_model_module_version": "1.5.0",
            "_model_name": "DescriptionStyleModel",
            "_view_count": null,
            "_view_module": "@jupyter-widgets/base",
            "_view_module_version": "1.2.0",
            "_view_name": "StyleView",
            "description_width": ""
          }
        },
        "beb8ce005e904366a2bd5a5f12760e54": {
          "model_module": "@jupyter-widgets/controls",
          "model_name": "HBoxModel",
          "model_module_version": "1.5.0",
          "state": {
            "_dom_classes": [],
            "_model_module": "@jupyter-widgets/controls",
            "_model_module_version": "1.5.0",
            "_model_name": "HBoxModel",
            "_view_count": null,
            "_view_module": "@jupyter-widgets/controls",
            "_view_module_version": "1.5.0",
            "_view_name": "HBoxView",
            "box_style": "",
            "children": [
              "IPY_MODEL_bc4f71dccde2486aa7e4898d43c3a280",
              "IPY_MODEL_09f3a591a62c4c1b9bf1098bef9f4eef",
              "IPY_MODEL_1287e67999c64383b2fed3043a67d952"
            ],
            "layout": "IPY_MODEL_c9d2a659e26d4897a6a3ca0182a6b92e"
          }
        },
        "bc4f71dccde2486aa7e4898d43c3a280": {
          "model_module": "@jupyter-widgets/controls",
          "model_name": "HTMLModel",
          "model_module_version": "1.5.0",
          "state": {
            "_dom_classes": [],
            "_model_module": "@jupyter-widgets/controls",
            "_model_module_version": "1.5.0",
            "_model_name": "HTMLModel",
            "_view_count": null,
            "_view_module": "@jupyter-widgets/controls",
            "_view_module_version": "1.5.0",
            "_view_name": "HTMLView",
            "description": "",
            "description_tooltip": null,
            "layout": "IPY_MODEL_bec5724317574905907688e052a78486",
            "placeholder": "​",
            "style": "IPY_MODEL_24477a8c1db74038a78b994fc5bb0b7c",
            "value": "100%"
          }
        },
        "09f3a591a62c4c1b9bf1098bef9f4eef": {
          "model_module": "@jupyter-widgets/controls",
          "model_name": "FloatProgressModel",
          "model_module_version": "1.5.0",
          "state": {
            "_dom_classes": [],
            "_model_module": "@jupyter-widgets/controls",
            "_model_module_version": "1.5.0",
            "_model_name": "FloatProgressModel",
            "_view_count": null,
            "_view_module": "@jupyter-widgets/controls",
            "_view_module_version": "1.5.0",
            "_view_name": "ProgressView",
            "bar_style": "success",
            "description": "",
            "description_tooltip": null,
            "layout": "IPY_MODEL_325398e5daaa46ff9151e5363578bf05",
            "max": 1000,
            "min": 0,
            "orientation": "horizontal",
            "style": "IPY_MODEL_0a384e43c1184a68b44287cee2560449",
            "value": 1000
          }
        },
        "1287e67999c64383b2fed3043a67d952": {
          "model_module": "@jupyter-widgets/controls",
          "model_name": "HTMLModel",
          "model_module_version": "1.5.0",
          "state": {
            "_dom_classes": [],
            "_model_module": "@jupyter-widgets/controls",
            "_model_module_version": "1.5.0",
            "_model_name": "HTMLModel",
            "_view_count": null,
            "_view_module": "@jupyter-widgets/controls",
            "_view_module_version": "1.5.0",
            "_view_name": "HTMLView",
            "description": "",
            "description_tooltip": null,
            "layout": "IPY_MODEL_f0859ce07ab741669075693d49f40634",
            "placeholder": "​",
            "style": "IPY_MODEL_17fbc004f66d40438b5c2f679911c49c",
            "value": " 1000/1000 [00:48&lt;00:00, 21.42it/s]"
          }
        },
        "c9d2a659e26d4897a6a3ca0182a6b92e": {
          "model_module": "@jupyter-widgets/base",
          "model_name": "LayoutModel",
          "model_module_version": "1.2.0",
          "state": {
            "_model_module": "@jupyter-widgets/base",
            "_model_module_version": "1.2.0",
            "_model_name": "LayoutModel",
            "_view_count": null,
            "_view_module": "@jupyter-widgets/base",
            "_view_module_version": "1.2.0",
            "_view_name": "LayoutView",
            "align_content": null,
            "align_items": null,
            "align_self": null,
            "border": null,
            "bottom": null,
            "display": null,
            "flex": null,
            "flex_flow": null,
            "grid_area": null,
            "grid_auto_columns": null,
            "grid_auto_flow": null,
            "grid_auto_rows": null,
            "grid_column": null,
            "grid_gap": null,
            "grid_row": null,
            "grid_template_areas": null,
            "grid_template_columns": null,
            "grid_template_rows": null,
            "height": null,
            "justify_content": null,
            "justify_items": null,
            "left": null,
            "margin": null,
            "max_height": null,
            "max_width": null,
            "min_height": null,
            "min_width": null,
            "object_fit": null,
            "object_position": null,
            "order": null,
            "overflow": null,
            "overflow_x": null,
            "overflow_y": null,
            "padding": null,
            "right": null,
            "top": null,
            "visibility": null,
            "width": null
          }
        },
        "bec5724317574905907688e052a78486": {
          "model_module": "@jupyter-widgets/base",
          "model_name": "LayoutModel",
          "model_module_version": "1.2.0",
          "state": {
            "_model_module": "@jupyter-widgets/base",
            "_model_module_version": "1.2.0",
            "_model_name": "LayoutModel",
            "_view_count": null,
            "_view_module": "@jupyter-widgets/base",
            "_view_module_version": "1.2.0",
            "_view_name": "LayoutView",
            "align_content": null,
            "align_items": null,
            "align_self": null,
            "border": null,
            "bottom": null,
            "display": null,
            "flex": null,
            "flex_flow": null,
            "grid_area": null,
            "grid_auto_columns": null,
            "grid_auto_flow": null,
            "grid_auto_rows": null,
            "grid_column": null,
            "grid_gap": null,
            "grid_row": null,
            "grid_template_areas": null,
            "grid_template_columns": null,
            "grid_template_rows": null,
            "height": null,
            "justify_content": null,
            "justify_items": null,
            "left": null,
            "margin": null,
            "max_height": null,
            "max_width": null,
            "min_height": null,
            "min_width": null,
            "object_fit": null,
            "object_position": null,
            "order": null,
            "overflow": null,
            "overflow_x": null,
            "overflow_y": null,
            "padding": null,
            "right": null,
            "top": null,
            "visibility": null,
            "width": null
          }
        },
        "24477a8c1db74038a78b994fc5bb0b7c": {
          "model_module": "@jupyter-widgets/controls",
          "model_name": "DescriptionStyleModel",
          "model_module_version": "1.5.0",
          "state": {
            "_model_module": "@jupyter-widgets/controls",
            "_model_module_version": "1.5.0",
            "_model_name": "DescriptionStyleModel",
            "_view_count": null,
            "_view_module": "@jupyter-widgets/base",
            "_view_module_version": "1.2.0",
            "_view_name": "StyleView",
            "description_width": ""
          }
        },
        "325398e5daaa46ff9151e5363578bf05": {
          "model_module": "@jupyter-widgets/base",
          "model_name": "LayoutModel",
          "model_module_version": "1.2.0",
          "state": {
            "_model_module": "@jupyter-widgets/base",
            "_model_module_version": "1.2.0",
            "_model_name": "LayoutModel",
            "_view_count": null,
            "_view_module": "@jupyter-widgets/base",
            "_view_module_version": "1.2.0",
            "_view_name": "LayoutView",
            "align_content": null,
            "align_items": null,
            "align_self": null,
            "border": null,
            "bottom": null,
            "display": null,
            "flex": null,
            "flex_flow": null,
            "grid_area": null,
            "grid_auto_columns": null,
            "grid_auto_flow": null,
            "grid_auto_rows": null,
            "grid_column": null,
            "grid_gap": null,
            "grid_row": null,
            "grid_template_areas": null,
            "grid_template_columns": null,
            "grid_template_rows": null,
            "height": null,
            "justify_content": null,
            "justify_items": null,
            "left": null,
            "margin": null,
            "max_height": null,
            "max_width": null,
            "min_height": null,
            "min_width": null,
            "object_fit": null,
            "object_position": null,
            "order": null,
            "overflow": null,
            "overflow_x": null,
            "overflow_y": null,
            "padding": null,
            "right": null,
            "top": null,
            "visibility": null,
            "width": null
          }
        },
        "0a384e43c1184a68b44287cee2560449": {
          "model_module": "@jupyter-widgets/controls",
          "model_name": "ProgressStyleModel",
          "model_module_version": "1.5.0",
          "state": {
            "_model_module": "@jupyter-widgets/controls",
            "_model_module_version": "1.5.0",
            "_model_name": "ProgressStyleModel",
            "_view_count": null,
            "_view_module": "@jupyter-widgets/base",
            "_view_module_version": "1.2.0",
            "_view_name": "StyleView",
            "bar_color": null,
            "description_width": ""
          }
        },
        "f0859ce07ab741669075693d49f40634": {
          "model_module": "@jupyter-widgets/base",
          "model_name": "LayoutModel",
          "model_module_version": "1.2.0",
          "state": {
            "_model_module": "@jupyter-widgets/base",
            "_model_module_version": "1.2.0",
            "_model_name": "LayoutModel",
            "_view_count": null,
            "_view_module": "@jupyter-widgets/base",
            "_view_module_version": "1.2.0",
            "_view_name": "LayoutView",
            "align_content": null,
            "align_items": null,
            "align_self": null,
            "border": null,
            "bottom": null,
            "display": null,
            "flex": null,
            "flex_flow": null,
            "grid_area": null,
            "grid_auto_columns": null,
            "grid_auto_flow": null,
            "grid_auto_rows": null,
            "grid_column": null,
            "grid_gap": null,
            "grid_row": null,
            "grid_template_areas": null,
            "grid_template_columns": null,
            "grid_template_rows": null,
            "height": null,
            "justify_content": null,
            "justify_items": null,
            "left": null,
            "margin": null,
            "max_height": null,
            "max_width": null,
            "min_height": null,
            "min_width": null,
            "object_fit": null,
            "object_position": null,
            "order": null,
            "overflow": null,
            "overflow_x": null,
            "overflow_y": null,
            "padding": null,
            "right": null,
            "top": null,
            "visibility": null,
            "width": null
          }
        },
        "17fbc004f66d40438b5c2f679911c49c": {
          "model_module": "@jupyter-widgets/controls",
          "model_name": "DescriptionStyleModel",
          "model_module_version": "1.5.0",
          "state": {
            "_model_module": "@jupyter-widgets/controls",
            "_model_module_version": "1.5.0",
            "_model_name": "DescriptionStyleModel",
            "_view_count": null,
            "_view_module": "@jupyter-widgets/base",
            "_view_module_version": "1.2.0",
            "_view_name": "StyleView",
            "description_width": ""
          }
        },
        "cf90701f9ade4378935b580ef70a8654": {
          "model_module": "@jupyter-widgets/controls",
          "model_name": "HBoxModel",
          "model_module_version": "1.5.0",
          "state": {
            "_dom_classes": [],
            "_model_module": "@jupyter-widgets/controls",
            "_model_module_version": "1.5.0",
            "_model_name": "HBoxModel",
            "_view_count": null,
            "_view_module": "@jupyter-widgets/controls",
            "_view_module_version": "1.5.0",
            "_view_name": "HBoxView",
            "box_style": "",
            "children": [
              "IPY_MODEL_2b46e36e5bfb4d958efedbb04778feb5",
              "IPY_MODEL_737fdc71510e4f6babf32429d82ddc75",
              "IPY_MODEL_c139c48b49c44b61abff8e54058d9f41"
            ],
            "layout": "IPY_MODEL_d373e5b472ad4709be8cb452e4506012"
          }
        },
        "2b46e36e5bfb4d958efedbb04778feb5": {
          "model_module": "@jupyter-widgets/controls",
          "model_name": "HTMLModel",
          "model_module_version": "1.5.0",
          "state": {
            "_dom_classes": [],
            "_model_module": "@jupyter-widgets/controls",
            "_model_module_version": "1.5.0",
            "_model_name": "HTMLModel",
            "_view_count": null,
            "_view_module": "@jupyter-widgets/controls",
            "_view_module_version": "1.5.0",
            "_view_name": "HTMLView",
            "description": "",
            "description_tooltip": null,
            "layout": "IPY_MODEL_60330b33b3a8492295c3706498d46bc5",
            "placeholder": "​",
            "style": "IPY_MODEL_00ecfcf4ee264d7585df20ebeef80ee5",
            "value": "100%"
          }
        },
        "737fdc71510e4f6babf32429d82ddc75": {
          "model_module": "@jupyter-widgets/controls",
          "model_name": "FloatProgressModel",
          "model_module_version": "1.5.0",
          "state": {
            "_dom_classes": [],
            "_model_module": "@jupyter-widgets/controls",
            "_model_module_version": "1.5.0",
            "_model_name": "FloatProgressModel",
            "_view_count": null,
            "_view_module": "@jupyter-widgets/controls",
            "_view_module_version": "1.5.0",
            "_view_name": "ProgressView",
            "bar_style": "success",
            "description": "",
            "description_tooltip": null,
            "layout": "IPY_MODEL_901b86307127426e8ed4d2990ce478d6",
            "max": 313,
            "min": 0,
            "orientation": "horizontal",
            "style": "IPY_MODEL_0862b148e97443c9b4ad3fcbf988d6db",
            "value": 313
          }
        },
        "c139c48b49c44b61abff8e54058d9f41": {
          "model_module": "@jupyter-widgets/controls",
          "model_name": "HTMLModel",
          "model_module_version": "1.5.0",
          "state": {
            "_dom_classes": [],
            "_model_module": "@jupyter-widgets/controls",
            "_model_module_version": "1.5.0",
            "_model_name": "HTMLModel",
            "_view_count": null,
            "_view_module": "@jupyter-widgets/controls",
            "_view_module_version": "1.5.0",
            "_view_name": "HTMLView",
            "description": "",
            "description_tooltip": null,
            "layout": "IPY_MODEL_e7c05bbd8ae0429aba2f9fc1a7368177",
            "placeholder": "​",
            "style": "IPY_MODEL_eeabff4519a34c6cb1e57ee7cdb17dd9",
            "value": " 313/313 [03:32&lt;00:00,  1.69it/s]"
          }
        },
        "d373e5b472ad4709be8cb452e4506012": {
          "model_module": "@jupyter-widgets/base",
          "model_name": "LayoutModel",
          "model_module_version": "1.2.0",
          "state": {
            "_model_module": "@jupyter-widgets/base",
            "_model_module_version": "1.2.0",
            "_model_name": "LayoutModel",
            "_view_count": null,
            "_view_module": "@jupyter-widgets/base",
            "_view_module_version": "1.2.0",
            "_view_name": "LayoutView",
            "align_content": null,
            "align_items": null,
            "align_self": null,
            "border": null,
            "bottom": null,
            "display": null,
            "flex": null,
            "flex_flow": null,
            "grid_area": null,
            "grid_auto_columns": null,
            "grid_auto_flow": null,
            "grid_auto_rows": null,
            "grid_column": null,
            "grid_gap": null,
            "grid_row": null,
            "grid_template_areas": null,
            "grid_template_columns": null,
            "grid_template_rows": null,
            "height": null,
            "justify_content": null,
            "justify_items": null,
            "left": null,
            "margin": null,
            "max_height": null,
            "max_width": null,
            "min_height": null,
            "min_width": null,
            "object_fit": null,
            "object_position": null,
            "order": null,
            "overflow": null,
            "overflow_x": null,
            "overflow_y": null,
            "padding": null,
            "right": null,
            "top": null,
            "visibility": null,
            "width": null
          }
        },
        "60330b33b3a8492295c3706498d46bc5": {
          "model_module": "@jupyter-widgets/base",
          "model_name": "LayoutModel",
          "model_module_version": "1.2.0",
          "state": {
            "_model_module": "@jupyter-widgets/base",
            "_model_module_version": "1.2.0",
            "_model_name": "LayoutModel",
            "_view_count": null,
            "_view_module": "@jupyter-widgets/base",
            "_view_module_version": "1.2.0",
            "_view_name": "LayoutView",
            "align_content": null,
            "align_items": null,
            "align_self": null,
            "border": null,
            "bottom": null,
            "display": null,
            "flex": null,
            "flex_flow": null,
            "grid_area": null,
            "grid_auto_columns": null,
            "grid_auto_flow": null,
            "grid_auto_rows": null,
            "grid_column": null,
            "grid_gap": null,
            "grid_row": null,
            "grid_template_areas": null,
            "grid_template_columns": null,
            "grid_template_rows": null,
            "height": null,
            "justify_content": null,
            "justify_items": null,
            "left": null,
            "margin": null,
            "max_height": null,
            "max_width": null,
            "min_height": null,
            "min_width": null,
            "object_fit": null,
            "object_position": null,
            "order": null,
            "overflow": null,
            "overflow_x": null,
            "overflow_y": null,
            "padding": null,
            "right": null,
            "top": null,
            "visibility": null,
            "width": null
          }
        },
        "00ecfcf4ee264d7585df20ebeef80ee5": {
          "model_module": "@jupyter-widgets/controls",
          "model_name": "DescriptionStyleModel",
          "model_module_version": "1.5.0",
          "state": {
            "_model_module": "@jupyter-widgets/controls",
            "_model_module_version": "1.5.0",
            "_model_name": "DescriptionStyleModel",
            "_view_count": null,
            "_view_module": "@jupyter-widgets/base",
            "_view_module_version": "1.2.0",
            "_view_name": "StyleView",
            "description_width": ""
          }
        },
        "901b86307127426e8ed4d2990ce478d6": {
          "model_module": "@jupyter-widgets/base",
          "model_name": "LayoutModel",
          "model_module_version": "1.2.0",
          "state": {
            "_model_module": "@jupyter-widgets/base",
            "_model_module_version": "1.2.0",
            "_model_name": "LayoutModel",
            "_view_count": null,
            "_view_module": "@jupyter-widgets/base",
            "_view_module_version": "1.2.0",
            "_view_name": "LayoutView",
            "align_content": null,
            "align_items": null,
            "align_self": null,
            "border": null,
            "bottom": null,
            "display": null,
            "flex": null,
            "flex_flow": null,
            "grid_area": null,
            "grid_auto_columns": null,
            "grid_auto_flow": null,
            "grid_auto_rows": null,
            "grid_column": null,
            "grid_gap": null,
            "grid_row": null,
            "grid_template_areas": null,
            "grid_template_columns": null,
            "grid_template_rows": null,
            "height": null,
            "justify_content": null,
            "justify_items": null,
            "left": null,
            "margin": null,
            "max_height": null,
            "max_width": null,
            "min_height": null,
            "min_width": null,
            "object_fit": null,
            "object_position": null,
            "order": null,
            "overflow": null,
            "overflow_x": null,
            "overflow_y": null,
            "padding": null,
            "right": null,
            "top": null,
            "visibility": null,
            "width": null
          }
        },
        "0862b148e97443c9b4ad3fcbf988d6db": {
          "model_module": "@jupyter-widgets/controls",
          "model_name": "ProgressStyleModel",
          "model_module_version": "1.5.0",
          "state": {
            "_model_module": "@jupyter-widgets/controls",
            "_model_module_version": "1.5.0",
            "_model_name": "ProgressStyleModel",
            "_view_count": null,
            "_view_module": "@jupyter-widgets/base",
            "_view_module_version": "1.2.0",
            "_view_name": "StyleView",
            "bar_color": null,
            "description_width": ""
          }
        },
        "e7c05bbd8ae0429aba2f9fc1a7368177": {
          "model_module": "@jupyter-widgets/base",
          "model_name": "LayoutModel",
          "model_module_version": "1.2.0",
          "state": {
            "_model_module": "@jupyter-widgets/base",
            "_model_module_version": "1.2.0",
            "_model_name": "LayoutModel",
            "_view_count": null,
            "_view_module": "@jupyter-widgets/base",
            "_view_module_version": "1.2.0",
            "_view_name": "LayoutView",
            "align_content": null,
            "align_items": null,
            "align_self": null,
            "border": null,
            "bottom": null,
            "display": null,
            "flex": null,
            "flex_flow": null,
            "grid_area": null,
            "grid_auto_columns": null,
            "grid_auto_flow": null,
            "grid_auto_rows": null,
            "grid_column": null,
            "grid_gap": null,
            "grid_row": null,
            "grid_template_areas": null,
            "grid_template_columns": null,
            "grid_template_rows": null,
            "height": null,
            "justify_content": null,
            "justify_items": null,
            "left": null,
            "margin": null,
            "max_height": null,
            "max_width": null,
            "min_height": null,
            "min_width": null,
            "object_fit": null,
            "object_position": null,
            "order": null,
            "overflow": null,
            "overflow_x": null,
            "overflow_y": null,
            "padding": null,
            "right": null,
            "top": null,
            "visibility": null,
            "width": null
          }
        },
        "eeabff4519a34c6cb1e57ee7cdb17dd9": {
          "model_module": "@jupyter-widgets/controls",
          "model_name": "DescriptionStyleModel",
          "model_module_version": "1.5.0",
          "state": {
            "_model_module": "@jupyter-widgets/controls",
            "_model_module_version": "1.5.0",
            "_model_name": "DescriptionStyleModel",
            "_view_count": null,
            "_view_module": "@jupyter-widgets/base",
            "_view_module_version": "1.2.0",
            "_view_name": "StyleView",
            "description_width": ""
          }
        },
        "5570ba58db9f4cc2b8d970c727aaa08b": {
          "model_module": "@jupyter-widgets/controls",
          "model_name": "HBoxModel",
          "model_module_version": "1.5.0",
          "state": {
            "_dom_classes": [],
            "_model_module": "@jupyter-widgets/controls",
            "_model_module_version": "1.5.0",
            "_model_name": "HBoxModel",
            "_view_count": null,
            "_view_module": "@jupyter-widgets/controls",
            "_view_module_version": "1.5.0",
            "_view_name": "HBoxView",
            "box_style": "",
            "children": [
              "IPY_MODEL_8b8c965b0df74f79bea1cd16609173e8",
              "IPY_MODEL_cff6a99ddc35477982854e7da08628ef",
              "IPY_MODEL_910d9eceb9f842ada95e115985cbd52c"
            ],
            "layout": "IPY_MODEL_79b27d28b0be4763b55bcbc8c5694312"
          }
        },
        "8b8c965b0df74f79bea1cd16609173e8": {
          "model_module": "@jupyter-widgets/controls",
          "model_name": "HTMLModel",
          "model_module_version": "1.5.0",
          "state": {
            "_dom_classes": [],
            "_model_module": "@jupyter-widgets/controls",
            "_model_module_version": "1.5.0",
            "_model_name": "HTMLModel",
            "_view_count": null,
            "_view_module": "@jupyter-widgets/controls",
            "_view_module_version": "1.5.0",
            "_view_name": "HTMLView",
            "description": "",
            "description_tooltip": null,
            "layout": "IPY_MODEL_0e187b676b23409eac82824fcdc51df8",
            "placeholder": "​",
            "style": "IPY_MODEL_43f9a3122e3f4987a9d41e3f60698681",
            "value": "100%"
          }
        },
        "cff6a99ddc35477982854e7da08628ef": {
          "model_module": "@jupyter-widgets/controls",
          "model_name": "FloatProgressModel",
          "model_module_version": "1.5.0",
          "state": {
            "_dom_classes": [],
            "_model_module": "@jupyter-widgets/controls",
            "_model_module_version": "1.5.0",
            "_model_name": "FloatProgressModel",
            "_view_count": null,
            "_view_module": "@jupyter-widgets/controls",
            "_view_module_version": "1.5.0",
            "_view_name": "ProgressView",
            "bar_style": "success",
            "description": "",
            "description_tooltip": null,
            "layout": "IPY_MODEL_7582436bde164a27bdac534e4ee45161",
            "max": 32,
            "min": 0,
            "orientation": "horizontal",
            "style": "IPY_MODEL_13f7aacaad93437dbb26b13013bb5629",
            "value": 32
          }
        },
        "910d9eceb9f842ada95e115985cbd52c": {
          "model_module": "@jupyter-widgets/controls",
          "model_name": "HTMLModel",
          "model_module_version": "1.5.0",
          "state": {
            "_dom_classes": [],
            "_model_module": "@jupyter-widgets/controls",
            "_model_module_version": "1.5.0",
            "_model_name": "HTMLModel",
            "_view_count": null,
            "_view_module": "@jupyter-widgets/controls",
            "_view_module_version": "1.5.0",
            "_view_name": "HTMLView",
            "description": "",
            "description_tooltip": null,
            "layout": "IPY_MODEL_1910f7b733d948f193d681ec21209bd6",
            "placeholder": "​",
            "style": "IPY_MODEL_3ea350d968b84577a3141bee7f212061",
            "value": " 32/32 [00:06&lt;00:00,  4.79it/s]"
          }
        },
        "79b27d28b0be4763b55bcbc8c5694312": {
          "model_module": "@jupyter-widgets/base",
          "model_name": "LayoutModel",
          "model_module_version": "1.2.0",
          "state": {
            "_model_module": "@jupyter-widgets/base",
            "_model_module_version": "1.2.0",
            "_model_name": "LayoutModel",
            "_view_count": null,
            "_view_module": "@jupyter-widgets/base",
            "_view_module_version": "1.2.0",
            "_view_name": "LayoutView",
            "align_content": null,
            "align_items": null,
            "align_self": null,
            "border": null,
            "bottom": null,
            "display": null,
            "flex": null,
            "flex_flow": null,
            "grid_area": null,
            "grid_auto_columns": null,
            "grid_auto_flow": null,
            "grid_auto_rows": null,
            "grid_column": null,
            "grid_gap": null,
            "grid_row": null,
            "grid_template_areas": null,
            "grid_template_columns": null,
            "grid_template_rows": null,
            "height": null,
            "justify_content": null,
            "justify_items": null,
            "left": null,
            "margin": null,
            "max_height": null,
            "max_width": null,
            "min_height": null,
            "min_width": null,
            "object_fit": null,
            "object_position": null,
            "order": null,
            "overflow": null,
            "overflow_x": null,
            "overflow_y": null,
            "padding": null,
            "right": null,
            "top": null,
            "visibility": null,
            "width": null
          }
        },
        "0e187b676b23409eac82824fcdc51df8": {
          "model_module": "@jupyter-widgets/base",
          "model_name": "LayoutModel",
          "model_module_version": "1.2.0",
          "state": {
            "_model_module": "@jupyter-widgets/base",
            "_model_module_version": "1.2.0",
            "_model_name": "LayoutModel",
            "_view_count": null,
            "_view_module": "@jupyter-widgets/base",
            "_view_module_version": "1.2.0",
            "_view_name": "LayoutView",
            "align_content": null,
            "align_items": null,
            "align_self": null,
            "border": null,
            "bottom": null,
            "display": null,
            "flex": null,
            "flex_flow": null,
            "grid_area": null,
            "grid_auto_columns": null,
            "grid_auto_flow": null,
            "grid_auto_rows": null,
            "grid_column": null,
            "grid_gap": null,
            "grid_row": null,
            "grid_template_areas": null,
            "grid_template_columns": null,
            "grid_template_rows": null,
            "height": null,
            "justify_content": null,
            "justify_items": null,
            "left": null,
            "margin": null,
            "max_height": null,
            "max_width": null,
            "min_height": null,
            "min_width": null,
            "object_fit": null,
            "object_position": null,
            "order": null,
            "overflow": null,
            "overflow_x": null,
            "overflow_y": null,
            "padding": null,
            "right": null,
            "top": null,
            "visibility": null,
            "width": null
          }
        },
        "43f9a3122e3f4987a9d41e3f60698681": {
          "model_module": "@jupyter-widgets/controls",
          "model_name": "DescriptionStyleModel",
          "model_module_version": "1.5.0",
          "state": {
            "_model_module": "@jupyter-widgets/controls",
            "_model_module_version": "1.5.0",
            "_model_name": "DescriptionStyleModel",
            "_view_count": null,
            "_view_module": "@jupyter-widgets/base",
            "_view_module_version": "1.2.0",
            "_view_name": "StyleView",
            "description_width": ""
          }
        },
        "7582436bde164a27bdac534e4ee45161": {
          "model_module": "@jupyter-widgets/base",
          "model_name": "LayoutModel",
          "model_module_version": "1.2.0",
          "state": {
            "_model_module": "@jupyter-widgets/base",
            "_model_module_version": "1.2.0",
            "_model_name": "LayoutModel",
            "_view_count": null,
            "_view_module": "@jupyter-widgets/base",
            "_view_module_version": "1.2.0",
            "_view_name": "LayoutView",
            "align_content": null,
            "align_items": null,
            "align_self": null,
            "border": null,
            "bottom": null,
            "display": null,
            "flex": null,
            "flex_flow": null,
            "grid_area": null,
            "grid_auto_columns": null,
            "grid_auto_flow": null,
            "grid_auto_rows": null,
            "grid_column": null,
            "grid_gap": null,
            "grid_row": null,
            "grid_template_areas": null,
            "grid_template_columns": null,
            "grid_template_rows": null,
            "height": null,
            "justify_content": null,
            "justify_items": null,
            "left": null,
            "margin": null,
            "max_height": null,
            "max_width": null,
            "min_height": null,
            "min_width": null,
            "object_fit": null,
            "object_position": null,
            "order": null,
            "overflow": null,
            "overflow_x": null,
            "overflow_y": null,
            "padding": null,
            "right": null,
            "top": null,
            "visibility": null,
            "width": null
          }
        },
        "13f7aacaad93437dbb26b13013bb5629": {
          "model_module": "@jupyter-widgets/controls",
          "model_name": "ProgressStyleModel",
          "model_module_version": "1.5.0",
          "state": {
            "_model_module": "@jupyter-widgets/controls",
            "_model_module_version": "1.5.0",
            "_model_name": "ProgressStyleModel",
            "_view_count": null,
            "_view_module": "@jupyter-widgets/base",
            "_view_module_version": "1.2.0",
            "_view_name": "StyleView",
            "bar_color": null,
            "description_width": ""
          }
        },
        "1910f7b733d948f193d681ec21209bd6": {
          "model_module": "@jupyter-widgets/base",
          "model_name": "LayoutModel",
          "model_module_version": "1.2.0",
          "state": {
            "_model_module": "@jupyter-widgets/base",
            "_model_module_version": "1.2.0",
            "_model_name": "LayoutModel",
            "_view_count": null,
            "_view_module": "@jupyter-widgets/base",
            "_view_module_version": "1.2.0",
            "_view_name": "LayoutView",
            "align_content": null,
            "align_items": null,
            "align_self": null,
            "border": null,
            "bottom": null,
            "display": null,
            "flex": null,
            "flex_flow": null,
            "grid_area": null,
            "grid_auto_columns": null,
            "grid_auto_flow": null,
            "grid_auto_rows": null,
            "grid_column": null,
            "grid_gap": null,
            "grid_row": null,
            "grid_template_areas": null,
            "grid_template_columns": null,
            "grid_template_rows": null,
            "height": null,
            "justify_content": null,
            "justify_items": null,
            "left": null,
            "margin": null,
            "max_height": null,
            "max_width": null,
            "min_height": null,
            "min_width": null,
            "object_fit": null,
            "object_position": null,
            "order": null,
            "overflow": null,
            "overflow_x": null,
            "overflow_y": null,
            "padding": null,
            "right": null,
            "top": null,
            "visibility": null,
            "width": null
          }
        },
        "3ea350d968b84577a3141bee7f212061": {
          "model_module": "@jupyter-widgets/controls",
          "model_name": "DescriptionStyleModel",
          "model_module_version": "1.5.0",
          "state": {
            "_model_module": "@jupyter-widgets/controls",
            "_model_module_version": "1.5.0",
            "_model_name": "DescriptionStyleModel",
            "_view_count": null,
            "_view_module": "@jupyter-widgets/base",
            "_view_module_version": "1.2.0",
            "_view_name": "StyleView",
            "description_width": ""
          }
        },
        "c05a966d29864f1bab7ce850ad6ccacc": {
          "model_module": "@jupyter-widgets/controls",
          "model_name": "HBoxModel",
          "model_module_version": "1.5.0",
          "state": {
            "_dom_classes": [],
            "_model_module": "@jupyter-widgets/controls",
            "_model_module_version": "1.5.0",
            "_model_name": "HBoxModel",
            "_view_count": null,
            "_view_module": "@jupyter-widgets/controls",
            "_view_module_version": "1.5.0",
            "_view_name": "HBoxView",
            "box_style": "",
            "children": [
              "IPY_MODEL_9976dfe46e4b4d65ac4f58ba9eb05a12",
              "IPY_MODEL_43280c217f954a6d83cfac069c9d2729",
              "IPY_MODEL_c408adb2b490437f8a888ccd52f28d72"
            ],
            "layout": "IPY_MODEL_21fc3eba2f644564a8e6c5ae09da7347"
          }
        },
        "9976dfe46e4b4d65ac4f58ba9eb05a12": {
          "model_module": "@jupyter-widgets/controls",
          "model_name": "HTMLModel",
          "model_module_version": "1.5.0",
          "state": {
            "_dom_classes": [],
            "_model_module": "@jupyter-widgets/controls",
            "_model_module_version": "1.5.0",
            "_model_name": "HTMLModel",
            "_view_count": null,
            "_view_module": "@jupyter-widgets/controls",
            "_view_module_version": "1.5.0",
            "_view_name": "HTMLView",
            "description": "",
            "description_tooltip": null,
            "layout": "IPY_MODEL_24082b4689be46bdb2d58f75dc9ef24e",
            "placeholder": "​",
            "style": "IPY_MODEL_d34e7b2d71b64ebabadbcade1bfa1014",
            "value": "100%"
          }
        },
        "43280c217f954a6d83cfac069c9d2729": {
          "model_module": "@jupyter-widgets/controls",
          "model_name": "FloatProgressModel",
          "model_module_version": "1.5.0",
          "state": {
            "_dom_classes": [],
            "_model_module": "@jupyter-widgets/controls",
            "_model_module_version": "1.5.0",
            "_model_name": "FloatProgressModel",
            "_view_count": null,
            "_view_module": "@jupyter-widgets/controls",
            "_view_module_version": "1.5.0",
            "_view_name": "ProgressView",
            "bar_style": "success",
            "description": "",
            "description_tooltip": null,
            "layout": "IPY_MODEL_c76ba0cfe2114081a0c2c148b75b0fa5",
            "max": 1000,
            "min": 0,
            "orientation": "horizontal",
            "style": "IPY_MODEL_707f8d8139d041baaa405090e6591751",
            "value": 1000
          }
        },
        "c408adb2b490437f8a888ccd52f28d72": {
          "model_module": "@jupyter-widgets/controls",
          "model_name": "HTMLModel",
          "model_module_version": "1.5.0",
          "state": {
            "_dom_classes": [],
            "_model_module": "@jupyter-widgets/controls",
            "_model_module_version": "1.5.0",
            "_model_name": "HTMLModel",
            "_view_count": null,
            "_view_module": "@jupyter-widgets/controls",
            "_view_module_version": "1.5.0",
            "_view_name": "HTMLView",
            "description": "",
            "description_tooltip": null,
            "layout": "IPY_MODEL_3d5dc4aa1bd2447f81a49548442cd12f",
            "placeholder": "​",
            "style": "IPY_MODEL_23f66a0683124f05bfccf7030666f921",
            "value": " 1000/1000 [00:43&lt;00:00, 24.65it/s]"
          }
        },
        "21fc3eba2f644564a8e6c5ae09da7347": {
          "model_module": "@jupyter-widgets/base",
          "model_name": "LayoutModel",
          "model_module_version": "1.2.0",
          "state": {
            "_model_module": "@jupyter-widgets/base",
            "_model_module_version": "1.2.0",
            "_model_name": "LayoutModel",
            "_view_count": null,
            "_view_module": "@jupyter-widgets/base",
            "_view_module_version": "1.2.0",
            "_view_name": "LayoutView",
            "align_content": null,
            "align_items": null,
            "align_self": null,
            "border": null,
            "bottom": null,
            "display": null,
            "flex": null,
            "flex_flow": null,
            "grid_area": null,
            "grid_auto_columns": null,
            "grid_auto_flow": null,
            "grid_auto_rows": null,
            "grid_column": null,
            "grid_gap": null,
            "grid_row": null,
            "grid_template_areas": null,
            "grid_template_columns": null,
            "grid_template_rows": null,
            "height": null,
            "justify_content": null,
            "justify_items": null,
            "left": null,
            "margin": null,
            "max_height": null,
            "max_width": null,
            "min_height": null,
            "min_width": null,
            "object_fit": null,
            "object_position": null,
            "order": null,
            "overflow": null,
            "overflow_x": null,
            "overflow_y": null,
            "padding": null,
            "right": null,
            "top": null,
            "visibility": null,
            "width": null
          }
        },
        "24082b4689be46bdb2d58f75dc9ef24e": {
          "model_module": "@jupyter-widgets/base",
          "model_name": "LayoutModel",
          "model_module_version": "1.2.0",
          "state": {
            "_model_module": "@jupyter-widgets/base",
            "_model_module_version": "1.2.0",
            "_model_name": "LayoutModel",
            "_view_count": null,
            "_view_module": "@jupyter-widgets/base",
            "_view_module_version": "1.2.0",
            "_view_name": "LayoutView",
            "align_content": null,
            "align_items": null,
            "align_self": null,
            "border": null,
            "bottom": null,
            "display": null,
            "flex": null,
            "flex_flow": null,
            "grid_area": null,
            "grid_auto_columns": null,
            "grid_auto_flow": null,
            "grid_auto_rows": null,
            "grid_column": null,
            "grid_gap": null,
            "grid_row": null,
            "grid_template_areas": null,
            "grid_template_columns": null,
            "grid_template_rows": null,
            "height": null,
            "justify_content": null,
            "justify_items": null,
            "left": null,
            "margin": null,
            "max_height": null,
            "max_width": null,
            "min_height": null,
            "min_width": null,
            "object_fit": null,
            "object_position": null,
            "order": null,
            "overflow": null,
            "overflow_x": null,
            "overflow_y": null,
            "padding": null,
            "right": null,
            "top": null,
            "visibility": null,
            "width": null
          }
        },
        "d34e7b2d71b64ebabadbcade1bfa1014": {
          "model_module": "@jupyter-widgets/controls",
          "model_name": "DescriptionStyleModel",
          "model_module_version": "1.5.0",
          "state": {
            "_model_module": "@jupyter-widgets/controls",
            "_model_module_version": "1.5.0",
            "_model_name": "DescriptionStyleModel",
            "_view_count": null,
            "_view_module": "@jupyter-widgets/base",
            "_view_module_version": "1.2.0",
            "_view_name": "StyleView",
            "description_width": ""
          }
        },
        "c76ba0cfe2114081a0c2c148b75b0fa5": {
          "model_module": "@jupyter-widgets/base",
          "model_name": "LayoutModel",
          "model_module_version": "1.2.0",
          "state": {
            "_model_module": "@jupyter-widgets/base",
            "_model_module_version": "1.2.0",
            "_model_name": "LayoutModel",
            "_view_count": null,
            "_view_module": "@jupyter-widgets/base",
            "_view_module_version": "1.2.0",
            "_view_name": "LayoutView",
            "align_content": null,
            "align_items": null,
            "align_self": null,
            "border": null,
            "bottom": null,
            "display": null,
            "flex": null,
            "flex_flow": null,
            "grid_area": null,
            "grid_auto_columns": null,
            "grid_auto_flow": null,
            "grid_auto_rows": null,
            "grid_column": null,
            "grid_gap": null,
            "grid_row": null,
            "grid_template_areas": null,
            "grid_template_columns": null,
            "grid_template_rows": null,
            "height": null,
            "justify_content": null,
            "justify_items": null,
            "left": null,
            "margin": null,
            "max_height": null,
            "max_width": null,
            "min_height": null,
            "min_width": null,
            "object_fit": null,
            "object_position": null,
            "order": null,
            "overflow": null,
            "overflow_x": null,
            "overflow_y": null,
            "padding": null,
            "right": null,
            "top": null,
            "visibility": null,
            "width": null
          }
        },
        "707f8d8139d041baaa405090e6591751": {
          "model_module": "@jupyter-widgets/controls",
          "model_name": "ProgressStyleModel",
          "model_module_version": "1.5.0",
          "state": {
            "_model_module": "@jupyter-widgets/controls",
            "_model_module_version": "1.5.0",
            "_model_name": "ProgressStyleModel",
            "_view_count": null,
            "_view_module": "@jupyter-widgets/base",
            "_view_module_version": "1.2.0",
            "_view_name": "StyleView",
            "bar_color": null,
            "description_width": ""
          }
        },
        "3d5dc4aa1bd2447f81a49548442cd12f": {
          "model_module": "@jupyter-widgets/base",
          "model_name": "LayoutModel",
          "model_module_version": "1.2.0",
          "state": {
            "_model_module": "@jupyter-widgets/base",
            "_model_module_version": "1.2.0",
            "_model_name": "LayoutModel",
            "_view_count": null,
            "_view_module": "@jupyter-widgets/base",
            "_view_module_version": "1.2.0",
            "_view_name": "LayoutView",
            "align_content": null,
            "align_items": null,
            "align_self": null,
            "border": null,
            "bottom": null,
            "display": null,
            "flex": null,
            "flex_flow": null,
            "grid_area": null,
            "grid_auto_columns": null,
            "grid_auto_flow": null,
            "grid_auto_rows": null,
            "grid_column": null,
            "grid_gap": null,
            "grid_row": null,
            "grid_template_areas": null,
            "grid_template_columns": null,
            "grid_template_rows": null,
            "height": null,
            "justify_content": null,
            "justify_items": null,
            "left": null,
            "margin": null,
            "max_height": null,
            "max_width": null,
            "min_height": null,
            "min_width": null,
            "object_fit": null,
            "object_position": null,
            "order": null,
            "overflow": null,
            "overflow_x": null,
            "overflow_y": null,
            "padding": null,
            "right": null,
            "top": null,
            "visibility": null,
            "width": null
          }
        },
        "23f66a0683124f05bfccf7030666f921": {
          "model_module": "@jupyter-widgets/controls",
          "model_name": "DescriptionStyleModel",
          "model_module_version": "1.5.0",
          "state": {
            "_model_module": "@jupyter-widgets/controls",
            "_model_module_version": "1.5.0",
            "_model_name": "DescriptionStyleModel",
            "_view_count": null,
            "_view_module": "@jupyter-widgets/base",
            "_view_module_version": "1.2.0",
            "_view_name": "StyleView",
            "description_width": ""
          }
        }
      }
    }
  },
  "nbformat": 4,
  "nbformat_minor": 0
}