{
  "cells": [
    {
      "cell_type": "markdown",
      "metadata": {
        "id": "kpgM17hkpbDc"
      },
      "source": [
        "####**Package Installation**"
      ],
      "id": "kpgM17hkpbDc"
    },
    {
      "cell_type": "code",
      "execution_count": null,
      "metadata": {
        "id": "3c4e8a22"
      },
      "outputs": [],
      "source": [
        "import pandas as pd\n",
        "import numpy as np\n",
        "import seaborn as sb\n",
        "import matplotlib.pyplot as plt\n",
        "import xgboost as xgb\n",
        "from sklearn.preprocessing import OrdinalEncoder\n",
        "plt.style.use('fivethirtyeight')\n",
        "color_pal = sb.color_palette()\n"
      ],
      "id": "3c4e8a22"
    },
    {
      "cell_type": "markdown",
      "metadata": {
        "id": "wdjv2bGnNg20"
      },
      "source": [
        "####**Loading of Train and Test Data**"
      ],
      "id": "wdjv2bGnNg20"
    },
    {
      "cell_type": "code",
      "execution_count": null,
      "metadata": {
        "id": "fgXksF6ONb_j"
      },
      "outputs": [],
      "source": [
        "complete_data_train = pd.read_csv('train.csv')\n",
        "complete_data_train\n",
        "\n",
        "complete_data_test = pd.read_csv('test.csv')\n",
        "complete_data_test"
      ],
      "id": "fgXksF6ONb_j"
    },
    {
      "cell_type": "markdown",
      "metadata": {
        "id": "nZP9E1shNiDD"
      },
      "source": [
        "####**Changing Categorical Data to Numerical Data**"
      ],
      "id": "nZP9E1shNiDD"
    },
    {
      "cell_type": "code",
      "execution_count": null,
      "metadata": {
        "id": "BCgYu5SNzcH3"
      },
      "outputs": [],
      "source": [
        "ordinal_encod = OrdinalEncoder()\n",
        "\n",
        "complete_data_train[\"var2\"] = ordinal_encod.fit_transform(complete_data_train.var2.values.reshape(-1,1))\n",
        "complete_data_test[\"var2\"] = ordinal_encod.transform(complete_data_test.var2.values.reshape(-1,1))\n",
        "complete_data_test[\"var2\"].unique()"
      ],
      "id": "BCgYu5SNzcH3"
    },
    {
      "cell_type": "markdown",
      "metadata": {
        "id": "FdEmSsAHpvYP"
      },
      "source": [
        "####**Install xgboost**"
      ],
      "id": "FdEmSsAHpvYP"
    },
    {
      "cell_type": "code",
      "execution_count": null,
      "metadata": {
        "id": "PPN7yeigNhxI"
      },
      "outputs": [],
      "source": [
        "pip install xgboost"
      ],
      "id": "PPN7yeigNhxI"
    },
    {
      "cell_type": "markdown",
      "metadata": {
        "id": "1HI9XMY9QM7v"
      },
      "source": [
        "####**Electric Consumption Graph**"
      ],
      "id": "1HI9XMY9QM7v"
    },
    {
      "cell_type": "code",
      "execution_count": null,
      "metadata": {
        "id": "c2508bdb-ea4a-4d49-8b5a-537ce0c95746"
      },
      "outputs": [],
      "source": [
        "plot1 = complete_data_train['electricity_consumption'].plot(kind = 'hist' , bins = 500 ,color= color_pal[3])\n",
        "plot1"
      ],
      "id": "c2508bdb-ea4a-4d49-8b5a-537ce0c95746"
    },
    {
      "cell_type": "code",
      "execution_count": null,
      "metadata": {
        "id": "2fb01f7d-93c8-41fc-9ea5-6a627ddeed5f"
      },
      "outputs": [],
      "source": [
        "complete_data_train1 = complete_data_train.query('electricity_consumption < 180')\n",
        "\n",
        "complete_data_train = complete_data_train.query('electricity_consumption >= 180').copy()\n",
        "\n",
        "complete_data_train.query('electricity_consumption < 180')"
      ],
      "id": "2fb01f7d-93c8-41fc-9ea5-6a627ddeed5f"
    },
    {
      "cell_type": "code",
      "execution_count": null,
      "metadata": {
        "id": "afc04fe2-17f3-434f-af1b-e1e936e3e1b9"
      },
      "outputs": [],
      "source": [
        "complete_data_train2 = complete_data_train.query('electricity_consumption > 750')\n",
        "\n",
        "complete_data_train = complete_data_train.query('electricity_consumption <= 750').copy()\n",
        "\n",
        "complete_data_train.query('electricity_consumption > 750')\n",
        "\n",
        "complete_data_train.head()"
      ],
      "id": "afc04fe2-17f3-434f-af1b-e1e936e3e1b9"
    },
    {
      "cell_type": "code",
      "execution_count": null,
      "metadata": {
        "id": "m-38Mz677xXy"
      },
      "outputs": [],
      "source": [
        "plot2=complete_data_train[[\"datetime\",\"electricity_consumption\"]]\n",
        "plot2.plot(style='|',figsize=(16,4),color= color_pal[3],x=\"datetime\",y=\"electricity_consumption\",title='Electricity_consumption vs Date and Time ')\n",
        "plt.xlabel('Date and Time')\n",
        "plt.ylabel('Electricity Consumption Rate')\n",
        "plt.show()"
      ],
      "id": "m-38Mz677xXy"
    },
    {
      "cell_type": "code",
      "execution_count": null,
      "metadata": {
        "id": "6c9c3b56"
      },
      "outputs": [],
      "source": [
        "plot3=complete_data_train[[\"windspeed\",\"electricity_consumption\"]]\n",
        "plot3.plot(style='|',figsize=(12,3),color= color_pal[3],x=\"windspeed\",y=\"electricity_consumption\",title='Electricity_consumption vs Windspeed ')\n",
        "plt.xlabel('Windspeed')\n",
        "plt.ylabel('Electricity Consumption Rate')\n",
        "plt.show()"
      ],
      "id": "6c9c3b56"
    },
    {
      "cell_type": "code",
      "execution_count": null,
      "metadata": {
        "id": "87a652ed"
      },
      "outputs": [],
      "source": [
        "plot4=complete_data_train[[\"pressure\",\"electricity_consumption\"]]\n",
        "plot4.plot(style='|',figsize=(12,3),color= color_pal[3],x=\"pressure\",y=\"electricity_consumption\",title='Electricity Consumption vs Pressure')\n",
        "plt.xlabel('Pressure')\n",
        "plt.ylabel('Electricity Consumption Rate')\n",
        "plt.show()"
      ],
      "id": "87a652ed"
    },
    {
      "cell_type": "code",
      "execution_count": null,
      "metadata": {
        "id": "471a1579"
      },
      "outputs": [],
      "source": [
        "plot5=complete_data_train[[\"temperature\",\"electricity_consumption\"]]\n",
        "plot5.plot(style='|',figsize=(12,3),color= color_pal[3],x=\"temperature\",y=\"electricity_consumption\",title='Electricity Consumption VS Temperature ')\n",
        "plt.xlabel('Temperature')\n",
        "plt.ylabel('Electricity Consumption Rate')\n",
        "plt.show()"
      ],
      "id": "471a1579"
    },
    {
      "cell_type": "code",
      "execution_count": null,
      "metadata": {
        "id": "dc3cea24"
      },
      "outputs": [],
      "source": [
        "plot6=complete_data_train[[\"var1\",\"electricity_consumption\"]]\n",
        "plot6.plot(style='|',figsize=(12,3),color= color_pal[3],x=\"var1\",y=\"electricity_consumption\",title='electricity_consumption VS Var1')\n",
        "plt.xlabel('Var1')\n",
        "plt.ylabel('Electricity Consumption Rate')\n",
        "plt.show()"
      ],
      "id": "dc3cea24"
    },
    {
      "cell_type": "code",
      "execution_count": null,
      "metadata": {
        "id": "0dc9a750"
      },
      "outputs": [],
      "source": [
        "plot8=complete_data_train[[\"var2\",\"electricity_consumption\"]]\n",
        "plot8.plot(style='|',figsize=(12,3),color= color_pal[3],x=\"var2\",y=\"electricity_consumption\",title='electricity_consumption VS Var2')\n",
        "plt.xlabel('Var2')\n",
        "plt.ylabel('Electricity Consumption Rate')\n",
        "plt.show()"
      ],
      "id": "0dc9a750"
    },
    {
      "cell_type": "code",
      "execution_count": null,
      "metadata": {
        "id": "631677e4"
      },
      "outputs": [],
      "source": [
        "complete_data_train.tail()\n",
        "complete_data_train= complete_data_train.set_index('datetime')\n",
        "complete_data_train.index\n",
        "complete_data_train.tail()\n",
        "complete_data_train.index"
      ],
      "id": "631677e4"
    },
    {
      "cell_type": "code",
      "execution_count": null,
      "metadata": {
        "id": "02d020f7"
      },
      "outputs": [],
      "source": [
        "complete_data_train.index = pd.to_datetime(complete_data_train.index)"
      ],
      "id": "02d020f7"
    },
    {
      "cell_type": "code",
      "execution_count": null,
      "metadata": {
        "id": "8e137696"
      },
      "outputs": [],
      "source": [
        "complete_data_train['Year'] = complete_data_train.index.year\n",
        "complete_data_train['Quarter'] = complete_data_train.index.quarter\n",
        "complete_data_train['Month'] = complete_data_train.index.month\n",
        "complete_data_train['Week'] = complete_data_train.index.week\n",
        "complete_data_train['Days'] = complete_data_train.index.day\n",
        "complete_data_train['Hours'] = complete_data_train.index.hour\n",
        "\n",
        "complete_data_train.head()\n",
        "\n",
        "train = complete_data_train.loc[complete_data_train.index < '2016-01-01']\n",
        "\n",
        "test = complete_data_train.loc[complete_data_train.index >= '2016-01-01']\n",
        "\n",
        "complete_data_train.head()"
      ],
      "id": "8e137696"
    },
    {
      "cell_type": "markdown",
      "metadata": {
        "id": "aGtxetrBQm4T"
      },
      "source": [
        "####**Boxplot for Electric Consumption per Week**"
      ],
      "id": "aGtxetrBQm4T"
    },
    {
      "cell_type": "code",
      "execution_count": null,
      "metadata": {
        "id": "0de86d24"
      },
      "outputs": [],
      "source": [
        "import seaborn as sns\n",
        "fig , ax = plt.subplots(figsize=(17, 5))\n",
        "sns.boxplot(data=train, x='Week', y='electricity_consumption')\n",
        "ax.set_title(\"Electricity Consumption per Week\")\n",
        "plt.show()"
      ],
      "id": "0de86d24"
    },
    {
      "cell_type": "markdown",
      "metadata": {
        "id": "m-O-cdO_xE4z"
      },
      "source": [
        "####**Boxplot for Electric Consumption per Hour**"
      ],
      "id": "m-O-cdO_xE4z"
    },
    {
      "cell_type": "code",
      "execution_count": null,
      "metadata": {
        "id": "1c86c0d9"
      },
      "outputs": [],
      "source": [
        "fig , ax = plt.subplots(figsize=(9, 7))\n",
        "sb.boxplot(data=train, x='Hours', y='electricity_consumption')\n",
        "ax.set_title(\"Electricity Consumption per Hour\")\n",
        "plt.show()"
      ],
      "id": "1c86c0d9"
    },
    {
      "cell_type": "markdown",
      "metadata": {
        "id": "3CfQ_3vvQ4Ir"
      },
      "source": [
        "####**Boxplot for Electric Consumption per Month**"
      ],
      "id": "3CfQ_3vvQ4Ir"
    },
    {
      "cell_type": "code",
      "execution_count": null,
      "metadata": {
        "id": "026f9a25"
      },
      "outputs": [],
      "source": [
        "fig , ax = plt.subplots(figsize=(10, 5))\n",
        "sb.boxplot(data=train, x='Month', y='electricity_consumption')\n",
        "ax.set_title(\"Electricity Consumption per Month\")\n",
        "plt.show()"
      ],
      "id": "026f9a25"
    },
    {
      "cell_type": "markdown",
      "metadata": {
        "id": "oRkZTcvJKiG2"
      },
      "source": [
        "####**Split of Features**"
      ],
      "id": "oRkZTcvJKiG2"
    },
    {
      "cell_type": "code",
      "execution_count": null,
      "metadata": {
        "id": "779082c3"
      },
      "outputs": [],
      "source": [
        "x_train_features = [\"temperature\",\"pressure\",\"windspeed\",\"Year\",\"Quarter\",\"Month\",\"Week\",\"Days\",\"Hours\", \"var1\",\"var2\"]\n",
        "X_Train = train[x_train_features]\n",
        "\n",
        "y_train_features = [\"electricity_consumption\"]\n",
        "Y_Train  = train[y_train_features]\n",
        "\n",
        "x_test_features = [\"temperature\",\"pressure\",\"windspeed\",\"Year\",\"Quarter\",\"Month\",\"Week\",\"Days\",\"Hours\", \"var1\",\"var2\"]\n",
        "X_Test = test[x_test_features]\n",
        "\n",
        "y_test_features = [\"electricity_consumption\"]\n",
        "Y_Test  = test[y_test_features]"
      ],
      "id": "779082c3"
    },
    {
      "cell_type": "markdown",
      "metadata": {
        "id": "VS6X0PLkRw6e"
      },
      "source": [
        "###**XGBOOST MODEL**"
      ],
      "id": "VS6X0PLkRw6e"
    },
    {
      "cell_type": "code",
      "execution_count": null,
      "metadata": {
        "colab": {
          "background_save": true
        },
        "id": "2c1333d7"
      },
      "outputs": [],
      "source": [
        "from sklearn.metrics import mean_squared_error\n",
        "reg_xgb = xgb.XGBRegressor(n_estimators=10000,learning_rate=0.01)\n",
        "reg_xgb.fit(X_Train, Y_Train, eval_set =[(X_Train, Y_Train),(X_Test, Y_Test)], verbose=1000)"
      ],
      "id": "2c1333d7"
    },
    {
      "cell_type": "markdown",
      "metadata": {
        "id": "SXyEr_PJRB2o"
      },
      "source": [
        "####**RMSE**"
      ],
      "id": "SXyEr_PJRB2o"
    },
    {
      "cell_type": "code",
      "execution_count": null,
      "metadata": {
        "id": "977b5d02-cfb9-4e67-beb8-ff1ce9e0f369"
      },
      "outputs": [],
      "source": [
        "test['Prediction']=reg_xgb.predict(X_Test)\n",
        "\n",
        "test['electricity_consumption']-test['Prediction']\n",
        "\n",
        "rmse_score = np.sqrt(mean_squared_error(test['electricity_consumption'], test['Prediction']))\n",
        "\n",
        "print(rmse_score)"
      ],
      "id": "977b5d02-cfb9-4e67-beb8-ff1ce9e0f369"
    },
    {
      "cell_type": "markdown",
      "metadata": {
        "id": "ga9jLf0ARYIb"
      },
      "source": [
        "####**R2**"
      ],
      "id": "ga9jLf0ARYIb"
    },
    {
      "cell_type": "code",
      "execution_count": null,
      "metadata": {
        "id": "0de3eb1a-48e5-480e-ac63-86755a321ee8"
      },
      "outputs": [],
      "source": [
        "from sklearn.metrics import r2_score\n",
        "r2 = r2_score(test['electricity_consumption'],test['Prediction'])\n",
        "r2"
      ],
      "id": "0de3eb1a-48e5-480e-ac63-86755a321ee8"
    },
    {
      "cell_type": "markdown",
      "metadata": {
        "id": "NO8FERPbRm9v"
      },
      "source": [
        "####**Test Data Prediction**"
      ],
      "id": "NO8FERPbRm9v"
    },
    {
      "cell_type": "code",
      "execution_count": null,
      "metadata": {
        "id": "QhrltSBFR_Zy"
      },
      "outputs": [],
      "source": [
        "complete_data_test.tail()\n",
        "complete_data_test= complete_data_test.set_index('datetime')\n",
        "complete_data_test.index\n",
        "complete_data_test.tail()\n",
        "complete_data_test.index"
      ],
      "id": "QhrltSBFR_Zy"
    },
    {
      "cell_type": "code",
      "execution_count": null,
      "metadata": {
        "id": "jGr5uAAWXCMZ"
      },
      "outputs": [],
      "source": [
        "complete_data_test.index = pd.to_datetime(complete_data_test.index)"
      ],
      "id": "jGr5uAAWXCMZ"
    },
    {
      "cell_type": "code",
      "execution_count": null,
      "metadata": {
        "id": "TaOeFL5tXJf_"
      },
      "outputs": [],
      "source": [
        "complete_data_test['Year'] = complete_data_test.index.year\n",
        "complete_data_test['Quarter'] = complete_data_test.index.quarter\n",
        "complete_data_test['Month'] = complete_data_test.index.month\n",
        "complete_data_test['Week'] = complete_data_test.index.week\n",
        "complete_data_test['Days'] = complete_data_test.index.day\n",
        "complete_data_test['Hours'] = complete_data_test.index.hour\n",
        "\n",
        "complete_data_test.head()\n",
        "\n",
        "complete_data_test.index = pd.to_datetime(complete_data_test.index)\n",
        "\n",
        "complete_data_test.index\n",
        "\n",
        "complete_data_test.head()"
      ],
      "id": "TaOeFL5tXJf_"
    },
    {
      "cell_type": "code",
      "execution_count": null,
      "metadata": {
        "id": "MQBlerJpY_nr"
      },
      "outputs": [],
      "source": [
        "complete_data_test= complete_data_test[[\"Year\",\"Quarter\",\"Month\",\"Week\",\"Days\",\"Hours\",\"temperature\",\"pressure\",\"windspeed\",\"var1\",\"var2\"]]\n",
        "complete_data_test\n"
      ],
      "id": "MQBlerJpY_nr"
    },
    {
      "cell_type": "markdown",
      "metadata": {
        "id": "HaQr1BQtl_A3"
      },
      "source": [
        "####**Generate CSV File**"
      ],
      "id": "HaQr1BQtl_A3"
    },
    {
      "cell_type": "code",
      "execution_count": null,
      "metadata": {
        "id": "58czikmZcROi"
      },
      "outputs": [],
      "source": [
        "Csv1 = reg_xgb.predict(X_Test)\n",
        "\n",
        "Csv1 = pd.DataFrame(data=Csv1)\n",
        "Csv1.to_csv('XgBoost_Result.csv')"
      ],
      "id": "58czikmZcROi"
    },
    {
      "cell_type": "markdown",
      "metadata": {
        "id": "Ws8yJqLVSAFN"
      },
      "source": [
        "###**Random Forest Model**"
      ],
      "id": "Ws8yJqLVSAFN"
    },
    {
      "cell_type": "code",
      "execution_count": null,
      "metadata": {
        "id": "4izvkE6neUbn"
      },
      "outputs": [],
      "source": [
        "from sklearn.ensemble import RandomForestRegressor\n",
        "\n",
        "rf = RandomForestRegressor(n_estimators=1000, random_state=1)\n",
        "rf.fit(X_Train, Y_Train)\n",
        "print(rf.score(X_Train, Y_Train))"
      ],
      "id": "4izvkE6neUbn"
    },
    {
      "cell_type": "code",
      "execution_count": null,
      "metadata": {
        "id": "yKAAsAcafl_R"
      },
      "outputs": [],
      "source": [
        "y_pred = rf.predict(X_Test)\n"
      ],
      "id": "yKAAsAcafl_R"
    },
    {
      "cell_type": "code",
      "execution_count": null,
      "metadata": {
        "id": "FScGGpxBjwr8"
      },
      "outputs": [],
      "source": [
        "rf.score(X_Test, Y_Test)"
      ],
      "id": "FScGGpxBjwr8"
    },
    {
      "cell_type": "markdown",
      "source": [
        "#### **RMSE**"
      ],
      "metadata": {
        "id": "8vAtvIrKaqk8"
      },
      "id": "8vAtvIrKaqk8"
    },
    {
      "cell_type": "code",
      "execution_count": null,
      "metadata": {
        "id": "4aCY_BBbj8WA"
      },
      "outputs": [],
      "source": [
        "from math import sqrt\n",
        "rmse_score1 = sqrt(mean_squared_error(Y_Test, y_pred))\n",
        "print(rmse_score1)"
      ],
      "id": "4aCY_BBbj8WA"
    },
    {
      "cell_type": "markdown",
      "source": [
        "###**Linear Regression Model**"
      ],
      "metadata": {
        "id": "q6IexoEgXEW_"
      },
      "id": "q6IexoEgXEW_"
    },
    {
      "cell_type": "code",
      "execution_count": null,
      "metadata": {
        "id": "B53JRcdl2_kt"
      },
      "outputs": [],
      "source": [
        "from sklearn.linear_model import LinearRegression\n",
        "lr =LinearRegression()\n",
        "lr.fit(X_Train, Y_Train)\n",
        "print(lr.score(X_Train, Y_Train))"
      ],
      "id": "B53JRcdl2_kt"
    },
    {
      "cell_type": "markdown",
      "metadata": {
        "id": "o1RgE9cVljmD"
      },
      "source": [
        "####**Generate CSV File**"
      ],
      "id": "o1RgE9cVljmD"
    },
    {
      "cell_type": "code",
      "execution_count": null,
      "metadata": {
        "id": "CyKeuF4jf56m"
      },
      "outputs": [],
      "source": [
        "Csv2 = rf.predict(X_Test)\n",
        "\n",
        "Csv2 = pd.DataFrame(data=Csv2)\n",
        "Csv2.to_csv('RandomForest_Result.csv')"
      ],
      "id": "CyKeuF4jf56m"
    }
  ],
  "metadata": {
    "colab": {
      "provenance": [],
      "toc_visible": true
    },
    "kernelspec": {
      "display_name": "Python 3 (ipykernel)",
      "language": "python",
      "name": "python3"
    },
    "language_info": {
      "codemirror_mode": {
        "name": "ipython",
        "version": 3
      },
      "file_extension": ".py",
      "mimetype": "text/x-python",
      "name": "python",
      "nbconvert_exporter": "python",
      "pygments_lexer": "ipython3",
      "version": "3.9.7"
    }
  },
  "nbformat": 4,
  "nbformat_minor": 5
}