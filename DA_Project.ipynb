{
  "cells": [
    {
      "cell_type": "markdown",
      "metadata": {
        "id": "view-in-github",
        "colab_type": "text"
      },
      "source": [
        "<a href=\"https://colab.research.google.com/github/AyushaKakkad/AyushaKakkad.github.io/blob/master/DA_Project.ipynb\" target=\"_parent\"><img src=\"https://colab.research.google.com/assets/colab-badge.svg\" alt=\"Open In Colab\"/></a>"
      ]
    },
    {
      "cell_type": "markdown",
      "metadata": {
        "id": "0DHrVE48k2Ht"
      },
      "source": [
        "###**Installation Of Packages and Libraries**"
      ]
    },
    {
      "cell_type": "code",
      "source": [
        "!pip install tensorflow"
      ],
      "metadata": {
        "id": "C4bXiQPhGP67"
      },
      "execution_count": null,
      "outputs": []
    },
    {
      "cell_type": "code",
      "execution_count": null,
      "metadata": {
        "id": "CHeUeXzkTLjN"
      },
      "outputs": [],
      "source": [
        "import pandas as pd\n",
        "import numpy as np\n",
        "import matplotlib.pyplot as plt\n",
        "import nltk\n",
        "import re\n",
        "nltk.download('punkt')\n",
        "nltk.download(\"stopwords\")\n",
        "from nltk.tokenize import word_tokenize\n",
        "from nltk.corpus import stopwords\n",
        "from sklearn.model_selection import train_test_split\n",
        "from sklearn.feature_extraction.text import CountVectorizer\n",
        "from sklearn.linear_model import LogisticRegression\n",
        "from sklearn.metrics import accuracy_score,classification_report\n",
        "from sklearn.naive_bayes import ComplementNB\n",
        "from sklearn.svm import SVC\n",
        "from sklearn.tree import DecisionTreeClassifier\n",
        "import tensorflow as tf\n",
        "from tensorflow.keras.preprocessing.text import Tokenizer"
      ]
    },
    {
      "cell_type": "code",
      "execution_count": null,
      "metadata": {
        "id": "GcECWXUAdu2a"
      },
      "outputs": [],
      "source": [
        "from google.colab import drive\n",
        "\n",
        "# Mount Google Drive\n",
        "drive.mount('/content/drive')"
      ]
    },
    {
      "cell_type": "markdown",
      "metadata": {
        "id": "LexkjzRMlfiL"
      },
      "source": [
        "###**Loading of Dataset**"
      ]
    },
    {
      "cell_type": "code",
      "execution_count": null,
      "metadata": {
        "id": "qdTDeC59mjf6"
      },
      "outputs": [],
      "source": [
        "!wget -O review.json \"https://figshare.com/ndownloader/files/41333352\"           #review yelp dataset\n",
        "!wget -O business.json \"https://figshare.com/ndownloader/files/41402280\"         #business yelp dataset"
      ]
    },
    {
      "cell_type": "markdown",
      "metadata": {
        "id": "rbnngjJTYWrq"
      },
      "source": [
        "###**Reading Dataset**"
      ]
    },
    {
      "cell_type": "code",
      "execution_count": 5,
      "metadata": {
        "id": "3HdB5JfSQyFs"
      },
      "outputs": [],
      "source": [
        "data2_business = pd.read_json(\"/content/business.json\",lines = True)"
      ]
    },
    {
      "cell_type": "code",
      "execution_count": 6,
      "metadata": {
        "id": "BlpkCgzLR1qL"
      },
      "outputs": [],
      "source": [
        "data4_review = []\n",
        "r_dtypes = {\"stars\": np.int32,\n",
        "            \"useful\": np.int32,\n",
        "            \"funny\": np.int32,\n",
        "            \"cool\": np.int32,\n",
        "           }\n",
        "with open(\"review.json\", \"r\") as f:\n",
        "    review = pd.read_json(f, lines=True,\n",
        "                          dtype=r_dtypes, chunksize=1000)\n",
        "\n",
        "    for chunk in review:\n",
        "        reduced_chunk = chunk.drop(columns=['useful','cool','funny'])\n",
        "        data4_review.append(reduced_chunk)\n",
        "\n",
        "data4_review = pd.concat(data4_review, ignore_index=True)"
      ]
    },
    {
      "cell_type": "markdown",
      "metadata": {
        "id": "QXRZFakJYp4y"
      },
      "source": [
        "###**Calling Dataset**"
      ]
    },
    {
      "cell_type": "code",
      "execution_count": null,
      "metadata": {
        "id": "rpfQOxQrBgmb"
      },
      "outputs": [],
      "source": [
        "data2_business"
      ]
    },
    {
      "cell_type": "code",
      "execution_count": null,
      "metadata": {
        "id": "f2vJZYs52chD"
      },
      "outputs": [],
      "source": [
        "data4_review"
      ]
    },
    {
      "cell_type": "markdown",
      "metadata": {
        "id": "rD4gDvo_lHms"
      },
      "source": [
        "###**Pre-Processing Steps**"
      ]
    },
    {
      "cell_type": "markdown",
      "metadata": {
        "id": "wLAvhKfneByT"
      },
      "source": [
        "####Drop unwanted columns"
      ]
    },
    {
      "cell_type": "code",
      "execution_count": null,
      "metadata": {
        "id": "Q_L8-S_VabS2"
      },
      "outputs": [],
      "source": [
        "drop_column = ['longitude','latitude']\n",
        "data2_business = data2_business.drop(drop_column,axis=1)\n",
        "data2_business"
      ]
    },
    {
      "cell_type": "code",
      "execution_count": null,
      "metadata": {
        "id": "zv-g3fiOwUt0"
      },
      "outputs": [],
      "source": [
        "data2_business = data2_business.drop(data2_business[data2_business['is_open']==0].index)\n",
        "data2_business"
      ]
    },
    {
      "cell_type": "code",
      "execution_count": null,
      "metadata": {
        "id": "JXYSDs6rnCx4"
      },
      "outputs": [],
      "source": [
        "drop_column = ['attributes','hours']\n",
        "combined_review_business = combined_review_business.drop(drop_column,axis=1)\n",
        "combined_review_business"
      ]
    },
    {
      "cell_type": "markdown",
      "metadata": {
        "id": "dfOlUFWrKJdf"
      },
      "source": [
        "####Short Listing Top 15 categories"
      ]
    },
    {
      "cell_type": "code",
      "execution_count": 11,
      "metadata": {
        "id": "GXvnZubGoR3l"
      },
      "outputs": [],
      "source": [
        "data2_business_category = data2_business.assign(categories = data2_business.categories\n",
        "                          .str.split(', ')).explode('categories')"
      ]
    },
    {
      "cell_type": "code",
      "execution_count": null,
      "metadata": {
        "id": "4WR_nvyEwt_h"
      },
      "outputs": [],
      "source": [
        "print(\"Top 15 categories are:\")\n",
        "top15_business_category = data2_business_category['categories'].value_counts().head(15)\n",
        "top15_business_category"
      ]
    },
    {
      "cell_type": "code",
      "execution_count": 13,
      "metadata": {
        "id": "bHpzz-UE6liv"
      },
      "outputs": [],
      "source": [
        "top15_business_category = data2_business.categories.value_counts()[:15].index.tolist()"
      ]
    },
    {
      "cell_type": "markdown",
      "metadata": {
        "id": "4LfDe2rEQTW9"
      },
      "source": [
        "####Filtering dataset based on top 15 categories"
      ]
    },
    {
      "cell_type": "code",
      "execution_count": 14,
      "metadata": {
        "id": "GWhJbK8M3yWH"
      },
      "outputs": [],
      "source": [
        "filtered_data2_business = data2_business[data2_business.categories.isin(top15_business_category)]"
      ]
    },
    {
      "cell_type": "markdown",
      "metadata": {
        "id": "_duOpQyBY_NG"
      },
      "source": [
        "####Merge Business and Review Dataframe"
      ]
    },
    {
      "cell_type": "code",
      "execution_count": 15,
      "metadata": {
        "id": "H3DMRYwi3GHT"
      },
      "outputs": [],
      "source": [
        "combined_review_business = pd.merge(data4_review, filtered_data2_business, on='business_id',how='inner')"
      ]
    },
    {
      "cell_type": "code",
      "execution_count": null,
      "metadata": {
        "id": "WE3buMQWRgCq"
      },
      "outputs": [],
      "source": [
        "combined_review_business"
      ]
    },
    {
      "cell_type": "code",
      "execution_count": null,
      "metadata": {
        "id": "-m9fEIaZF9fu"
      },
      "outputs": [],
      "source": [
        "combined_review_business = combined_review_business.rename(columns={'stars_x': 'review_stars'})\n",
        "combined_review_business = combined_review_business.rename(columns={'stars_y': 'business_stars'})\n",
        "combined_review_business['business_stars'] = combined_review_business['business_stars'].astype(int)\n",
        "combined_review_business"
      ]
    },
    {
      "cell_type": "markdown",
      "metadata": {
        "id": "LYAGz96cVNEL"
      },
      "source": [
        "#### Calculate Review Text Length"
      ]
    },
    {
      "cell_type": "code",
      "execution_count": null,
      "metadata": {
        "id": "mMTH1YtpUaFa"
      },
      "outputs": [],
      "source": [
        "combined_review_business['text length']= combined_review_business['text'].apply(len)\n",
        "combined_review_business.sample(2)\n",
        "combined_review_business = combined_review_business[combined_review_business['text length'] <= 1000].copy()\n",
        "combined_review_business"
      ]
    },
    {
      "cell_type": "markdown",
      "metadata": {
        "id": "Ys3lRJ3AVxI9"
      },
      "source": [
        "####Exploratory Data Analysis"
      ]
    },
    {
      "cell_type": "code",
      "execution_count": null,
      "metadata": {
        "id": "YcD14IslkZvE"
      },
      "outputs": [],
      "source": [
        "plt.figure(figsize=(10,5))\n",
        "combined_review_business['review_stars'].value_counts().plot(kind='bar',alpha=0.5,color='blue',label='ratings')\n",
        "plt.legend()\n",
        "plt.xlabel(\"Review Stars\")\n",
        "plt.ylabel(\"Reviews Count\")\n",
        "plt.title('BarChart for Star Reviews vs Reviews Count')\n",
        "plt.yscale('log')\n",
        "plt.show()"
      ]
    },
    {
      "cell_type": "code",
      "source": [
        "plt.figure(figsize=(10, 5))\n",
        "combined_review_business.groupby('state')['review_stars'].value_counts().unstack().plot(kind='bar', stacked=True, alpha=0.7)\n",
        "plt.legend(title='Review Stars')\n",
        "plt.xlabel(\"State\")\n",
        "plt.ylabel(\"Reviews Count\")\n",
        "plt.title('Bar Chart for Star Reviews vs Geographic Location')\n",
        "plt.show()"
      ],
      "metadata": {
        "id": "-GwY1BktRzoR"
      },
      "execution_count": null,
      "outputs": []
    },
    {
      "cell_type": "code",
      "execution_count": null,
      "metadata": {
        "id": "sAffSd6lsCPH"
      },
      "outputs": [],
      "source": [
        "plt.figure(figsize=(12,5))\n",
        "combined_review_business[combined_review_business['review_stars']==1]['text length'].plot(bins=35,alpha=0.5,kind='hist',color='red',label='rating 1')\n",
        "plt.legend()\n",
        "plt.title('Histogram for 1 Star Reviews vs Text Length')\n",
        "plt.xlabel('Text length')\n",
        "plt.show()"
      ]
    },
    {
      "cell_type": "code",
      "execution_count": null,
      "metadata": {
        "id": "SzFMioxXxInp"
      },
      "outputs": [],
      "source": [
        "plt.figure(figsize=(12,5))\n",
        "combined_review_business[combined_review_business['review_stars']==2]['text length'].plot(bins=35,alpha=0.5,kind='hist',color='red',label='rating 2')\n",
        "plt.legend()\n",
        "plt.title('Histogram for 2 Star Reviews vs Text Length')\n",
        "plt.xlabel('Text length')\n",
        "plt.show()"
      ]
    },
    {
      "cell_type": "code",
      "execution_count": null,
      "metadata": {
        "id": "ejqOdJg-xLL6"
      },
      "outputs": [],
      "source": [
        "plt.figure(figsize=(12,5))\n",
        "combined_review_business[combined_review_business['review_stars']==3]['text length'].plot(bins=35,alpha=0.5,kind='hist',color='red',label='rating 3')\n",
        "plt.legend()\n",
        "plt.title('Histogram for 3 Star Reviews vs Text Length')\n",
        "plt.xlabel('Text length')\n",
        "plt.show()"
      ]
    },
    {
      "cell_type": "code",
      "execution_count": null,
      "metadata": {
        "id": "Sr-60cU4xL8F"
      },
      "outputs": [],
      "source": [
        "plt.figure(figsize=(12,5))\n",
        "combined_review_business[combined_review_business['review_stars']==4]['text length'].plot(bins=35,alpha=0.5,kind='hist',color='red',label='rating 4')\n",
        "plt.legend()\n",
        "plt.title('Histogram for 4 Star Reviews vs Text Length')\n",
        "plt.xlabel('Text length')\n",
        "plt.show()"
      ]
    },
    {
      "cell_type": "code",
      "execution_count": null,
      "metadata": {
        "id": "e5e1Euf7xM6T"
      },
      "outputs": [],
      "source": [
        "plt.figure(figsize=(12,5))\n",
        "combined_review_business[combined_review_business['review_stars']==5]['text length'].plot(bins=35,alpha=0.5,kind='hist',color='red',label='rating 5')\n",
        "plt.legend()\n",
        "plt.title('Histogram for 5 Star Reviews vs Text Length')\n",
        "plt.xlabel('Text length')\n",
        "plt.show()"
      ]
    },
    {
      "cell_type": "markdown",
      "metadata": {
        "id": "sbffQomgWNnR"
      },
      "source": [
        "####LowerCase Reviews Text"
      ]
    },
    {
      "cell_type": "code",
      "execution_count": null,
      "metadata": {
        "id": "j5YO0kU-2zmd"
      },
      "outputs": [],
      "source": [
        "combined_review_business['text'] = combined_review_business['text'].str.lower()\n",
        "combined_review_business"
      ]
    },
    {
      "cell_type": "markdown",
      "metadata": {
        "id": "6h3O4WuVWep8"
      },
      "source": [
        "####Function to remove punctuations,special characters,tokenization,remove stopwords"
      ]
    },
    {
      "cell_type": "code",
      "execution_count": 33,
      "metadata": {
        "id": "H_w7zlIjA51s"
      },
      "outputs": [],
      "source": [
        "def spaces_remove(text):\n",
        "    '''Removes awkward spaces'''\n",
        "    text = text.strip()\n",
        "    text = text.split()\n",
        "    return \" \".join(text)\n",
        "\n",
        "def puncClean(text):\n",
        "    '''function to clean the word of any punctuation or special characters'''\n",
        "    clean_punc = re.sub(r'[?|!|\\'|\"|#]',r'',text)\n",
        "    clean_punc = re.sub(r'[.|,|)|(|\\|/]',r' ',clean_punc)\n",
        "    clean_punc = clean_punc.strip()\n",
        "    clean_punc = clean_punc.replace(\"\\n\",\" \")\n",
        "    return clean_punc\n",
        "\n",
        "def keepAlphabets(text):\n",
        "    alphabet_sent = \"\"\n",
        "    for word in text.split():\n",
        "        alphabet_word = re.sub('[^a-z A-Z]+', ' ', word)\n",
        "        alphabet_sent += alphabet_word\n",
        "        alphabet_sent += \" \"\n",
        "    alphabet_sent = alphabet_sent.strip()\n",
        "    return alphabet_sent\n",
        "\n",
        "def stopwordRemove(text):\n",
        "    words = nltk.word_tokenize(text)\n",
        "\n",
        "# Getting english words list\n",
        "    stop_words = set(stopwords.words('english'))\n",
        "# Eliminating stop words\n",
        "    filtered_words = [word for word in words if word.lower() not in stop_words]\n",
        "# Combine the filtered words to a sentence\n",
        "    filtered_sentence = ' '.join(filtered_words)\n",
        "    return filtered_sentence\n",
        "\n",
        "def text_preprocess(text):\n",
        "    '''Cleaning and parsing the text.'''\n",
        "    text = spaces_remove(text)\n",
        "    text = puncClean(text)\n",
        "    text = keepAlphabets(text)\n",
        "    text = stopwordRemove(text)\n",
        "    return text"
      ]
    },
    {
      "cell_type": "code",
      "execution_count": 34,
      "metadata": {
        "id": "KWR9oz67G9pu"
      },
      "outputs": [],
      "source": [
        "combined_review_business['text'] = combined_review_business['text'].apply(text_preprocess)"
      ]
    },
    {
      "cell_type": "code",
      "execution_count": null,
      "metadata": {
        "id": "p3iLZ_Z-XHXE"
      },
      "outputs": [],
      "source": [
        "combined_review_business.head()"
      ]
    },
    {
      "cell_type": "markdown",
      "source": [
        "####Drop Null Rows"
      ],
      "metadata": {
        "id": "9n1fx7c2xViG"
      }
    },
    {
      "cell_type": "code",
      "source": [
        "df_cleaned = combined_review_business.dropna(how='any')"
      ],
      "metadata": {
        "id": "MiZo2-aYumUR"
      },
      "execution_count": 36,
      "outputs": []
    },
    {
      "cell_type": "code",
      "execution_count": null,
      "metadata": {
        "id": "LGSKXS_OGMgv"
      },
      "outputs": [],
      "source": [
        "print(\"Missing values in df_cleaned:\")\n",
        "print(df_cleaned.isnull().sum())\n"
      ]
    },
    {
      "cell_type": "markdown",
      "metadata": {
        "id": "sKLq7GOQWVQj"
      },
      "source": [
        "####Generate Plutchiks Wheel of Emotions Column in Dataframe"
      ]
    },
    {
      "cell_type": "code",
      "execution_count": 38,
      "metadata": {
        "id": "m5Mgazmby83b"
      },
      "outputs": [],
      "source": [
        "emotion_list = ['joy','trust','fear','surprise','sadness','anticipation','anger','disgust','neutral']\n"
      ]
    },
    {
      "cell_type": "code",
      "execution_count": 39,
      "metadata": {
        "id": "g3DfRhzcbByP"
      },
      "outputs": [],
      "source": [
        "def idx2class(idx_list):\n",
        "    arr = []\n",
        "    for i in range(0,idx_list):\n",
        "        arr.append(emotion_list[int(i)])\n",
        "    return arr"
      ]
    },
    {
      "cell_type": "code",
      "execution_count": 40,
      "metadata": {
        "id": "RYpVnoxRb63T"
      },
      "outputs": [],
      "source": [
        "combined_review_business['Emotions'] = combined_review_business['review_stars'].apply(idx2class)"
      ]
    },
    {
      "cell_type": "code",
      "execution_count": null,
      "metadata": {
        "id": "LXJoyZcKVcBP"
      },
      "outputs": [],
      "source": [
        "combined_review_business['Emotions'].head()"
      ]
    },
    {
      "cell_type": "markdown",
      "metadata": {
        "id": "MaPrfWi9Wvzh"
      },
      "source": [
        "####Assign Sentiments to the Dataframe based on Review Stars"
      ]
    },
    {
      "cell_type": "code",
      "execution_count": 44,
      "metadata": {
        "id": "XzsRAHkXF8E-"
      },
      "outputs": [],
      "source": [
        "strong_positive=[]\n",
        "positive = []\n",
        "strong_negative = []\n",
        "neutral = []\n",
        "negative=[]\n",
        "\n",
        "strong_positive_reviews=combined_review_business[combined_review_business['review_stars']==5]['text']\n",
        "positive_reviews=combined_review_business[combined_review_business['review_stars']==4]['text']\n",
        "neutral_reviews=combined_review_business[combined_review_business['review_stars']==3]['text']\n",
        "negative_reviews=combined_review_business[combined_review_business['review_stars']==2]['text']\n",
        "strong_negative_reviews=combined_review_business[combined_review_business['review_stars']==1]['text']"
      ]
    },
    {
      "cell_type": "markdown",
      "metadata": {
        "id": "USrgYgDNW4PS"
      },
      "source": [
        "####WordCloud based on Sentiments"
      ]
    },
    {
      "cell_type": "markdown",
      "source": [
        "Strong Positive Review(5 Star Reviews)"
      ],
      "metadata": {
        "id": "vCyeuY6myyly"
      }
    },
    {
      "cell_type": "code",
      "execution_count": null,
      "metadata": {
        "id": "-MOWN7n1N8tv"
      },
      "outputs": [],
      "source": [
        "from wordcloud import WordCloud\n",
        "pos_review_cloud=WordCloud(width=600,height=400).generate(\" \".join(strong_positive_reviews))\n",
        "plt.figure(figsize=(10,8),facecolor='k')\n",
        "plt.imshow(pos_review_cloud)\n",
        "plt.axis('off')\n",
        "plt.tight_layout(pad=0)\n",
        "plt.show()"
      ]
    },
    {
      "cell_type": "markdown",
      "source": [
        "Positive Sentiment Review(4 Star Reviews)"
      ],
      "metadata": {
        "id": "AxgIllb6xg3w"
      }
    },
    {
      "cell_type": "code",
      "execution_count": null,
      "metadata": {
        "id": "nTmQ-gavP4Hi"
      },
      "outputs": [],
      "source": [
        "from wordcloud import WordCloud\n",
        "pos_review_cloud=WordCloud(width=600,height=400).generate(\" \".join(positive_reviews))\n",
        "plt.figure(figsize=(10,8),facecolor='k')\n",
        "plt.imshow(pos_review_cloud)\n",
        "plt.axis('off')\n",
        "plt.tight_layout(pad=0)\n",
        "plt.show()"
      ]
    },
    {
      "cell_type": "markdown",
      "source": [
        "Neutral Sentiment(3 Star Reviews)"
      ],
      "metadata": {
        "id": "AtZW02z4zGd-"
      }
    },
    {
      "cell_type": "code",
      "execution_count": null,
      "metadata": {
        "id": "w90o21a4N_la"
      },
      "outputs": [],
      "source": [
        "from wordcloud import WordCloud\n",
        "pos_review_cloud=WordCloud(width=600,height=400).generate(\" \".join(neutral_reviews))\n",
        "plt.figure(figsize=(10,8),facecolor='k')\n",
        "plt.imshow(pos_review_cloud)\n",
        "plt.axis('off')\n",
        "plt.tight_layout(pad=0)\n",
        "plt.show()"
      ]
    },
    {
      "cell_type": "markdown",
      "source": [
        "Negative Sentiment(2 Star Reviews)"
      ],
      "metadata": {
        "id": "Ji9FI0ntzQy0"
      }
    },
    {
      "cell_type": "code",
      "execution_count": null,
      "metadata": {
        "id": "YdGZJzafOAdl"
      },
      "outputs": [],
      "source": [
        "from wordcloud import WordCloud\n",
        "pos_review_cloud=WordCloud(width=600,height=400).generate(\" \".join(negative_reviews))\n",
        "plt.figure(figsize=(10,8),facecolor='k')\n",
        "plt.imshow(pos_review_cloud)\n",
        "plt.axis('off')\n",
        "plt.tight_layout(pad=0)\n",
        "plt.show()"
      ]
    },
    {
      "cell_type": "markdown",
      "source": [
        "Strong Negative Sentiment(1 Star Reviews)"
      ],
      "metadata": {
        "id": "IxCwfSC2zjzp"
      }
    },
    {
      "cell_type": "code",
      "execution_count": null,
      "metadata": {
        "id": "_yMvAxiKOBCW"
      },
      "outputs": [],
      "source": [
        "from wordcloud import WordCloud\n",
        "pos_review_cloud=WordCloud(width=600,height=400).generate(\" \".join(strong_negative_reviews))\n",
        "plt.figure(figsize=(10,8),facecolor='k')\n",
        "plt.imshow(pos_review_cloud)\n",
        "plt.axis('off')\n",
        "plt.tight_layout(pad=0)\n",
        "plt.show()"
      ]
    },
    {
      "cell_type": "markdown",
      "metadata": {
        "id": "s-GSusfdi8Xf"
      },
      "source": [
        "Save Dataset"
      ]
    },
    {
      "cell_type": "code",
      "execution_count": 45,
      "metadata": {
        "id": "QT-4WZgCQcyQ"
      },
      "outputs": [],
      "source": [
        "combined_review_business.to_parquet('/content/drive/MyDrive/Colab Notebooks/preprocessed_data.parquet')"
      ]
    },
    {
      "cell_type": "code",
      "execution_count": 4,
      "metadata": {
        "id": "OQ4i2d1Ui5Uj"
      },
      "outputs": [],
      "source": [
        "combined_review_business=pd.read_parquet('/content/drive/MyDrive/Colab Notebooks/preprocessed_data.parquet')"
      ]
    },
    {
      "cell_type": "markdown",
      "metadata": {
        "id": "NjDeOmwoXR0i"
      },
      "source": [
        "####Train and Test Split"
      ]
    },
    {
      "cell_type": "code",
      "execution_count": 5,
      "metadata": {
        "id": "maaXPLHpTaRD"
      },
      "outputs": [],
      "source": [
        "y=combined_review_business['review_stars']\n",
        "x=combined_review_business['text']"
      ]
    },
    {
      "cell_type": "code",
      "execution_count": 6,
      "metadata": {
        "id": "H_0cJT662B3R"
      },
      "outputs": [],
      "source": [
        "x_train,x_test,y_train,y_test=train_test_split(x,y,test_size=0.2)"
      ]
    },
    {
      "cell_type": "code",
      "execution_count": null,
      "metadata": {
        "id": "7L1hE5P92Hf5"
      },
      "outputs": [],
      "source": [
        "print(\"x_train shape :\",x_train.shape)\n",
        "print(\"x_test shape  :\",x_test.shape)\n",
        "print(\"y_train shape :\",y_train.shape)\n",
        "print(\"y_test shape  :\",y_test.shape)"
      ]
    },
    {
      "cell_type": "markdown",
      "metadata": {
        "id": "rMb5m_jy3Ge_"
      },
      "source": [
        "###**Implementation of Models**"
      ]
    },
    {
      "cell_type": "markdown",
      "metadata": {
        "id": "AfvfY5h1XG5W"
      },
      "source": [
        "###Machine Learning Techniques"
      ]
    },
    {
      "cell_type": "markdown",
      "metadata": {
        "id": "vq_DCUJrgADS"
      },
      "source": [
        "####Logistic Regression"
      ]
    },
    {
      "cell_type": "code",
      "execution_count": null,
      "metadata": {
        "id": "v51ge2xv5gaF"
      },
      "outputs": [],
      "source": [
        "cv=CountVectorizer()\n",
        "lr=LogisticRegression(random_state = 123)\n",
        "x_train1=cv.fit_transform(x_train)\n",
        "x_test1 = cv.transform(x_test)\n",
        "lr.fit(x_train1,y_train)\n",
        "pred_1=lr.predict(x_test1)\n",
        "score_1=accuracy_score(y_test,pred_1)"
      ]
    },
    {
      "cell_type": "markdown",
      "source": [
        "####Cross Validation of Logistic Regression"
      ],
      "metadata": {
        "id": "T5lBMr0z0M47"
      }
    },
    {
      "cell_type": "code",
      "execution_count": null,
      "metadata": {
        "id": "g8rdU-63VWKl"
      },
      "outputs": [],
      "source": [
        "from sklearn.model_selection import StratifiedKFold, cross_val_score\n",
        "stratified_kfold = StratifiedKFold(n_splits=10, shuffle=True, random_state=123)\n",
        "scores = cross_val_score(lr, x_train1, y_train, cv=stratified_kfold, scoring=\"accuracy\")"
      ]
    },
    {
      "cell_type": "code",
      "execution_count": null,
      "metadata": {
        "id": "P_Vf1rvWXKhV"
      },
      "outputs": [],
      "source": [
        "print(\"Cross-Validation Scores:\", scores)\n",
        "print(\"Average CV Score:\", scores.mean())"
      ]
    },
    {
      "cell_type": "code",
      "execution_count": null,
      "metadata": {
        "id": "6oQCEV6FGUNL"
      },
      "outputs": [],
      "source": [
        "classification_rep = classification_report(y_test, pred_1)\n",
        "\n",
        "print(\"Accuracy:\", score_1)\n",
        "print(\"Classification Report:\\n\", classification_rep)"
      ]
    },
    {
      "cell_type": "markdown",
      "metadata": {
        "id": "hieTp5evf7un"
      },
      "source": [
        "####Naive Bais Classifier"
      ]
    },
    {
      "cell_type": "code",
      "execution_count": 83,
      "metadata": {
        "id": "oY0Ka6lJfu30"
      },
      "outputs": [],
      "source": [
        "cv=CountVectorizer()\n",
        "nb=ComplementNB()\n",
        "x_train1=cv.fit_transform(x_train)\n",
        "nb.fit(x_train1,y_train)\n",
        "pred_2=nb.predict(cv.transform(x_test))\n",
        "score_2=accuracy_score(y_test,pred_2)"
      ]
    },
    {
      "cell_type": "code",
      "execution_count": null,
      "metadata": {
        "id": "oA10iWrtGmtl"
      },
      "outputs": [],
      "source": [
        "classification_rep2 = classification_report(y_test, pred_2)\n",
        "\n",
        "print(\"Accuracy:\", score_2)\n",
        "print(\"Classification Report:\\n\", classification_rep2)"
      ]
    },
    {
      "cell_type": "markdown",
      "source": [
        "Cross Validation of Naive Bayes Classifier"
      ],
      "metadata": {
        "id": "iXQoUwgf2yxR"
      }
    },
    {
      "cell_type": "code",
      "source": [
        "from sklearn.model_selection import StratifiedKFold, cross_val_score\n",
        "stratified_kfold = StratifiedKFold(n_splits=10, shuffle=True, random_state=42)\n",
        "scores = cross_val_score(nb, x_train1, y_train, cv=stratified_kfold, scoring=\"accuracy\")\n",
        "\n",
        "print(\"Cross-Validation Scores:\", scores)\n",
        "print(\"Average CV Score:\", scores.mean())"
      ],
      "metadata": {
        "id": "yZOlDc-I0mUW"
      },
      "execution_count": null,
      "outputs": []
    },
    {
      "cell_type": "markdown",
      "metadata": {
        "id": "BsQdLojogirE"
      },
      "source": [
        "####Support Vector Machine(SVM)"
      ]
    },
    {
      "cell_type": "code",
      "execution_count": null,
      "metadata": {
        "id": "aZ8RoqVvgDKu"
      },
      "outputs": [],
      "source": [
        "cv=CountVectorizer()\n",
        "svm=SVC()\n",
        "x_train2=cv.fit_transform(x_train)\n",
        "svm.fit(x_train2,y_train)\n",
        "pred_3=svm.predict(cv.transform(x_test))\n",
        "score_3=accuracy_score(y_test,pred_3)"
      ]
    },
    {
      "cell_type": "markdown",
      "source": [
        "####Cross Validation of SVM"
      ],
      "metadata": {
        "id": "f5uVwyX0s27Y"
      }
    },
    {
      "cell_type": "code",
      "source": [
        "from sklearn.model_selection import StratifiedKFold, cross_val_score\n",
        "stratified_kfold1 = StratifiedKFold(n_splits=10, shuffle=True, random_state=123)\n",
        "scores = cross_val_score(svm, x_train2, y_train, cv=stratified_kfold1, scoring=\"accuracy\")\n",
        "\n",
        "print(\"Cross-Validation Scores:\", scores)\n",
        "print(\"Average CV Score:\", scores.mean())"
      ],
      "metadata": {
        "id": "tyuZsNr72whH"
      },
      "execution_count": null,
      "outputs": []
    },
    {
      "cell_type": "code",
      "execution_count": null,
      "metadata": {
        "id": "CY1ttyjsGsm-"
      },
      "outputs": [],
      "source": [
        "classification_rep3 = classification_report(y_test, pred_3)\n",
        "\n",
        "print(\"Accuracy:\", score_3)\n",
        "print(\"Classification Report:\\n\", classification_rep3)"
      ]
    },
    {
      "cell_type": "markdown",
      "metadata": {
        "id": "G_qi-RxkTgI2"
      },
      "source": [
        "####Decision Tree"
      ]
    },
    {
      "cell_type": "code",
      "execution_count": 8,
      "metadata": {
        "id": "OV3ZEJmKTfj_"
      },
      "outputs": [],
      "source": [
        "cv = CountVectorizer()\n",
        "dt=DecisionTreeClassifier(random_state=42)\n",
        "x_train3=cv.fit_transform(x_train)\n",
        "dt.fit(x_train3,y_train)\n",
        "pred_4=dt.predict(cv.transform(x_test))\n",
        "score_4=accuracy_score(y_test,pred_4)"
      ]
    },
    {
      "cell_type": "markdown",
      "source": [
        "####Cross Validation of Decision Tree"
      ],
      "metadata": {
        "id": "l5XqaLhJs_01"
      }
    },
    {
      "cell_type": "code",
      "source": [
        "from sklearn.model_selection import StratifiedKFold, cross_val_score\n",
        "stratified_kfold = StratifiedKFold(n_splits=10, shuffle=True, random_state=42)\n",
        "scores = cross_val_score(dt, x_train3, y_train, cv=stratified_kfold, scoring=\"accuracy\")\n",
        "\n",
        "print(\"Cross-Validation Scores:\", scores)\n",
        "print(\"Average CV Score:\", scores.mean())"
      ],
      "metadata": {
        "id": "gRXFn_jpV7L8"
      },
      "execution_count": null,
      "outputs": []
    },
    {
      "cell_type": "code",
      "execution_count": null,
      "metadata": {
        "id": "CfqGBniXG41m"
      },
      "outputs": [],
      "source": [
        "classification_rep4 = classification_report(y_test, pred_4)\n",
        "print(\"Accuracy:\", score_4)\n",
        "print(\"Classification Report:\\n\", classification_rep4)"
      ]
    },
    {
      "cell_type": "markdown",
      "metadata": {
        "id": "ePi5al67TjfM"
      },
      "source": [
        "#### K-Nearest Neighbor"
      ]
    },
    {
      "cell_type": "code",
      "source": [
        "from sklearn.neighbors import KNeighborsClassifier\n",
        "\n",
        "cv = CountVectorizer()\n",
        "x_train4 = cv.fit_transform(x_train)\n",
        "knn = KNeighborsClassifier(n_neighbors=3)\n",
        "knn.fit(x_train4, y_train)\n",
        "pred_5=knn.predict(cv.transform(x_test))\n",
        "score_5 = accuracy_score(y_test, pred_5)"
      ],
      "metadata": {
        "id": "R7hKtYe3JGEj"
      },
      "execution_count": 11,
      "outputs": []
    },
    {
      "cell_type": "code",
      "source": [
        "from sklearn.model_selection import StratifiedKFold, cross_val_score\n",
        "stratified_kfold = StratifiedKFold(n_splits=10, shuffle=True, random_state=42)\n",
        "scores = cross_val_score(knn, x_train4, y_train, cv=stratified_kfold, scoring=\"accuracy\")\n",
        "\n",
        "print(\"Cross-Validation Scores:\", scores)\n",
        "print(\"Average CV Score:\", scores.mean())"
      ],
      "metadata": {
        "id": "V_YLgXMSiKyD"
      },
      "execution_count": null,
      "outputs": []
    },
    {
      "cell_type": "code",
      "execution_count": null,
      "metadata": {
        "id": "9jaImYraHCxP"
      },
      "outputs": [],
      "source": [
        "classification_rep5 = classification_report(y_test, pred_5)\n",
        "print(\"Accuracy:\", score_5)\n",
        "print(\"Classification Report:\\n\", classification_rep5)"
      ]
    },
    {
      "cell_type": "markdown",
      "metadata": {
        "id": "0qO1smdnE_Yu"
      },
      "source": [
        "####Ensemble Learning Technique - Random Forest"
      ]
    },
    {
      "cell_type": "code",
      "execution_count": null,
      "metadata": {
        "id": "KacpL7xWFM08"
      },
      "outputs": [],
      "source": [
        "from sklearn.ensemble import RandomForestClassifier\n",
        "\n",
        "cv = CountVectorizer()\n",
        "\n",
        "x_train5 = cv.fit_transform(x_train)\n",
        "\n",
        "rfc = RandomForestClassifier(random_state=42)\n",
        "rfc.fit(x_train5, y_train)\n",
        "pred_6=rfc.predict(cv.transform(x_test))\n",
        "accuracy = accuracy_score(y_test, pred_6)\n",
        "report = classification_report(y_test, pred_6)\n",
        "\n",
        "print(\"Accuracy:\", accuracy)\n",
        "print(\"Classification Report:\\n\", report)\n"
      ]
    },
    {
      "cell_type": "markdown",
      "source": [
        "####Cross Validation of Random Forest"
      ],
      "metadata": {
        "id": "ChO-ipFztIhf"
      }
    },
    {
      "cell_type": "code",
      "source": [
        "from sklearn.model_selection import StratifiedKFold, cross_val_score\n",
        "stratified_kfold = StratifiedKFold(n_splits=10, shuffle=True, random_state=42)\n",
        "scores = cross_val_score(knn, x_train4, y_train, cv=stratified_kfold, scoring=\"accuracy\")\n",
        "\n",
        "print(\"Cross-Validation Scores:\", scores)\n",
        "print(\"Average CV Score:\", scores.mean())"
      ],
      "metadata": {
        "id": "rf0Tfajuom0I"
      },
      "execution_count": null,
      "outputs": []
    },
    {
      "cell_type": "markdown",
      "metadata": {
        "id": "oWBcU0mUEosM"
      },
      "source": [
        "####Lexicon Based Technique - NRCLex"
      ]
    },
    {
      "cell_type": "code",
      "execution_count": null,
      "metadata": {
        "id": "Hxz_67ktFNkD"
      },
      "outputs": [],
      "source": [
        "!pip install NRCLex"
      ]
    },
    {
      "cell_type": "code",
      "source": [
        "from nrclex import NRCLex\n",
        "combined_review_business['emotions'] = combined_review_business['text'].apply(lambda x: NRCLex(x).affect_frequencies)"
      ],
      "metadata": {
        "id": "ym4IaWz4jE3u"
      },
      "execution_count": null,
      "outputs": []
    },
    {
      "cell_type": "code",
      "source": [
        "combined_review_business = pd.concat([combined_review_business.drop(['emotions'], axis = 1), combined_review_business['emotions'].apply(pd.Series)], axis = 1)\n",
        "combined_review_business.head()"
      ],
      "metadata": {
        "id": "-bTEerYIlaGl"
      },
      "execution_count": null,
      "outputs": []
    },
    {
      "cell_type": "markdown",
      "metadata": {
        "id": "OWnZ6-XZE0bL"
      },
      "source": [
        "####Deep Learning Technique - LSTM"
      ]
    },
    {
      "cell_type": "code",
      "source": [
        "vocab_size = 10000\n",
        "embedding_dim = 64\n",
        "max_length = 1000\n",
        "trunc_type = 'post'\n",
        "padding_type = 'post'\n",
        "oov_tok = '<OOV>'"
      ],
      "metadata": {
        "id": "B5rXgfvGbns7"
      },
      "execution_count": 8,
      "outputs": []
    },
    {
      "cell_type": "code",
      "source": [
        "tokenizer = Tokenizer(num_words = vocab_size, oov_token=oov_tok)\n",
        "tokenizer.fit_on_texts(x_train)"
      ],
      "metadata": {
        "id": "XJQxMvzxbwKa"
      },
      "execution_count": 9,
      "outputs": []
    },
    {
      "cell_type": "code",
      "source": [
        "x_train = tokenizer.texts_to_sequences(x_train)\n",
        "x_test = tokenizer.texts_to_sequences(x_test)\n",
        "\n",
        "x_train = tf.keras.preprocessing.sequence.pad_sequences(x_train, padding=padding_type, truncating=trunc_type, maxlen=max_length)\n",
        "x_test = tf.keras.preprocessing.sequence.pad_sequences(x_test, padding=padding_type, truncating=trunc_type, maxlen=max_length)\n"
      ],
      "metadata": {
        "id": "5Hsb3pDNbzAK"
      },
      "execution_count": 10,
      "outputs": []
    },
    {
      "cell_type": "code",
      "execution_count": null,
      "metadata": {
        "id": "Mhb0xfEzFOgu"
      },
      "outputs": [],
      "source": [
        "model = tf.keras.Sequential([\n",
        "tf.keras.layers.Embedding(vocab_size, embedding_dim),\n",
        "tf.keras.layers.LSTM(embedding_dim,  return_sequences=True),\n",
        "tf.keras.layers.LSTM(64),\n",
        "tf.keras.layers.Dense(embedding_dim, activation='relu'),\n",
        "tf.keras.layers.Dropout(0.5),\n",
        "tf.keras.layers.Dense(1,activation='sigmoid')\n",
        "])\n",
        "\n",
        "model.summary()"
      ]
    },
    {
      "cell_type": "code",
      "source": [
        "early_stop = tf.keras.callbacks.EarlyStopping(monitor='val_loss', patience=2, restore_best_weights=True)\n",
        "model.compile(loss=tf.keras.losses.BinaryCrossentropy(from_logits=True),\n",
        "              optimizer=tf.keras.optimizers.Adam(0.001),\n",
        "              metrics=['accuracy'])\n",
        "\n",
        "history = model.fit(x_train, y_train, epochs=10,validation_split=0.1, batch_size=64, shuffle=True, callbacks=[early_stop])"
      ],
      "metadata": {
        "id": "cj6n4B8X-bCl"
      },
      "execution_count": null,
      "outputs": []
    },
    {
      "cell_type": "code",
      "execution_count": null,
      "metadata": {
        "id": "XafBJtUHH18-"
      },
      "outputs": [],
      "source": [
        "history_dict = history.history\n",
        "\n",
        "score_5 = history_dict['accuracy']\n",
        "val_accuracy = history_dict['val_accuracy']\n",
        "loss1 = history_dict['loss']\n",
        "val_loss1 = history_dict['val_loss']\n",
        "epoch1 = history.epoch\n",
        "\n",
        "plt.figure(figsize=(10,6))\n",
        "plt.plot(epoch1, loss1, 'r', label='Training loss')\n",
        "plt.plot(epoch1, val_loss1, 'b', label='Validation loss')\n",
        "plt.title('Training and validation loss', size=15)\n",
        "plt.xlabel('Epochs', size=15)\n",
        "plt.ylabel('Loss', size=15)\n",
        "plt.legend(prop={'size': 15})\n",
        "plt.show()\n",
        "\n",
        "plt.figure(figsize=(10,6))\n",
        "plt.plot(epoch1, score_5, 'g', label='Training acc')\n",
        "plt.plot(epoch1, val_accuracy, 'b', label='Validation acc')\n",
        "plt.title('Training and validation accuracy', size=15)\n",
        "plt.xlabel('Epochs', size=15)\n",
        "plt.ylabel('Accuracy', size=15)\n",
        "plt.legend(prop={'size': 15})\n",
        "plt.ylim((0.5,1))\n",
        "plt.show()"
      ]
    },
    {
      "cell_type": "code",
      "execution_count": null,
      "metadata": {
        "id": "NBDJRHaIIEyh"
      },
      "outputs": [],
      "source": [
        "model.evaluate(x_test, y_test)"
      ]
    },
    {
      "cell_type": "code",
      "source": [
        "pred_5 = model.predict(x_test)"
      ],
      "metadata": {
        "id": "pxxbAWfzM1Pc"
      },
      "execution_count": null,
      "outputs": []
    },
    {
      "cell_type": "markdown",
      "metadata": {
        "id": "miCDUCZwE7Pi"
      },
      "source": [
        "####Pretrained Model - BERT"
      ]
    },
    {
      "cell_type": "code",
      "execution_count": null,
      "metadata": {
        "id": "LKLwekFHFPZn"
      },
      "outputs": [],
      "source": [
        "! pip install transformers"
      ]
    },
    {
      "cell_type": "code",
      "source": [
        "import locale\n",
        "def getpreferredencoding(do_setlocale = True):\n",
        "    return \"UTF-8\"\n",
        "locale.getpreferredencoding = getpreferredencoding\n",
        "!pip install transformers >> NULL"
      ],
      "metadata": {
        "id": "dDw9qIMB-5Py"
      },
      "execution_count": 6,
      "outputs": []
    },
    {
      "cell_type": "code",
      "source": [
        "from sklearn.model_selection import train_test_split\n",
        "\n",
        "# Your code here\n",
        "train, validate, test = None, None, None\n",
        "train, test = train_test_split(combined_review_business,random_state=104, test_size=0.40, stratify = combined_review_business[\"review_stars\"], shuffle=True)\n",
        "test , val = train_test_split(combined_review_business,random_state=104, test_size=0.50, stratify = combined_review_business[\"review_stars\"], shuffle=True)"
      ],
      "metadata": {
        "id": "WcFT4jdNDa0y"
      },
      "execution_count": 7,
      "outputs": []
    },
    {
      "cell_type": "code",
      "source": [
        "!pip install transformers[torch]"
      ],
      "metadata": {
        "id": "4reYZqu2Kns7"
      },
      "execution_count": null,
      "outputs": []
    },
    {
      "cell_type": "code",
      "source": [
        "pip install accelerate==0.20.1"
      ],
      "metadata": {
        "id": "qafQ5TWpK49p"
      },
      "execution_count": null,
      "outputs": []
    },
    {
      "cell_type": "code",
      "source": [
        "from transformers import Trainer, TrainingArguments\n",
        "import accelerate\n",
        "from transformers import AutoTokenizer, AutoModelForSequenceClassification, TrainingArguments, Trainer\n",
        "import accelerate"
      ],
      "metadata": {
        "id": "0RI4P561Ljgz"
      },
      "execution_count": 13,
      "outputs": []
    },
    {
      "cell_type": "code",
      "source": [
        "from sklearn.preprocessing import LabelEncoder\n",
        "import torch\n",
        "from torch.utils.data import Dataset\n",
        "from transformers import AutoTokenizer\n",
        "from transformers import AutoModelForSequenceClassification\n",
        "from transformers import Trainer\n",
        "from transformers import TrainingArguments\n",
        "import numpy as np\n",
        "\n",
        "le = LabelEncoder()\n",
        "\n",
        "# 2. Fit the label encoder to the label in our dataset\n",
        "le.fit(train[\"review_stars\"])\n",
        "\n",
        "# 3. Create a new column with encoded labels\n",
        "train[\"encoded_label\"] = le.transform(train[\"review_stars\"])\n",
        "val[\"encoded_label\"] = le.transform(val[\"review_stars\"])\n",
        "test[\"encoded_label\"] = le.transform(test[\"review_stars\"])\n",
        "\n",
        "train_labels = torch.tensor(train[\"encoded_label\"].tolist())\n",
        "val_labels = torch.tensor(val[\"encoded_label\"].tolist())\n",
        "test_labels = torch.tensor(test[\"encoded_label\"].tolist())\n",
        "\n",
        "tokenizer = AutoTokenizer.from_pretrained(\"distilbert-base-uncased\")\n",
        "\n",
        "train_encodings = tokenizer(\n",
        "  train[\"text\"].tolist(),\n",
        "  padding=True,           # pad all inputs to max length\n",
        "  max_length=24,         # Bert max is 512, we choose 24 for computational efficiency\n",
        "  return_tensors=\"pt\",    # Return format pytorch tensor\n",
        "  truncation=True\n",
        ")\n",
        "\n",
        "train_encodings.keys()\n",
        "train_encodings\n",
        "\n",
        "val_encodings = tokenizer(\n",
        "    val[\"text\"].tolist(),\n",
        "    padding=True,           # pad all inputs to max length\n",
        "    max_length=24,         # Bert max is 512, we choose 24 for computational efficiency\n",
        "    return_tensors=\"pt\",    # Return format pytorch tensor\n",
        "    truncation=True\n",
        ")\n",
        "\n",
        "test_encodings = tokenizer(\n",
        "    test[\"text\"].tolist(),\n",
        "    padding=True,           # pad all inputs to max length\n",
        "    max_length=24,         # Bert max is 512, we choose 24 for computational efficiency\n",
        "    return_tensors=\"pt\",    # Return format pytorch tensor\n",
        "    truncation=True\n",
        ")\n",
        "\n",
        "class RelationDataset(Dataset):\n",
        "\n",
        "    def __init__(self, encodings: dict):\n",
        "        self.encodings = encodings\n",
        "\n",
        "    def __len__(self) -> int:\n",
        "        return len(self.encodings[\"input_ids\"])\n",
        "\n",
        "    def __getitem__(self, idx: int) -> dict:\n",
        "        e = {k: v[idx] for k,v in self.encodings.items()}\n",
        "        return e\n",
        "\n",
        "\n",
        "# Update encodings with labels\n",
        "train_encodings[\"labels\"] = train_labels\n",
        "val_encodings[\"labels\"] = val_labels\n",
        "test_encodings[\"labels\"] = test_labels\n",
        "\n",
        "# Generate Datasets\n",
        "train_ds = RelationDataset(train_encodings)\n",
        "val_ds = RelationDataset(val_encodings)\n",
        "test_ds = RelationDataset(test_encodings)\n",
        "\n",
        "model = AutoModelForSequenceClassification.from_pretrained(\"distilbert-base-uncased\", num_labels=7)\n",
        "\n",
        "training_args = TrainingArguments(\n",
        "    output_dir=\"./results\",\n",
        "    num_train_epochs=3,\n",
        "    evaluation_strategy=\"epoch\",\n",
        "    save_strategy=\"epoch\",\n",
        "    lr_scheduler_type='cosine',\n",
        "    per_device_train_batch_size = 16,\n",
        "    per_device_eval_batch_size = 16,\n",
        "    fp16=False,\n",
        ")\n",
        "\n",
        "trainer = Trainer(\n",
        "    model,\n",
        "    training_args,\n",
        "    train_dataset=train_ds,\n",
        "    eval_dataset=val_ds,\n",
        ")\n",
        "\n",
        "trainer.train()\n",
        "\n",
        "preds = trainer.predict(test_ds)\n",
        "print(preds)\n",
        "\n",
        "\n",
        "preds = le.inverse_transform(np.argmax(preds.predictions, axis=1))\n",
        "print(classification_report(test[\"review_stars\"].tolist(), preds))"
      ],
      "metadata": {
        "id": "pktMd76L-5tg"
      },
      "execution_count": null,
      "outputs": []
    },
    {
      "cell_type": "markdown",
      "metadata": {
        "id": "XlM___pYFZpH"
      },
      "source": [
        "####References\n",
        "\n",
        "1) Tensorflow Install: https://www.tensorflow.org/install/pip\n",
        "\n",
        "2) Count Vectorizer: https://scikit-learn.org/stable/modules/generated/sklearn.feature_extraction.text.CountVectorizer.html\n",
        "\n",
        "3) Logistic Regression Classifier: https://scikit-learn.org/stable/modules/generated/sklearn.linear_model.LogisticRegression.html\n",
        "\n",
        "4) Naive Bayes Classifier: https://scikit-learn.org/stable/modules/naive_bayes.html#complement-naive-bayes\n",
        "\n",
        "5) Support Vector Machine Classifier: https://scikit-learn.org/stable/modules/generated/sklearn.svm.SVC.html\n",
        "\n",
        "6) Load Dataframe to Parquet File: https://pandas.pydata.org/docs/reference/api/pandas.DataFrame.to_parquet.html\n",
        "\n",
        "7) Read Dataframe: https://pandas.pydata.org/docs/reference/api/pandas.read_parquet.html\n",
        "\n",
        "8) Decision Tree Classifier: https://scikit-learn.org/stable/modules/generated/sklearn.tree.DecisionTreeClassifier.html\n",
        "\n",
        "9) KNN Classifier: https://scikit-learn.org/stable/modules/generated/sklearn.neighbors.KNeighborsClassifier.html\n",
        "\n",
        "10) Error faced during emotion list creation: https://stackoverflow.com/questions/1841565/valueerror-invalid-literal-for-int-with-base-10\n",
        "\n",
        "11) Fit Model Error: https://datascience.stackexchange.com/questions/20199/train-test-split-error-found-input-variables-with-inconsistent-numbers-of-sam\n",
        "\n",
        "12) Advanced Natural Language Processing Lab 4 Material.\n",
        "\n",
        "13) Advanced Natural Language Processing Notes-Opinion Mining I\n",
        "Emotion Analysis, Taught by Dr. Paul Buitelaar & Dr. Omnia Zayed\n",
        "\n",
        "14) Advanced Natural Language Processing Assignment 1,Taught by Dr. Paul Buitelaar & Dr. Omnia Zayed."
      ]
    }
  ],
  "metadata": {
    "accelerator": "GPU",
    "colab": {
      "machine_shape": "hm",
      "provenance": [],
      "gpuType": "V100",
      "authorship_tag": "ABX9TyN665qmPb2U2GtDpMpTgSqa",
      "include_colab_link": true
    },
    "kernelspec": {
      "display_name": "Python 3",
      "name": "python3"
    },
    "language_info": {
      "name": "python"
    }
  },
  "nbformat": 4,
  "nbformat_minor": 0
}